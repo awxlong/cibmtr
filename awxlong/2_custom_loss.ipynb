{
 "cells": [
  {
   "cell_type": "markdown",
   "metadata": {
    "execution": {
     "iopub.execute_input": "2024-12-10T06:44:59.875459Z",
     "iopub.status.busy": "2024-12-10T06:44:59.874634Z",
     "iopub.status.idle": "2024-12-10T06:45:28.125023Z",
     "shell.execute_reply": "2024-12-10T06:45:28.123748Z",
     "shell.execute_reply.started": "2024-12-10T06:44:59.875387Z"
    },
    "trusted": true
   },
   "source": [
    "# Original notebook:\n",
    "https://www.kaggle.com/code/takanashihumbert/cibmtr-using-official-metric-in-tree-based-models/notebook"
   ]
  },
  {
   "cell_type": "code",
   "execution_count": 24,
   "metadata": {
    "execution": {
     "iopub.execute_input": "2024-12-10T06:45:43.061047Z",
     "iopub.status.busy": "2024-12-10T06:45:43.060393Z",
     "iopub.status.idle": "2024-12-10T06:45:43.067555Z",
     "shell.execute_reply": "2024-12-10T06:45:43.066738Z",
     "shell.execute_reply.started": "2024-12-10T06:45:43.061012Z"
    },
    "trusted": true
   },
   "outputs": [
    {
     "name": "stdout",
     "output_type": "stream",
     "text": [
      "we are using xgboost == 2.1.3\n"
     ]
    }
   ],
   "source": [
    "import numpy as np, pandas as pd\n",
    "import matplotlib.pyplot as plt\n",
    "import seaborn as sns\n",
    "from colorama import Fore, Back, Style\n",
    "\n",
    "from sklearn.model_selection import StratifiedKFold, train_test_split\n",
    "from sklearn.preprocessing import StandardScaler, RobustScaler, MinMaxScaler, LabelEncoder\n",
    "import os, glob, math, gc, warnings, random, joblib\n",
    "from sklearn.metrics import roc_auc_score\n",
    "\n",
    "from catboost import CatBoostClassifier, Pool, CatBoostRegressor\n",
    "from xgboost import XGBRegressor, XGBClassifier\n",
    "import xgboost as xgb\n",
    "print(\"we are using xgboost ==\", xgb.__version__)\n",
    "from lightgbm import LGBMRegressor, callback\n",
    "\n",
    "from lifelines.utils import concordance_index\n",
    "from lifelines import KaplanMeierFitter\n",
    "\n",
    "import pdb\n",
    "\n",
    "warnings.filterwarnings(\"ignore\")\n",
    "pd.set_option('display.max_columns', 500)\n",
    "pd.set_option('display.max_rows', 500)"
   ]
  },
  {
   "cell_type": "code",
   "execution_count": 25,
   "metadata": {
    "execution": {
     "iopub.execute_input": "2024-12-10T06:45:48.24552Z",
     "iopub.status.busy": "2024-12-10T06:45:48.24517Z",
     "iopub.status.idle": "2024-12-10T06:45:48.25547Z",
     "shell.execute_reply": "2024-12-10T06:45:48.254582Z",
     "shell.execute_reply.started": "2024-12-10T06:45:48.245489Z"
    },
    "trusted": true
   },
   "outputs": [],
   "source": [
    "class ParticipantVisibleError(Exception):\n",
    "    pass\n",
    "\n",
    "\n",
    "def custom_score(solution, submission, row_id_column_name, prediction_label='prediction', print_info=True):\n",
    "    \n",
    "    del solution[row_id_column_name]\n",
    "    del submission[row_id_column_name]\n",
    "    \n",
    "    event_label = 'efs'\n",
    "    interval_label = 'efs_time'\n",
    "    \n",
    "    for col in submission.columns:\n",
    "        if not pd.api.types.is_numeric_dtype(submission[col]):\n",
    "            raise ParticipantVisibleError(f'Submission column {col} must be a number')\n",
    "    # Merging solution and submission dfs on ID\n",
    "    merged_df = pd.concat([solution, submission], axis=1)\n",
    "    merged_df.reset_index(inplace=True)\n",
    "    merged_df_race_dict = dict(merged_df.groupby(['race_group']).groups)\n",
    "    metric_dict = {}\n",
    "    for race in sorted(merged_df_race_dict.keys()):\n",
    "        # Retrieving values from y_test based on index\n",
    "        indices = sorted(merged_df_race_dict[race])\n",
    "        merged_df_race = merged_df.iloc[indices]\n",
    "        # Calculate the concordance index\n",
    "        c_index_race = concordance_index(\n",
    "                        merged_df_race[interval_label],\n",
    "                        -merged_df_race[prediction_label],\n",
    "                        merged_df_race[event_label])\n",
    "\n",
    "        metric_dict[race] = c_index_race\n",
    "\n",
    "    race_c_index = list(metric_dict.values())\n",
    "    c_score = float(np.mean(race_c_index) - np.std(race_c_index))\n",
    "    if print_info:\n",
    "        print(f\"{Fore.GREEN}{Style.BRIGHT}# c-index={c_score:.4f}, mean={np.mean(race_c_index):.4f} std={np.std(race_c_index):.4f}{Style.RESET_ALL}\")\n",
    "    \n",
    "    return c_score, metric_dict\n",
    "\n",
    "\n",
    "def display_overall(df):\n",
    "    \n",
    "    race_groups = [\n",
    "        'American Indian or Alaska Native', 'Asian',\n",
    "       'Black or African-American', 'More than one race',\n",
    "       'Native Hawaiian or other Pacific Islander', 'White'\n",
    "    ]\n",
    "    df['mean'] = df[race_groups].mean(axis=1)\n",
    "    df['std'] = np.std(df[race_groups], axis=1)\n",
    "    df['score'] = df['mean'] - df['std']\n",
    "    df = df.T\n",
    "    df['Overall'] = df.mean(axis=1)\n",
    "    temp = df.drop(index=['std']).values\n",
    "    display(df\n",
    "            .iloc[:len(race_groups)]\n",
    "            .style\n",
    "            .format(precision=4)\n",
    "            .background_gradient(axis=None, vmin=temp.min(), vmax=temp.max(), cmap=\"cool\")\n",
    "            .concat(df.iloc[len(race_groups):].style.format(precision=3))\n",
    "           )\n"
   ]
  },
  {
   "cell_type": "markdown",
   "metadata": {},
   "source": [
    "# Load Train and Test"
   ]
  },
  {
   "cell_type": "code",
   "execution_count": 26,
   "metadata": {
    "_cell_guid": "b1076dfc-b9ad-4769-8c92-a6c4dae69d19",
    "_uuid": "8f2839f25d086af736a60e9eeb907d3b93b6e0e5",
    "execution": {
     "iopub.execute_input": "2024-12-10T06:45:48.958627Z",
     "iopub.status.busy": "2024-12-10T06:45:48.957939Z",
     "iopub.status.idle": "2024-12-10T06:45:49.287763Z",
     "shell.execute_reply": "2024-12-10T06:45:49.28684Z",
     "shell.execute_reply.started": "2024-12-10T06:45:48.95859Z"
    },
    "trusted": true
   },
   "outputs": [
    {
     "name": "stdout",
     "output_type": "stream",
     "text": [
      "Test shape: (1057, 60)\n",
      "Balanced Test shape: (2880, 60)\n",
      "Train shape: (25920, 60)\n"
     ]
    }
   ],
   "source": [
    "test = pd.read_csv(\"../preprocessed_data/custom_test_0.1_imbalanced.csv\")\n",
    "print(\"Test shape:\", test.shape )\n",
    "\n",
    "test_balanced = pd.read_csv(\"../preprocessed_data/custom_test_0.1_balanced.csv\")\n",
    "print(\"Balanced Test shape:\", test_balanced.shape )\n",
    "\n",
    "train = pd.read_csv(\"../preprocessed_data/custom_train_0.9_balanced.csv\")\n",
    "print(\"Train shape:\",train.shape)"
   ]
  },
  {
   "cell_type": "code",
   "execution_count": 27,
   "metadata": {
    "execution": {
     "iopub.execute_input": "2024-12-10T06:45:49.936711Z",
     "iopub.status.busy": "2024-12-10T06:45:49.935964Z",
     "iopub.status.idle": "2024-12-10T06:45:49.941283Z",
     "shell.execute_reply": "2024-12-10T06:45:49.940427Z",
     "shell.execute_reply.started": "2024-12-10T06:45:49.936677Z"
    },
    "trusted": true
   },
   "outputs": [],
   "source": [
    "def transform_survival_probability(df, time_col='efs_time', event_col='efs'):\n",
    "    \"\"\"\n",
    "    Transform using survival probability estimates\n",
    "    \"\"\"\n",
    "    kmf = KaplanMeierFitter()\n",
    "    kmf.fit(df[time_col], df[event_col])\n",
    "    y = kmf.survival_function_at_times(df[time_col]).values\n",
    "    \n",
    "    return y"
   ]
  },
  {
   "cell_type": "markdown",
   "metadata": {},
   "source": [
    "# Let's substract 0.1 instead of 0.2 from the Kaplan Meier survival scores "
   ]
  },
  {
   "cell_type": "code",
   "execution_count": 28,
   "metadata": {
    "execution": {
     "iopub.execute_input": "2024-12-10T06:45:50.340453Z",
     "iopub.status.busy": "2024-12-10T06:45:50.340144Z",
     "iopub.status.idle": "2024-12-10T06:45:50.697919Z",
     "shell.execute_reply": "2024-12-10T06:45:50.69707Z",
     "shell.execute_reply.started": "2024-12-10T06:45:50.340393Z"
    },
    "trusted": true
   },
   "outputs": [
    {
     "name": "stderr",
     "output_type": "stream",
     "text": [
      "No artists with labels found to put in legend.  Note that artists whose label start with an underscore are ignored when legend() is called with no argument.\n"
     ]
    },
    {
     "data": {
      "image/png": "[encoded data removed]",
      "text/plain": [
       "<Figure size 640x480 with 1 Axes>"
      ]
     },
     "metadata": {},
     "output_type": "display_data"
    }
   ],
   "source": [
    "SUBTRACT_KP_SCORE = 0.15\n",
    "\n",
    "train[\"label\"] = transform_survival_probability(train, time_col='efs_time', event_col='efs')\n",
    "train.loc[train['efs']==0, 'label'] -= SUBTRACT_KP_SCORE # or -0.1 according to other notebook\n",
    "\n",
    "test['label'] = transform_survival_probability(test, time_col='efs_time', event_col='efs')\n",
    "test.loc[test['efs']==0, 'label'] -= SUBTRACT_KP_SCORE # or -0.1 according to other notebook\n",
    "test_balanced['label'] = transform_survival_probability(test_balanced, time_col='efs_time', event_col='efs')\n",
    "test_balanced.loc[test_balanced['efs']==0, 'label'] -= SUBTRACT_KP_SCORE # or -0.1 according to other notebook\n",
    "\n",
    "sns.histplot(data=train, x='label', hue='efs', element='step', common_norm=False)\n",
    "plt.legend(title='efs')\n",
    "plt.title('Distribution of Target by EFS')\n",
    "plt.xlabel('Target')\n",
    "plt.ylabel('Density')\n",
    "plt.show()"
   ]
  },
  {
   "cell_type": "markdown",
   "metadata": {},
   "source": [
    "# Let's convert year_hct to year_hct_from_baseline to avoid a big difference in scale"
   ]
  },
  {
   "cell_type": "code",
   "execution_count": 29,
   "metadata": {},
   "outputs": [],
   "source": [
    "MIN_YEAR = train['year_hct'].min() # 2008\n",
    "train['year_hct_relative'] = train['year_hct'] - MIN_YEAR\n",
    "train.drop(columns=['year_hct'], inplace=True)\n",
    "\n",
    "test['year_hct_relative'] = test['year_hct'] - MIN_YEAR\n",
    "test.drop(columns=['year_hct'], inplace=True)   \n",
    "\n",
    "test_balanced['year_hct_relative'] = test_balanced['year_hct'] - MIN_YEAR   \n",
    "test_balanced.drop(columns=['year_hct'], inplace=True)  \n"
   ]
  },
  {
   "cell_type": "code",
   "execution_count": 30,
   "metadata": {
    "execution": {
     "iopub.execute_input": "2024-12-10T06:45:52.769417Z",
     "iopub.status.busy": "2024-12-10T06:45:52.769048Z",
     "iopub.status.idle": "2024-12-10T06:45:52.774899Z",
     "shell.execute_reply": "2024-12-10T06:45:52.773877Z",
     "shell.execute_reply.started": "2024-12-10T06:45:52.769363Z"
    },
    "trusted": true
   },
   "outputs": [
    {
     "name": "stdout",
     "output_type": "stream",
     "text": [
      "There are 57 FEATURES: ['dri_score', 'psych_disturb', 'cyto_score', 'diabetes', 'hla_match_c_high', 'hla_high_res_8', 'tbi_status', 'arrhythmia', 'hla_low_res_6', 'graft_type', 'vent_hist', 'renal_issue', 'pulm_severe', 'prim_disease_hct', 'hla_high_res_6', 'cmv_status', 'hla_high_res_10', 'hla_match_dqb1_high', 'tce_imm_match', 'hla_nmdp_6', 'hla_match_c_low', 'rituximab', 'hla_match_drb1_low', 'hla_match_dqb1_low', 'prod_type', 'cyto_score_detail', 'conditioning_intensity', 'ethnicity', 'obesity', 'mrd_hct', 'in_vivo_tcd', 'tce_match', 'hla_match_a_high', 'hepatic_severe', 'donor_age', 'prior_tumor', 'hla_match_b_low', 'peptic_ulcer', 'age_at_hct', 'hla_match_a_low', 'gvhd_proph', 'rheum_issue', 'sex_match', 'hla_match_b_high', 'race_group', 'comorbidity_score', 'karnofsky_score', 'hepatic_mild', 'tce_div_match', 'donor_related', 'melphalan_dose', 'hla_low_res_8', 'cardiac', 'hla_match_drb1_high', 'pulm_moderate', 'hla_low_res_10', 'year_hct_relative']\n"
     ]
    }
   ],
   "source": [
    "RMV = [\"ID\",\"efs\",\"efs_time\",\"label\",'y','kfold']\n",
    "FEATURES = [c for c in train.columns if not c in RMV]\n",
    "print(f\"There are {len(FEATURES)} FEATURES: {FEATURES}\")"
   ]
  },
  {
   "cell_type": "code",
   "execution_count": 31,
   "metadata": {
    "execution": {
     "iopub.execute_input": "2024-12-10T06:45:53.095326Z",
     "iopub.status.busy": "2024-12-10T06:45:53.095056Z",
     "iopub.status.idle": "2024-12-10T06:45:53.863499Z",
     "shell.execute_reply": "2024-12-10T06:45:53.862823Z",
     "shell.execute_reply.started": "2024-12-10T06:45:53.095299Z"
    },
    "trusted": true
   },
   "outputs": [],
   "source": [
    "CAT_FEATURES = []\n",
    "for c in FEATURES:\n",
    "    if train[c].dtype==\"object\":\n",
    "        CAT_FEATURES.append(c)\n",
    "        train[c] = train[c].fillna(\"NAN\")\n",
    "        test[c] = test[c].fillna(\"NAN\")\n",
    "        test_balanced[c] = test_balanced[c].fillna(\"NAN\")"
   ]
  },
  {
   "cell_type": "code",
   "execution_count": 32,
   "metadata": {
    "execution": {
     "iopub.execute_input": "2024-12-10T06:45:53.864972Z",
     "iopub.status.busy": "2024-12-10T06:45:53.864713Z",
     "iopub.status.idle": "2024-12-10T06:45:53.955581Z",
     "shell.execute_reply": "2024-12-10T06:45:53.954793Z",
     "shell.execute_reply.started": "2024-12-10T06:45:53.864946Z"
    },
    "trusted": true
   },
   "outputs": [
    {
     "name": "stdout",
     "output_type": "stream",
     "text": [
      "The CATEGORICAL FEATURES: dri_score, psych_disturb, cyto_score, diabetes, tbi_status, arrhythmia, graft_type, vent_hist, renal_issue, pulm_severe, prim_disease_hct, cmv_status, tce_imm_match, rituximab, prod_type, cyto_score_detail, conditioning_intensity, ethnicity, obesity, mrd_hct, in_vivo_tcd, tce_match, hepatic_severe, prior_tumor, peptic_ulcer, gvhd_proph, rheum_issue, sex_match, race_group, hepatic_mild, tce_div_match, donor_related, melphalan_dose, cardiac, pulm_moderate, "
     ]
    }
   ],
   "source": [
    "combined = pd.concat([train, test, test_balanced], axis=0, ignore_index=True)\n",
    "\n",
    "print(\"The CATEGORICAL FEATURES: \", end=\"\")\n",
    "for c in FEATURES:\n",
    "    if c in CAT_FEATURES:\n",
    "        print(f\"{c}, \", end=\"\")\n",
    "        combined[c] = combined[c].astype(\"category\")\n",
    "    else:\n",
    "        if combined[c].dtype == \"float64\":\n",
    "            combined[c] = combined[c].astype(\"float32\")\n",
    "        if combined[c].dtype == \"int64\":\n",
    "            combined[c] = combined[c].astype(\"int32\")\n",
    "\n",
    "train = combined.iloc[:len(train)].copy()\n",
    "test = combined.iloc[len(train):len(train) + len(test)].reset_index(drop=True).copy()\n",
    "test_balanced = combined.iloc[len(train) + len(test):].reset_index(drop=True).copy()\n"
   ]
  },
  {
   "cell_type": "code",
   "execution_count": 33,
   "metadata": {
    "execution": {
     "iopub.execute_input": "2024-12-10T06:45:55.924938Z",
     "iopub.status.busy": "2024-12-10T06:45:55.924108Z",
     "iopub.status.idle": "2024-12-10T06:45:55.975816Z",
     "shell.execute_reply": "2024-12-10T06:45:55.975216Z",
     "shell.execute_reply.started": "2024-12-10T06:45:55.924902Z"
    },
    "trusted": true
   },
   "outputs": [],
   "source": [
    "folds = 5\n",
    "train['kfold'] = -1  \n",
    "\n",
    "skf = StratifiedKFold(n_splits=folds, shuffle=True, random_state=42)\n",
    "groups = train['efs'].astype(str)\n",
    "for fold, (train_idx, val_idx) in enumerate(skf.split(X=train, y=groups)):\n",
    "    train.loc[val_idx, 'kfold'] = fold"
   ]
  },
  {
   "cell_type": "markdown",
   "metadata": {},
   "source": [
    "# Custom Metrics"
   ]
  },
  {
   "cell_type": "code",
   "execution_count": 34,
   "metadata": {
    "execution": {
     "iopub.execute_input": "2024-12-10T06:45:57.061938Z",
     "iopub.status.busy": "2024-12-10T06:45:57.061563Z",
     "iopub.status.idle": "2024-12-10T06:45:57.067525Z",
     "shell.execute_reply": "2024-12-10T06:45:57.0666Z",
     "shell.execute_reply.started": "2024-12-10T06:45:57.061902Z"
    },
    "trusted": true
   },
   "outputs": [],
   "source": [
    "def CIndexMetric_XGB(y_true, y_pred):\n",
    "    ds_pred[\"prediction\"] = y_pred\n",
    "    cindex_score, _ = custom_score(ds_true.copy(), ds_pred.copy(), \"ID\", print_info=False)\n",
    "    return -cindex_score\n",
    "\n",
    "def CIndexMetric_LGB(y_true, y_pred):\n",
    "    ds_pred[\"prediction\"] = y_pred\n",
    "    cindex_score, _ = custom_score(ds_true.copy(), ds_pred.copy(), \"ID\", print_info=False)\n",
    "    return ('C-Index', cindex_score, True)"
   ]
  },
  {
   "cell_type": "markdown",
   "metadata": {},
   "source": [
    "# Custom Loss"
   ]
  },
  {
   "cell_type": "code",
   "execution_count": 69,
   "metadata": {},
   "outputs": [],
   "source": [
    "def custom_equity_loss(race_groups):\n",
    "    \"\"\"\n",
    "    Returns a custom objective function for XGBoost that applies group-level \n",
    "    weighting to the standard squared error loss. This function assumes a loss \n",
    "    of 0.5*(pred - y)^2 and scales the gradient and Hessian for each sample i \n",
    "    in group g by 1/(n_g * num_groups).\n",
    "\n",
    "    Parameters:\n",
    "      race_groups: 1D numpy array of race group labels in the exact order \n",
    "                   corresponding to the training data that XGBoost sees.\n",
    "                   \n",
    "    Returns:\n",
    "      A callable function (preds, dtrain) -> (grad, hess)\n",
    "    \"\"\"\n",
    "    # Get the unique group labels and count them.\n",
    "    unique_groups = np.unique(race_groups)\n",
    "    num_groups = len(unique_groups)\n",
    "    # Compute the count of samples in each group.\n",
    "    group_counts = {g: np.sum(race_groups == g) for g in unique_groups}\n",
    "    # For each sample, compute the scaling factor = 1/(n_g * num_groups)\n",
    "    factors = np.array([1.0 / (group_counts[r] * num_groups) for r in race_groups])\n",
    "    # pdb.set_trace()\n",
    "    def loss(preds, dtrain):\n",
    "        pdb.set_trace()\n",
    "        # dtrain.get_label() returns the labels in the same order as the training data.\n",
    "        y = dtrain.get_label()\n",
    "        # Compute gradient and hessian.\n",
    "        grad = factors * (preds - y)\n",
    "        hess = factors  # constant for each sample.\n",
    "        return grad, hess\n",
    "    return loss"
   ]
  },
  {
   "cell_type": "code",
   "execution_count": 73,
   "metadata": {},
   "outputs": [],
   "source": [
    "def custom_equity_loss(race_groups):\n",
    "    \"\"\"\n",
    "    Vectorized custom objective function for XGBoost that approximates a \n",
    "    stratified c-index using a pairwise logistic loss computed within each race group.\n",
    "\n",
    "    Parameters:\n",
    "        race_groups (np.array): 1D array of race_group values corresponding to \n",
    "                                the training samples.\n",
    "    \"\"\"\n",
    "    unique_groups, group_indices = np.unique(race_groups, return_inverse=True)\n",
    "\n",
    "    def loss_fn(preds, dtrain):\n",
    "        labels = dtrain.get_label()\n",
    "        grad = np.zeros_like(preds)\n",
    "        hess = np.zeros_like(preds)\n",
    "        alpha = 1.0  # Scaling factor (can be tuned)\n",
    "\n",
    "        # Process each race group efficiently\n",
    "        for group in np.unique(group_indices):\n",
    "            indices = np.where(group_indices == group)[0]\n",
    "            if len(indices) < 2:\n",
    "                continue  # Skip small groups\n",
    "            \n",
    "            group_preds = preds[indices][:, np.newaxis]  # Shape (N, 1)\n",
    "            group_labels = labels[indices][:, np.newaxis]  # Shape (N, 1)\n",
    "\n",
    "            # Compute all pairwise differences at once\n",
    "            label_diff = group_labels - group_labels.T  # Shape (N, N)\n",
    "            pred_diff = group_preds - group_preds.T  # Shape (N, N)\n",
    "            \n",
    "            # Only keep comparisons where labels differ\n",
    "            valid_pairs = label_diff != 0\n",
    "            margin = alpha * label_diff * pred_diff\n",
    "            exp_neg_margin = np.exp(-margin)\n",
    "            sigma = exp_neg_margin / (1.0 + exp_neg_margin)\n",
    "            \n",
    "            # Compute gradients and Hessians in a vectorized manner\n",
    "            pair_grad = -alpha * label_diff * sigma\n",
    "            pair_hess = alpha**2 * (label_diff**2) * sigma * (1 - sigma)\n",
    "\n",
    "            # Sum contributions for each sample\n",
    "            grad[indices] = np.sum(pair_grad * valid_pairs, axis=1)\n",
    "            hess[indices] = np.sum(pair_hess * valid_pairs, axis=1)\n",
    "\n",
    "        return grad, hess\n",
    "\n",
    "    return loss_fn\n"
   ]
  },
  {
   "cell_type": "markdown",
   "metadata": {},
   "source": [
    "# XGBoost with custom loss function"
   ]
  },
  {
   "cell_type": "code",
   "execution_count": 74,
   "metadata": {
    "execution": {
     "iopub.execute_input": "2024-12-10T06:45:59.406701Z",
     "iopub.status.busy": "2024-12-10T06:45:59.406346Z",
     "iopub.status.idle": "2024-12-10T06:53:30.590393Z",
     "shell.execute_reply": "2024-12-10T06:53:30.589586Z",
     "shell.execute_reply.started": "2024-12-10T06:45:59.406671Z"
    },
    "trusted": true
   },
   "outputs": [
    {
     "name": "stdout",
     "output_type": "stream",
     "text": [
      "[0]\tvalidation-auc:0.57293\n",
      "[500]\tvalidation-auc:0.62155\n",
      "[1000]\tvalidation-auc:0.62569\n",
      "[1465]\tvalidation-auc:0.62647\n",
      "\u001b[32m\u001b[1m# c-index=0.6728, mean=0.6871 std=0.0143\u001b[0m\n",
      "[0]\tvalidation-auc:0.57633\n",
      "[500]\tvalidation-auc:0.62144\n",
      "[1000]\tvalidation-auc:0.62485\n",
      "[1500]\tvalidation-auc:0.62571\n",
      "[1811]\tvalidation-auc:0.62558\n",
      "\u001b[32m\u001b[1m# c-index=0.6741, mean=0.6902 std=0.0161\u001b[0m\n",
      "[0]\tvalidation-auc:0.57554\n",
      "[500]\tvalidation-auc:0.62042\n",
      "[1000]\tvalidation-auc:0.62177\n",
      "[1287]\tvalidation-auc:0.62186\n",
      "\u001b[32m\u001b[1m# c-index=0.6772, mean=0.6833 std=0.0061\u001b[0m\n",
      "[0]\tvalidation-auc:0.57299\n",
      "[500]\tvalidation-auc:0.61747\n",
      "[1000]\tvalidation-auc:0.61991\n",
      "[1424]\tvalidation-auc:0.62017\n",
      "\u001b[32m\u001b[1m# c-index=0.6682, mean=0.6814 std=0.0132\u001b[0m\n",
      "[0]\tvalidation-auc:0.57284\n",
      "[500]\tvalidation-auc:0.62182\n",
      "[1000]\tvalidation-auc:0.62410\n",
      "[1491]\tvalidation-auc:0.62451\n",
      "\u001b[32m\u001b[1m# c-index=0.6768, mean=0.6868 std=0.0101\u001b[0m\n"
     ]
    }
   ],
   "source": [
    "# Prepare the out-of-fold DataFrame to store predictions and additional metadata.\n",
    "oof_xgb = train[['kfold', 'ID', 'efs', 'efs_time', 'label', 'race_group']].copy()\n",
    "oof_xgb['prediction'] = 0.0\n",
    "feature_importances_xgb = pd.DataFrame({'feature': FEATURES})\n",
    "metric_df = []\n",
    "\n",
    "for fold in range(skf.n_splits):\n",
    "    # Split into training and validation sets.\n",
    "    x_train_full = train[train.kfold != fold].copy()\n",
    "    x_valid_full = train[train.kfold == fold].copy()\n",
    "    \n",
    "    y_train = x_train_full['label'].values\n",
    "    y_valid = x_valid_full['label'].values\n",
    "    \n",
    "    # Extract race group info for the training set\n",
    "    race_groups_train = x_train_full['race_group'].values\n",
    "\n",
    "    # Convert training and validation data into DMatrix format\n",
    "    dtrain = xgb.DMatrix(x_train_full[FEATURES], label=y_train, enable_categorical=True)\n",
    "    dvalid = xgb.DMatrix(x_valid_full[FEATURES], label=y_valid, enable_categorical=True)\n",
    "\n",
    "    # Create the custom objective function\n",
    "    custom_obj = custom_equity_loss(race_groups_train)\n",
    "\n",
    "    # Define XGBoost parameters (excluding objective, since it's custom)\n",
    "    # Define XGBoost parameters (excluding objective, since it's custom)\n",
    "    params = {\n",
    "        \"tree_method\": \"hist\",\n",
    "        \"max_depth\": 3,\n",
    "        \"colsample_bytree\": 0.5, \n",
    "        \"subsample\": 0.8, \n",
    "        \"learning_rate\": 0.03,\n",
    "        \"min_child_weight\": 5,\n",
    "        \"eval_metric\": \"auc\",  # Just to monitor performance\n",
    "        \"disable_default_eval_metric\": True\n",
    "    }\n",
    "\n",
    "    # Train the model using XGBoost's native API (not XGBRegressor)\n",
    "    clf = xgb.train(\n",
    "        params,\n",
    "        dtrain,\n",
    "        num_boost_round=10000,\n",
    "        evals=[(dvalid, \"validation\")],\n",
    "        obj=custom_obj,\n",
    "        early_stopping_rounds=100,\n",
    "        verbose_eval=500\n",
    "    )\n",
    "\n",
    "    # Store feature importance\n",
    "    feature_importances_xgb[f'fold_{fold + 1}'] = clf.get_score()\n",
    "\n",
    "    # Predict on validation fold and store predictions\n",
    "    preds_valid = clf.predict(dvalid)\n",
    "    # pdb.set_trace()\n",
    "    oof_xgb.loc[oof_xgb.kfold == fold, 'prediction'] = preds_valid\n",
    "\n",
    "    # Save model\n",
    "    clf.save_model(f\"xgb/xgb_model_custom_loss_{fold}.bin\")\n",
    "\n",
    "    # Evaluate custom metric\n",
    "    y_true = oof_xgb.loc[oof_xgb.kfold == fold, [\"ID\", \"efs\", \"efs_time\", \"race_group\"]].copy().reset_index(drop=True)\n",
    "    y_pred = oof_xgb.loc[oof_xgb.kfold == fold, [\"ID\", \"prediction\"]].copy().reset_index(drop=True)\n",
    "    m, metric_dict = custom_score(y_true, y_pred, \"ID\", print_info=True)\n",
    "    metric_df.append(metric_dict)"
   ]
  },
  {
   "cell_type": "code",
   "execution_count": 75,
   "metadata": {},
   "outputs": [],
   "source": [
    "\n",
    "def evaluate_test_set(test_set, model_prefix, skf, FEATURES, custom_score, dataset_name=\"test set\"):\n",
    "    \"\"\"\n",
    "    Evaluate the model on a given test set (imbalanced or balanced).\n",
    "    \n",
    "    Parameters:\n",
    "        test_set (pd.DataFrame): The test set to evaluate.\n",
    "        model_prefix (str): Prefix for the saved model filenames.\n",
    "        skf (StratifiedKFold): Cross-validation object to determine the number of folds.\n",
    "        FEATURES (list): List of feature columns.\n",
    "        custom_score (function): Function to compute custom evaluation metric.\n",
    "        dataset_name (str): Name of the dataset for logging purposes.\n",
    "    \n",
    "    Returns:\n",
    "        None (prints evaluation results)\n",
    "    \"\"\"\n",
    "    print(f\"Evaluating on {dataset_name}...\")\n",
    "\n",
    "    # Ensure the test set has the required feature columns\n",
    "    if not set(FEATURES).issubset(test_set.columns):\n",
    "        raise ValueError(f\"{dataset_name} does not have all required feature columns.\")\n",
    "\n",
    "    # Initialize an array to accumulate predictions from each fold\n",
    "    test_predictions = np.zeros(len(test_set))\n",
    "\n",
    "    # Initialize a dictionary to store the evaluation metric for each fold\n",
    "    metric_df = []\n",
    "\n",
    "    # Loop over folds, load each saved model, and predict on the test set\n",
    "    for fold in range(skf.n_splits):\n",
    "        model_filename = f\"xgb/{model_prefix}_{fold}.bin\"\n",
    "        clf = XGBRegressor()  # We only use this to load the saved booster\n",
    "        clf.load_model(model_filename)\n",
    "        fold_pred = clf.predict(test_set[FEATURES])\n",
    "        test_set[f'prediction_{fold}'] = fold_pred\n",
    "\n",
    "        # If labels exist, compute the custom metric for this fold\n",
    "        if \"label\" in test_set.columns:\n",
    "            y_true_test = test_set[[\"ID\", \"efs\", \"efs_time\", \"race_group\"]].copy().reset_index(drop=True)\n",
    "            y_pred_test = test_set[[\"ID\", f\"prediction_{fold}\"]].copy().reset_index(drop=True)\n",
    "            m, metric_dict = custom_score(y_true_test, y_pred_test, \"ID\", print_info=True, prediction_label=f\"prediction_{fold}\")\n",
    "            print(f\"{dataset_name} evaluation metric for fold {fold}:\", metric_dict)\n",
    "            metric_df.append(metric_dict)\n",
    "\n",
    "        test_predictions += fold_pred\n",
    "\n",
    "    # Average the predictions across folds\n",
    "    test_predictions /= skf.n_splits\n",
    "    test_set['ensemble_prediction'] = test_predictions\n",
    "\n",
    "    print('\\nENSEMBLE:')\n",
    "    # If labels exist, compute the custom metric for an ensemble\n",
    "    if \"label\" in test_set.columns:\n",
    "        y_true_test = test_set[[\"ID\", \"efs\", \"efs_time\", \"race_group\"]].copy().reset_index(drop=True)\n",
    "        y_pred_test = test_set[[\"ID\", \"ensemble_prediction\"]].copy().reset_index(drop=True)\n",
    "        m, ensemble_metric_dict = custom_score(y_true_test, y_pred_test, \"ID\", print_info=True, prediction_label=\"ensemble_prediction\")\n",
    "        print(f\"{dataset_name} evaluation metric:\", metric_dict)\n",
    "    else:\n",
    "        print(f\"{dataset_name} predictions computed. No labels available for evaluation.\")\n",
    "    return ensemble_metric_dict, metric_df\n"
   ]
  },
  {
   "cell_type": "markdown",
   "metadata": {},
   "source": [
    "# Evaluation on full test set"
   ]
  },
  {
   "cell_type": "code",
   "execution_count": 76,
   "metadata": {},
   "outputs": [
    {
     "name": "stdout",
     "output_type": "stream",
     "text": [
      "Evaluating on balanced test set...\n",
      "\u001b[32m\u001b[1m# c-index=0.6550, mean=0.6679 std=0.0129\u001b[0m\n",
      "balanced test set evaluation metric for fold 0: {'American Indian or Alaska Native': 0.6914655840897688, 'Asian': 0.6713611320797233, 'Black or African-American': 0.6540248502802583, 'More than one race': 0.6633042751511915, 'Native Hawaiian or other Pacific Islander': 0.6540936985481215, 'White': 0.673406935096627}\n",
      "\u001b[32m\u001b[1m# c-index=0.6566, mean=0.6707 std=0.0140\u001b[0m\n",
      "balanced test set evaluation metric for fold 1: {'American Indian or Alaska Native': 0.6962892852255622, 'Asian': 0.6724990704958482, 'Black or African-American': 0.6546109417957844, 'More than one race': 0.6690733496616328, 'Native Hawaiian or other Pacific Islander': 0.6553947474468355, 'White': 0.6762309599716614}\n",
      "\u001b[32m\u001b[1m# c-index=0.6578, mean=0.6698 std=0.0120\u001b[0m\n",
      "balanced test set evaluation metric for fold 2: {'American Indian or Alaska Native': 0.6902682114674087, 'Asian': 0.6697161913989883, 'Black or African-American': 0.6539715692333923, 'More than one race': 0.668388489709689, 'Native Hawaiian or other Pacific Islander': 0.6586646402542227, 'White': 0.6780021253985122}\n",
      "\u001b[32m\u001b[1m# c-index=0.6568, mean=0.6693 std=0.0125\u001b[0m\n",
      "balanced test set evaluation metric for fold 3: {'American Indian or Alaska Native': 0.6905304930894495, 'Asian': 0.6716428000045067, 'Black or African-American': 0.651211611005733, 'More than one race': 0.6644186235475745, 'Native Hawaiian or other Pacific Islander': 0.6607831623547834, 'White': 0.6772444601881371}\n",
      "\u001b[32m\u001b[1m# c-index=0.6564, mean=0.6704 std=0.0140\u001b[0m\n",
      "balanced test set evaluation metric for fold 4: {'American Indian or Alaska Native': 0.6965287597500343, 'Asian': 0.6694457901911962, 'Black or African-American': 0.6562839666673771, 'More than one race': 0.6724047870549861, 'Native Hawaiian or other Pacific Islander': 0.6538864518208928, 'White': 0.6738300468374857}\n",
      "\n",
      "ENSEMBLE:\n",
      "\u001b[32m\u001b[1m# c-index=0.6588, mean=0.6717 std=0.0130\u001b[0m\n",
      "balanced test set evaluation metric: {'American Indian or Alaska Native': 0.6965287597500343, 'Asian': 0.6694457901911962, 'Black or African-American': 0.6562839666673771, 'More than one race': 0.6724047870549861, 'Native Hawaiian or other Pacific Islander': 0.6538864518208928, 'White': 0.6738300468374857}\n"
     ]
    }
   ],
   "source": [
    "ensemble_balanced_metric_dict, balanced_metric_dicts = evaluate_test_set(test_balanced, \n",
    "                                                                         \"xgb_model_custom_loss\", skf, FEATURES, custom_score, dataset_name=\"balanced test set\")\n"
   ]
  },
  {
   "cell_type": "code",
   "execution_count": 77,
   "metadata": {},
   "outputs": [
    {
     "data": {
      "text/html": [
       "<style type=\"text/css\">\n",
       "#T_1ad14_row0_col0 {\n",
       "  background-color: #e31cff;\n",
       "  color: #f1f1f1;\n",
       "}\n",
       "#T_1ad14_row0_col1 {\n",
       "  background-color: #fe01ff;\n",
       "  color: #f1f1f1;\n",
       "}\n",
       "#T_1ad14_row0_col2 {\n",
       "  background-color: #dc23ff;\n",
       "  color: #f1f1f1;\n",
       "}\n",
       "#T_1ad14_row0_col3 {\n",
       "  background-color: #de21ff;\n",
       "  color: #f1f1f1;\n",
       "}\n",
       "#T_1ad14_row0_col4 {\n",
       "  background-color: #ff00ff;\n",
       "  color: #f1f1f1;\n",
       "}\n",
       "#T_1ad14_row0_col5 {\n",
       "  background-color: #ec13ff;\n",
       "  color: #f1f1f1;\n",
       "}\n",
       "#T_1ad14_row1_col0 {\n",
       "  background-color: #718eff;\n",
       "  color: #f1f1f1;\n",
       "}\n",
       "#T_1ad14_row1_col1 {\n",
       "  background-color: #7887ff;\n",
       "  color: #f1f1f1;\n",
       "}\n",
       "#T_1ad14_row1_col2 {\n",
       "  background-color: #6897ff;\n",
       "  color: #f1f1f1;\n",
       "}\n",
       "#T_1ad14_row1_col3 {\n",
       "  background-color: #738cff;\n",
       "  color: #f1f1f1;\n",
       "}\n",
       "#T_1ad14_row1_col4 {\n",
       "  background-color: #6798ff;\n",
       "  color: #f1f1f1;\n",
       "}\n",
       "#T_1ad14_row1_col5 {\n",
       "  background-color: #6f90ff;\n",
       "  color: #f1f1f1;\n",
       "}\n",
       "#T_1ad14_row2_col0, #T_1ad14_row2_col2, #T_1ad14_row2_col5, #T_1ad14_row4_col4 {\n",
       "  background-color: #0ff0ff;\n",
       "  color: #000000;\n",
       "}\n",
       "#T_1ad14_row2_col1 {\n",
       "  background-color: #13ecff;\n",
       "  color: #000000;\n",
       "}\n",
       "#T_1ad14_row2_col3 {\n",
       "  background-color: #00ffff;\n",
       "  color: #000000;\n",
       "}\n",
       "#T_1ad14_row2_col4 {\n",
       "  background-color: #1ce3ff;\n",
       "  color: #000000;\n",
       "}\n",
       "#T_1ad14_row3_col0 {\n",
       "  background-color: #44bbff;\n",
       "  color: #000000;\n",
       "}\n",
       "#T_1ad14_row3_col1 {\n",
       "  background-color: #649bff;\n",
       "  color: #f1f1f1;\n",
       "}\n",
       "#T_1ad14_row3_col2 {\n",
       "  background-color: #619eff;\n",
       "  color: #f1f1f1;\n",
       "}\n",
       "#T_1ad14_row3_col3 {\n",
       "  background-color: #4ab5ff;\n",
       "  color: #000000;\n",
       "}\n",
       "#T_1ad14_row3_col4 {\n",
       "  background-color: #7788ff;\n",
       "  color: #f1f1f1;\n",
       "}\n",
       "#T_1ad14_row3_col5 {\n",
       "  background-color: #5ca3ff;\n",
       "  color: #f1f1f1;\n",
       "}\n",
       "#T_1ad14_row4_col0 {\n",
       "  background-color: #10efff;\n",
       "  color: #000000;\n",
       "}\n",
       "#T_1ad14_row4_col1 {\n",
       "  background-color: #17e8ff;\n",
       "  color: #000000;\n",
       "}\n",
       "#T_1ad14_row4_col2 {\n",
       "  background-color: #2ad5ff;\n",
       "  color: #000000;\n",
       "}\n",
       "#T_1ad14_row4_col3 {\n",
       "  background-color: #36c9ff;\n",
       "  color: #000000;\n",
       "}\n",
       "#T_1ad14_row4_col5 {\n",
       "  background-color: #1ee1ff;\n",
       "  color: #000000;\n",
       "}\n",
       "#T_1ad14_row5_col0 {\n",
       "  background-color: #7d82ff;\n",
       "  color: #f1f1f1;\n",
       "}\n",
       "#T_1ad14_row5_col1 {\n",
       "  background-color: #8d72ff;\n",
       "  color: #f1f1f1;\n",
       "}\n",
       "#T_1ad14_row5_col2 {\n",
       "  background-color: #9768ff;\n",
       "  color: #f1f1f1;\n",
       "}\n",
       "#T_1ad14_row5_col3 {\n",
       "  background-color: #936cff;\n",
       "  color: #f1f1f1;\n",
       "}\n",
       "#T_1ad14_row5_col4 {\n",
       "  background-color: #7f80ff;\n",
       "  color: #f1f1f1;\n",
       "}\n",
       "#T_1ad14_row5_col5 {\n",
       "  background-color: #8a75ff;\n",
       "  color: #f1f1f1;\n",
       "}\n",
       "</style>\n",
       "<table id=\"T_1ad14\">\n",
       "  <thead>\n",
       "    <tr>\n",
       "      <th class=\"blank level0\" >&nbsp;</th>\n",
       "      <th id=\"T_1ad14_level0_col0\" class=\"col_heading level0 col0\" >0</th>\n",
       "      <th id=\"T_1ad14_level0_col1\" class=\"col_heading level0 col1\" >1</th>\n",
       "      <th id=\"T_1ad14_level0_col2\" class=\"col_heading level0 col2\" >2</th>\n",
       "      <th id=\"T_1ad14_level0_col3\" class=\"col_heading level0 col3\" >3</th>\n",
       "      <th id=\"T_1ad14_level0_col4\" class=\"col_heading level0 col4\" >4</th>\n",
       "      <th id=\"T_1ad14_level0_col5\" class=\"col_heading level0 col5\" >Overall</th>\n",
       "    </tr>\n",
       "  </thead>\n",
       "  <tbody>\n",
       "    <tr>\n",
       "      <th id=\"T_1ad14_level0_row0\" class=\"row_heading level0 row0\" >American Indian or Alaska Native</th>\n",
       "      <td id=\"T_1ad14_row0_col0\" class=\"data row0 col0\" >0.6915</td>\n",
       "      <td id=\"T_1ad14_row0_col1\" class=\"data row0 col1\" >0.6963</td>\n",
       "      <td id=\"T_1ad14_row0_col2\" class=\"data row0 col2\" >0.6903</td>\n",
       "      <td id=\"T_1ad14_row0_col3\" class=\"data row0 col3\" >0.6905</td>\n",
       "      <td id=\"T_1ad14_row0_col4\" class=\"data row0 col4\" >0.6965</td>\n",
       "      <td id=\"T_1ad14_row0_col5\" class=\"data row0 col5\" >0.6930</td>\n",
       "    </tr>\n",
       "    <tr>\n",
       "      <th id=\"T_1ad14_level0_row1\" class=\"row_heading level0 row1\" >Asian</th>\n",
       "      <td id=\"T_1ad14_row1_col0\" class=\"data row1 col0\" >0.6714</td>\n",
       "      <td id=\"T_1ad14_row1_col1\" class=\"data row1 col1\" >0.6725</td>\n",
       "      <td id=\"T_1ad14_row1_col2\" class=\"data row1 col2\" >0.6697</td>\n",
       "      <td id=\"T_1ad14_row1_col3\" class=\"data row1 col3\" >0.6716</td>\n",
       "      <td id=\"T_1ad14_row1_col4\" class=\"data row1 col4\" >0.6694</td>\n",
       "      <td id=\"T_1ad14_row1_col5\" class=\"data row1 col5\" >0.6709</td>\n",
       "    </tr>\n",
       "    <tr>\n",
       "      <th id=\"T_1ad14_level0_row2\" class=\"row_heading level0 row2\" >Black or African-American</th>\n",
       "      <td id=\"T_1ad14_row2_col0\" class=\"data row2 col0\" >0.6540</td>\n",
       "      <td id=\"T_1ad14_row2_col1\" class=\"data row2 col1\" >0.6546</td>\n",
       "      <td id=\"T_1ad14_row2_col2\" class=\"data row2 col2\" >0.6540</td>\n",
       "      <td id=\"T_1ad14_row2_col3\" class=\"data row2 col3\" >0.6512</td>\n",
       "      <td id=\"T_1ad14_row2_col4\" class=\"data row2 col4\" >0.6563</td>\n",
       "      <td id=\"T_1ad14_row2_col5\" class=\"data row2 col5\" >0.6540</td>\n",
       "    </tr>\n",
       "    <tr>\n",
       "      <th id=\"T_1ad14_level0_row3\" class=\"row_heading level0 row3\" >More than one race</th>\n",
       "      <td id=\"T_1ad14_row3_col0\" class=\"data row3 col0\" >0.6633</td>\n",
       "      <td id=\"T_1ad14_row3_col1\" class=\"data row3 col1\" >0.6691</td>\n",
       "      <td id=\"T_1ad14_row3_col2\" class=\"data row3 col2\" >0.6684</td>\n",
       "      <td id=\"T_1ad14_row3_col3\" class=\"data row3 col3\" >0.6644</td>\n",
       "      <td id=\"T_1ad14_row3_col4\" class=\"data row3 col4\" >0.6724</td>\n",
       "      <td id=\"T_1ad14_row3_col5\" class=\"data row3 col5\" >0.6675</td>\n",
       "    </tr>\n",
       "    <tr>\n",
       "      <th id=\"T_1ad14_level0_row4\" class=\"row_heading level0 row4\" >Native Hawaiian or other Pacific Islander</th>\n",
       "      <td id=\"T_1ad14_row4_col0\" class=\"data row4 col0\" >0.6541</td>\n",
       "      <td id=\"T_1ad14_row4_col1\" class=\"data row4 col1\" >0.6554</td>\n",
       "      <td id=\"T_1ad14_row4_col2\" class=\"data row4 col2\" >0.6587</td>\n",
       "      <td id=\"T_1ad14_row4_col3\" class=\"data row4 col3\" >0.6608</td>\n",
       "      <td id=\"T_1ad14_row4_col4\" class=\"data row4 col4\" >0.6539</td>\n",
       "      <td id=\"T_1ad14_row4_col5\" class=\"data row4 col5\" >0.6566</td>\n",
       "    </tr>\n",
       "    <tr>\n",
       "      <th id=\"T_1ad14_level0_row5\" class=\"row_heading level0 row5\" >White</th>\n",
       "      <td id=\"T_1ad14_row5_col0\" class=\"data row5 col0\" >0.6734</td>\n",
       "      <td id=\"T_1ad14_row5_col1\" class=\"data row5 col1\" >0.6762</td>\n",
       "      <td id=\"T_1ad14_row5_col2\" class=\"data row5 col2\" >0.6780</td>\n",
       "      <td id=\"T_1ad14_row5_col3\" class=\"data row5 col3\" >0.6772</td>\n",
       "      <td id=\"T_1ad14_row5_col4\" class=\"data row5 col4\" >0.6738</td>\n",
       "      <td id=\"T_1ad14_row5_col5\" class=\"data row5 col5\" >0.6757</td>\n",
       "    </tr>\n",
       "    <tr>\n",
       "      <th id=\"T_1ad14_level0_foot0_row0\" class=\"foot0_row_heading level0 foot0_row0\" >mean</th>\n",
       "      <td id=\"T_1ad14_foot0_row0_col0\" class=\"foot0_data foot0_row0 col0\" >0.668</td>\n",
       "      <td id=\"T_1ad14_foot0_row0_col1\" class=\"foot0_data foot0_row0 col1\" >0.671</td>\n",
       "      <td id=\"T_1ad14_foot0_row0_col2\" class=\"foot0_data foot0_row0 col2\" >0.670</td>\n",
       "      <td id=\"T_1ad14_foot0_row0_col3\" class=\"foot0_data foot0_row0 col3\" >0.669</td>\n",
       "      <td id=\"T_1ad14_foot0_row0_col4\" class=\"foot0_data foot0_row0 col4\" >0.670</td>\n",
       "      <td id=\"T_1ad14_foot0_row0_col5\" class=\"foot0_data foot0_row0 col5\" >0.670</td>\n",
       "    </tr>\n",
       "    <tr>\n",
       "      <th id=\"T_1ad14_level0_foot0_row1\" class=\"foot0_row_heading level0 foot0_row1\" >std</th>\n",
       "      <td id=\"T_1ad14_foot0_row1_col0\" class=\"foot0_data foot0_row1 col0\" >0.013</td>\n",
       "      <td id=\"T_1ad14_foot0_row1_col1\" class=\"foot0_data foot0_row1 col1\" >0.014</td>\n",
       "      <td id=\"T_1ad14_foot0_row1_col2\" class=\"foot0_data foot0_row1 col2\" >0.012</td>\n",
       "      <td id=\"T_1ad14_foot0_row1_col3\" class=\"foot0_data foot0_row1 col3\" >0.013</td>\n",
       "      <td id=\"T_1ad14_foot0_row1_col4\" class=\"foot0_data foot0_row1 col4\" >0.014</td>\n",
       "      <td id=\"T_1ad14_foot0_row1_col5\" class=\"foot0_data foot0_row1 col5\" >0.013</td>\n",
       "    </tr>\n",
       "    <tr>\n",
       "      <th id=\"T_1ad14_level0_foot0_row2\" class=\"foot0_row_heading level0 foot0_row2\" >score</th>\n",
       "      <td id=\"T_1ad14_foot0_row2_col0\" class=\"foot0_data foot0_row2 col0\" >0.655</td>\n",
       "      <td id=\"T_1ad14_foot0_row2_col1\" class=\"foot0_data foot0_row2 col1\" >0.657</td>\n",
       "      <td id=\"T_1ad14_foot0_row2_col2\" class=\"foot0_data foot0_row2 col2\" >0.658</td>\n",
       "      <td id=\"T_1ad14_foot0_row2_col3\" class=\"foot0_data foot0_row2 col3\" >0.657</td>\n",
       "      <td id=\"T_1ad14_foot0_row2_col4\" class=\"foot0_data foot0_row2 col4\" >0.656</td>\n",
       "      <td id=\"T_1ad14_foot0_row2_col5\" class=\"foot0_data foot0_row2 col5\" >0.657</td>\n",
       "    </tr>\n",
       "  </tbody>\n",
       "</table>\n"
      ],
      "text/plain": [
       "<pandas.io.formats.style.Styler at 0x35d511550>"
      ]
     },
     "metadata": {},
     "output_type": "display_data"
    }
   ],
   "source": [
    "display_overall(pd.DataFrame(balanced_metric_dicts))"
   ]
  },
  {
   "cell_type": "markdown",
   "metadata": {},
   "source": [
    "# Evaluation on imbalanced test subset"
   ]
  },
  {
   "cell_type": "code",
   "execution_count": 79,
   "metadata": {},
   "outputs": [
    {
     "name": "stdout",
     "output_type": "stream",
     "text": [
      "Evaluating on imbalanced test set...\n",
      "\u001b[32m\u001b[1m# c-index=0.5790, mean=0.6383 std=0.0593\u001b[0m\n",
      "imbalanced test set evaluation metric for fold 0: {'American Indian or Alaska Native': 0.6859756097560976, 'Asian': 0.6604332953249715, 'Black or African-American': 0.6329712554496416, 'More than one race': 0.5106215578284815, 'Native Hawaiian or other Pacific Islander': 0.6661698956780924, 'White': 0.673406935096627}\n",
      "\u001b[32m\u001b[1m# c-index=0.5866, mean=0.6408 std=0.0542\u001b[0m\n",
      "imbalanced test set evaluation metric for fold 1: {'American Indian or Alaska Native': 0.6880081300813008, 'Asian': 0.6563283922462941, 'Black or African-American': 0.6280573413138255, 'More than one race': 0.5271439811172305, 'Native Hawaiian or other Pacific Islander': 0.669150521609538, 'White': 0.6762309599716614}\n",
      "\u001b[32m\u001b[1m# c-index=0.5803, mean=0.6427 std=0.0624\u001b[0m\n",
      "imbalanced test set evaluation metric for fold 2: {'American Indian or Alaska Native': 0.6869918699186992, 'Asian': 0.6581527936145952, 'Black or African-American': 0.6390674647158797, 'More than one race': 0.5082612116443745, 'Native Hawaiian or other Pacific Islander': 0.6855439642324889, 'White': 0.6780021253985122}\n",
      "\u001b[32m\u001b[1m# c-index=0.5713, mean=0.6361 std=0.0648\u001b[0m\n",
      "imbalanced test set evaluation metric for fold 3: {'American Indian or Alaska Native': 0.6808943089430894, 'Asian': 0.6581527936145952, 'Black or African-American': 0.633045148895293, 'More than one race': 0.4956726986624705, 'Native Hawaiian or other Pacific Islander': 0.6713859910581222, 'White': 0.6772444601881371}\n",
      "\u001b[32m\u001b[1m# c-index=0.5877, mean=0.6427 std=0.0550\u001b[0m\n",
      "imbalanced test set evaluation metric for fold 4: {'American Indian or Alaska Native': 0.6910569105691057, 'Asian': 0.6513112884834663, 'Black or African-American': 0.6364442473952561, 'More than one race': 0.5263571990558615, 'Native Hawaiian or other Pacific Islander': 0.6773472429210134, 'White': 0.6738300468374857}\n",
      "\n",
      "ENSEMBLE:\n",
      "\u001b[32m\u001b[1m# c-index=0.5782, mean=0.6393 std=0.0610\u001b[0m\n",
      "imbalanced test set evaluation metric: {'American Indian or Alaska Native': 0.6910569105691057, 'Asian': 0.6513112884834663, 'Black or African-American': 0.6364442473952561, 'More than one race': 0.5263571990558615, 'Native Hawaiian or other Pacific Islander': 0.6773472429210134, 'White': 0.6738300468374857}\n"
     ]
    }
   ],
   "source": [
    "ensemble_imbalanced_metric_dict, imbalanced_metric_dicts = evaluate_test_set(test, \"xgb_model_custom_loss\", \n",
    "                                                                             skf, FEATURES, custom_score, dataset_name=\"imbalanced test set\")\n"
   ]
  },
  {
   "cell_type": "code",
   "execution_count": 80,
   "metadata": {},
   "outputs": [
    {
     "data": {
      "text/html": [
       "<style type=\"text/css\">\n",
       "#T_02bfa_row0_col0 {\n",
       "  background-color: #f906ff;\n",
       "  color: #f1f1f1;\n",
       "}\n",
       "#T_02bfa_row0_col1 {\n",
       "  background-color: #fc03ff;\n",
       "  color: #f1f1f1;\n",
       "}\n",
       "#T_02bfa_row0_col2, #T_02bfa_row0_col5 {\n",
       "  background-color: #fa05ff;\n",
       "  color: #f1f1f1;\n",
       "}\n",
       "#T_02bfa_row0_col3 {\n",
       "  background-color: #f20dff;\n",
       "  color: #f1f1f1;\n",
       "}\n",
       "#T_02bfa_row0_col4 {\n",
       "  background-color: #ff00ff;\n",
       "  color: #f1f1f1;\n",
       "}\n",
       "#T_02bfa_row1_col0 {\n",
       "  background-color: #d728ff;\n",
       "  color: #f1f1f1;\n",
       "}\n",
       "#T_02bfa_row1_col1 {\n",
       "  background-color: #d22dff;\n",
       "  color: #f1f1f1;\n",
       "}\n",
       "#T_02bfa_row1_col2, #T_02bfa_row1_col3 {\n",
       "  background-color: #d42bff;\n",
       "  color: #f1f1f1;\n",
       "}\n",
       "#T_02bfa_row1_col4 {\n",
       "  background-color: #cb34ff;\n",
       "  color: #f1f1f1;\n",
       "}\n",
       "#T_02bfa_row1_col5 {\n",
       "  background-color: #d32cff;\n",
       "  color: #f1f1f1;\n",
       "}\n",
       "#T_02bfa_row2_col0, #T_02bfa_row2_col3 {\n",
       "  background-color: #b34cff;\n",
       "  color: #f1f1f1;\n",
       "}\n",
       "#T_02bfa_row2_col1 {\n",
       "  background-color: #ad52ff;\n",
       "  color: #f1f1f1;\n",
       "}\n",
       "#T_02bfa_row2_col2 {\n",
       "  background-color: #bb44ff;\n",
       "  color: #f1f1f1;\n",
       "}\n",
       "#T_02bfa_row2_col4 {\n",
       "  background-color: #b847ff;\n",
       "  color: #f1f1f1;\n",
       "}\n",
       "#T_02bfa_row2_col5 {\n",
       "  background-color: #b54aff;\n",
       "  color: #f1f1f1;\n",
       "}\n",
       "#T_02bfa_row3_col0 {\n",
       "  background-color: #13ecff;\n",
       "  color: #000000;\n",
       "}\n",
       "#T_02bfa_row3_col1 {\n",
       "  background-color: #29d6ff;\n",
       "  color: #000000;\n",
       "}\n",
       "#T_02bfa_row3_col2 {\n",
       "  background-color: #10efff;\n",
       "  color: #000000;\n",
       "}\n",
       "#T_02bfa_row3_col3 {\n",
       "  background-color: #00ffff;\n",
       "  color: #000000;\n",
       "}\n",
       "#T_02bfa_row3_col4 {\n",
       "  background-color: #28d7ff;\n",
       "  color: #000000;\n",
       "}\n",
       "#T_02bfa_row3_col5 {\n",
       "  background-color: #17e8ff;\n",
       "  color: #000000;\n",
       "}\n",
       "#T_02bfa_row4_col0 {\n",
       "  background-color: #df20ff;\n",
       "  color: #f1f1f1;\n",
       "}\n",
       "#T_02bfa_row4_col1 {\n",
       "  background-color: #e31cff;\n",
       "  color: #f1f1f1;\n",
       "}\n",
       "#T_02bfa_row4_col2 {\n",
       "  background-color: #f807ff;\n",
       "  color: #f1f1f1;\n",
       "}\n",
       "#T_02bfa_row4_col3 {\n",
       "  background-color: #e619ff;\n",
       "  color: #f1f1f1;\n",
       "}\n",
       "#T_02bfa_row4_col4, #T_02bfa_row5_col2 {\n",
       "  background-color: #ee11ff;\n",
       "  color: #f1f1f1;\n",
       "}\n",
       "#T_02bfa_row4_col5, #T_02bfa_row5_col4 {\n",
       "  background-color: #e916ff;\n",
       "  color: #f1f1f1;\n",
       "}\n",
       "#T_02bfa_row5_col0 {\n",
       "  background-color: #e817ff;\n",
       "  color: #f1f1f1;\n",
       "}\n",
       "#T_02bfa_row5_col1 {\n",
       "  background-color: #ec13ff;\n",
       "  color: #f1f1f1;\n",
       "}\n",
       "#T_02bfa_row5_col3 {\n",
       "  background-color: #ed12ff;\n",
       "  color: #f1f1f1;\n",
       "}\n",
       "#T_02bfa_row5_col5 {\n",
       "  background-color: #eb14ff;\n",
       "  color: #f1f1f1;\n",
       "}\n",
       "</style>\n",
       "<table id=\"T_02bfa\">\n",
       "  <thead>\n",
       "    <tr>\n",
       "      <th class=\"blank level0\" >&nbsp;</th>\n",
       "      <th id=\"T_02bfa_level0_col0\" class=\"col_heading level0 col0\" >0</th>\n",
       "      <th id=\"T_02bfa_level0_col1\" class=\"col_heading level0 col1\" >1</th>\n",
       "      <th id=\"T_02bfa_level0_col2\" class=\"col_heading level0 col2\" >2</th>\n",
       "      <th id=\"T_02bfa_level0_col3\" class=\"col_heading level0 col3\" >3</th>\n",
       "      <th id=\"T_02bfa_level0_col4\" class=\"col_heading level0 col4\" >4</th>\n",
       "      <th id=\"T_02bfa_level0_col5\" class=\"col_heading level0 col5\" >Overall</th>\n",
       "    </tr>\n",
       "  </thead>\n",
       "  <tbody>\n",
       "    <tr>\n",
       "      <th id=\"T_02bfa_level0_row0\" class=\"row_heading level0 row0\" >American Indian or Alaska Native</th>\n",
       "      <td id=\"T_02bfa_row0_col0\" class=\"data row0 col0\" >0.6860</td>\n",
       "      <td id=\"T_02bfa_row0_col1\" class=\"data row0 col1\" >0.6880</td>\n",
       "      <td id=\"T_02bfa_row0_col2\" class=\"data row0 col2\" >0.6870</td>\n",
       "      <td id=\"T_02bfa_row0_col3\" class=\"data row0 col3\" >0.6809</td>\n",
       "      <td id=\"T_02bfa_row0_col4\" class=\"data row0 col4\" >0.6911</td>\n",
       "      <td id=\"T_02bfa_row0_col5\" class=\"data row0 col5\" >0.6866</td>\n",
       "    </tr>\n",
       "    <tr>\n",
       "      <th id=\"T_02bfa_level0_row1\" class=\"row_heading level0 row1\" >Asian</th>\n",
       "      <td id=\"T_02bfa_row1_col0\" class=\"data row1 col0\" >0.6604</td>\n",
       "      <td id=\"T_02bfa_row1_col1\" class=\"data row1 col1\" >0.6563</td>\n",
       "      <td id=\"T_02bfa_row1_col2\" class=\"data row1 col2\" >0.6582</td>\n",
       "      <td id=\"T_02bfa_row1_col3\" class=\"data row1 col3\" >0.6582</td>\n",
       "      <td id=\"T_02bfa_row1_col4\" class=\"data row1 col4\" >0.6513</td>\n",
       "      <td id=\"T_02bfa_row1_col5\" class=\"data row1 col5\" >0.6569</td>\n",
       "    </tr>\n",
       "    <tr>\n",
       "      <th id=\"T_02bfa_level0_row2\" class=\"row_heading level0 row2\" >Black or African-American</th>\n",
       "      <td id=\"T_02bfa_row2_col0\" class=\"data row2 col0\" >0.6330</td>\n",
       "      <td id=\"T_02bfa_row2_col1\" class=\"data row2 col1\" >0.6281</td>\n",
       "      <td id=\"T_02bfa_row2_col2\" class=\"data row2 col2\" >0.6391</td>\n",
       "      <td id=\"T_02bfa_row2_col3\" class=\"data row2 col3\" >0.6330</td>\n",
       "      <td id=\"T_02bfa_row2_col4\" class=\"data row2 col4\" >0.6364</td>\n",
       "      <td id=\"T_02bfa_row2_col5\" class=\"data row2 col5\" >0.6339</td>\n",
       "    </tr>\n",
       "    <tr>\n",
       "      <th id=\"T_02bfa_level0_row3\" class=\"row_heading level0 row3\" >More than one race</th>\n",
       "      <td id=\"T_02bfa_row3_col0\" class=\"data row3 col0\" >0.5106</td>\n",
       "      <td id=\"T_02bfa_row3_col1\" class=\"data row3 col1\" >0.5271</td>\n",
       "      <td id=\"T_02bfa_row3_col2\" class=\"data row3 col2\" >0.5083</td>\n",
       "      <td id=\"T_02bfa_row3_col3\" class=\"data row3 col3\" >0.4957</td>\n",
       "      <td id=\"T_02bfa_row3_col4\" class=\"data row3 col4\" >0.5264</td>\n",
       "      <td id=\"T_02bfa_row3_col5\" class=\"data row3 col5\" >0.5136</td>\n",
       "    </tr>\n",
       "    <tr>\n",
       "      <th id=\"T_02bfa_level0_row4\" class=\"row_heading level0 row4\" >Native Hawaiian or other Pacific Islander</th>\n",
       "      <td id=\"T_02bfa_row4_col0\" class=\"data row4 col0\" >0.6662</td>\n",
       "      <td id=\"T_02bfa_row4_col1\" class=\"data row4 col1\" >0.6692</td>\n",
       "      <td id=\"T_02bfa_row4_col2\" class=\"data row4 col2\" >0.6855</td>\n",
       "      <td id=\"T_02bfa_row4_col3\" class=\"data row4 col3\" >0.6714</td>\n",
       "      <td id=\"T_02bfa_row4_col4\" class=\"data row4 col4\" >0.6773</td>\n",
       "      <td id=\"T_02bfa_row4_col5\" class=\"data row4 col5\" >0.6739</td>\n",
       "    </tr>\n",
       "    <tr>\n",
       "      <th id=\"T_02bfa_level0_row5\" class=\"row_heading level0 row5\" >White</th>\n",
       "      <td id=\"T_02bfa_row5_col0\" class=\"data row5 col0\" >0.6734</td>\n",
       "      <td id=\"T_02bfa_row5_col1\" class=\"data row5 col1\" >0.6762</td>\n",
       "      <td id=\"T_02bfa_row5_col2\" class=\"data row5 col2\" >0.6780</td>\n",
       "      <td id=\"T_02bfa_row5_col3\" class=\"data row5 col3\" >0.6772</td>\n",
       "      <td id=\"T_02bfa_row5_col4\" class=\"data row5 col4\" >0.6738</td>\n",
       "      <td id=\"T_02bfa_row5_col5\" class=\"data row5 col5\" >0.6757</td>\n",
       "    </tr>\n",
       "    <tr>\n",
       "      <th id=\"T_02bfa_level0_foot0_row0\" class=\"foot0_row_heading level0 foot0_row0\" >mean</th>\n",
       "      <td id=\"T_02bfa_foot0_row0_col0\" class=\"foot0_data foot0_row0 col0\" >0.638</td>\n",
       "      <td id=\"T_02bfa_foot0_row0_col1\" class=\"foot0_data foot0_row0 col1\" >0.641</td>\n",
       "      <td id=\"T_02bfa_foot0_row0_col2\" class=\"foot0_data foot0_row0 col2\" >0.643</td>\n",
       "      <td id=\"T_02bfa_foot0_row0_col3\" class=\"foot0_data foot0_row0 col3\" >0.636</td>\n",
       "      <td id=\"T_02bfa_foot0_row0_col4\" class=\"foot0_data foot0_row0 col4\" >0.643</td>\n",
       "      <td id=\"T_02bfa_foot0_row0_col5\" class=\"foot0_data foot0_row0 col5\" >0.640</td>\n",
       "    </tr>\n",
       "    <tr>\n",
       "      <th id=\"T_02bfa_level0_foot0_row1\" class=\"foot0_row_heading level0 foot0_row1\" >std</th>\n",
       "      <td id=\"T_02bfa_foot0_row1_col0\" class=\"foot0_data foot0_row1 col0\" >0.059</td>\n",
       "      <td id=\"T_02bfa_foot0_row1_col1\" class=\"foot0_data foot0_row1 col1\" >0.054</td>\n",
       "      <td id=\"T_02bfa_foot0_row1_col2\" class=\"foot0_data foot0_row1 col2\" >0.062</td>\n",
       "      <td id=\"T_02bfa_foot0_row1_col3\" class=\"foot0_data foot0_row1 col3\" >0.065</td>\n",
       "      <td id=\"T_02bfa_foot0_row1_col4\" class=\"foot0_data foot0_row1 col4\" >0.055</td>\n",
       "      <td id=\"T_02bfa_foot0_row1_col5\" class=\"foot0_data foot0_row1 col5\" >0.059</td>\n",
       "    </tr>\n",
       "    <tr>\n",
       "      <th id=\"T_02bfa_level0_foot0_row2\" class=\"foot0_row_heading level0 foot0_row2\" >score</th>\n",
       "      <td id=\"T_02bfa_foot0_row2_col0\" class=\"foot0_data foot0_row2 col0\" >0.579</td>\n",
       "      <td id=\"T_02bfa_foot0_row2_col1\" class=\"foot0_data foot0_row2 col1\" >0.587</td>\n",
       "      <td id=\"T_02bfa_foot0_row2_col2\" class=\"foot0_data foot0_row2 col2\" >0.580</td>\n",
       "      <td id=\"T_02bfa_foot0_row2_col3\" class=\"foot0_data foot0_row2 col3\" >0.571</td>\n",
       "      <td id=\"T_02bfa_foot0_row2_col4\" class=\"foot0_data foot0_row2 col4\" >0.588</td>\n",
       "      <td id=\"T_02bfa_foot0_row2_col5\" class=\"foot0_data foot0_row2 col5\" >0.581</td>\n",
       "    </tr>\n",
       "  </tbody>\n",
       "</table>\n"
      ],
      "text/plain": [
       "<pandas.io.formats.style.Styler at 0x35d44dc70>"
      ]
     },
     "metadata": {},
     "output_type": "display_data"
    }
   ],
   "source": [
    "display_overall(pd.DataFrame(imbalanced_metric_dicts))"
   ]
  },
  {
   "cell_type": "code",
   "execution_count": null,
   "metadata": {},
   "outputs": [
    {
     "data": {
      "text/plain": [
       "race_group\n",
       "White                                        0.456954\n",
       "Black or African-American                    0.245033\n",
       "Asian                                        0.108798\n",
       "American Indian or Alaska Native             0.081362\n",
       "More than one race                           0.053926\n",
       "Native Hawaiian or other Pacific Islander    0.053926\n",
       "Name: proportion, dtype: float64"
      ]
     },
     "execution_count": 45,
     "metadata": {},
     "output_type": "execute_result"
    }
   ],
   "source": [
    "test['race_group'].value_counts(normalize=True)"
   ]
  },
  {
   "cell_type": "code",
   "execution_count": null,
   "metadata": {
    "execution": {
     "iopub.execute_input": "2024-12-10T06:53:37.820277Z",
     "iopub.status.busy": "2024-12-10T06:53:37.819499Z",
     "iopub.status.idle": "2024-12-10T06:53:37.824829Z",
     "shell.execute_reply": "2024-12-10T06:53:37.823859Z",
     "shell.execute_reply.started": "2024-12-10T06:53:37.820232Z"
    },
    "trusted": true
   },
   "outputs": [],
   "source": [
    "# For inference:\n",
    "# model_path = f\"./xxx/xgb_model.bin\"\n",
    "# model = XGBRegressor()\n",
    "# model.load_model(model_path)\n",
    "# prediction = model.predict()"
   ]
  },
  {
   "cell_type": "markdown",
   "metadata": {},
   "source": [
    "# Lightgbm"
   ]
  },
  {
   "cell_type": "code",
   "execution_count": null,
   "metadata": {
    "execution": {
     "iopub.execute_input": "2024-12-10T06:55:23.498382Z",
     "iopub.status.busy": "2024-12-10T06:55:23.497743Z",
     "iopub.status.idle": "2024-12-10T07:01:01.257051Z",
     "shell.execute_reply": "2024-12-10T07:01:01.256322Z",
     "shell.execute_reply.started": "2024-12-10T06:55:23.49835Z"
    },
    "trusted": true
   },
   "outputs": [],
   "source": [
    "%%time\n",
    "    \n",
    "oof_lgb = train[['kfold','ID','efs','efs_time','label','race_group']].copy()\n",
    "oof_lgb['prediction'] = 0.0\n",
    "feature_importances_lgb = pd.DataFrame()\n",
    "feature_importances_lgb['feature'] = FEATURES\n",
    "metric_df = []\n",
    "\n",
    "for fold in range(skf.n_splits):\n",
    "    \n",
    "    x_train = train[train.kfold != fold].copy()\n",
    "    x_valid = train[train.kfold == fold].copy()\n",
    "\n",
    "    y_train = x_train['label']\n",
    "    y_valid = x_valid['label']\n",
    "    y_label = x_valid['efs']\n",
    "\n",
    "    x_train = x_train[FEATURES]\n",
    "    x_valid = x_valid[FEATURES]\n",
    "\n",
    "    ds_true = oof_lgb.loc[oof_lgb.kfold==fold, [\"ID\",\"efs\",\"efs_time\",\"race_group\"]].copy().reset_index(drop=True)\n",
    "    ds_pred = oof_lgb.loc[oof_lgb.kfold==fold, [\"ID\"]].copy().reset_index(drop=True)\n",
    "\n",
    "    lgb_params = {\n",
    "        'max_depth': 6,\n",
    "        'num_leaves': 40,\n",
    "        'learning_rate': 0.03,\n",
    "        'n_estimators': 10000,\n",
    "        'objective': 'l2',\n",
    "        'subsample': 0.8,\n",
    "        'colsample_bytree': 0.5,\n",
    "        'n_jobs': -1,\n",
    "        'verbose': -1,\n",
    "        'device': 'gpu',\n",
    "        'metric': 'None' # only show the custom metric\n",
    "    }\n",
    "    clf = LGBMRegressor(**lgb_params)\n",
    "    clf.fit(\n",
    "        x_train, y_train,\n",
    "        eval_set=[(x_valid, y_valid)],\n",
    "        categorical_feature=CAT_FEATURES,\n",
    "        eval_metric=CIndexMetric_LGB, # the custom metric\n",
    "        callbacks=[callback.log_evaluation(500), callback.early_stopping(100)]\n",
    "    )\n",
    "    feature_importances_lgb[f'fold_{fold + 1}'] = clf.feature_importances_\n",
    "\n",
    "    preds_valid = clf.predict(x_valid)\n",
    "    oof_lgb.loc[oof_lgb.kfold==fold, 'prediction'] = preds_valid\n",
    "\n",
    "    joblib.dump(clf, f\"lgb_model_{fold}.pkl\")\n",
    "\n",
    "    y_true = oof_lgb.loc[oof_lgb.kfold==fold, [\"ID\",\"efs\",\"efs_time\",\"race_group\"]].copy().reset_index(drop=True)\n",
    "    y_pred = oof_lgb.loc[oof_lgb.kfold==fold, [\"ID\",\"prediction\"]].copy().reset_index(drop=True)\n",
    "    m, metric_dict = custom_score(y_true, y_pred, \"ID\", print_info=True)\n",
    "    metric_df.append(metric_dict)"
   ]
  },
  {
   "cell_type": "code",
   "execution_count": null,
   "metadata": {
    "execution": {
     "iopub.execute_input": "2024-12-10T07:01:05.457732Z",
     "iopub.status.busy": "2024-12-10T07:01:05.457276Z",
     "iopub.status.idle": "2024-12-10T07:01:05.462006Z",
     "shell.execute_reply": "2024-12-10T07:01:05.461136Z",
     "shell.execute_reply.started": "2024-12-10T07:01:05.457681Z"
    },
    "trusted": true
   },
   "outputs": [],
   "source": [
    "# For inference:\n",
    "# model_path = f\"./xxx/lgb_model.pkl\"\n",
    "# model = joblib.load(model_path)\n",
    "# prediction = model.predict()"
   ]
  },
  {
   "cell_type": "code",
   "execution_count": null,
   "metadata": {
    "execution": {
     "iopub.execute_input": "2024-12-10T07:01:07.800526Z",
     "iopub.status.busy": "2024-12-10T07:01:07.799836Z",
     "iopub.status.idle": "2024-12-10T07:01:08.123931Z",
     "shell.execute_reply": "2024-12-10T07:01:08.123106Z",
     "shell.execute_reply.started": "2024-12-10T07:01:07.800488Z"
    },
    "trusted": true
   },
   "outputs": [],
   "source": [
    "y_true = oof_lgb[[\"ID\",\"efs\",\"efs_time\",\"race_group\"]].copy().reset_index(drop=True)\n",
    "y_pred = oof_lgb[[\"ID\",\"prediction\"]].copy().reset_index(drop=True)\n",
    "m, _ = custom_score(y_true, y_pred, \"ID\", print_info=True)\n",
    "print(f\"Overall official SCORE: {m:.5f}\")\n",
    "\n",
    "metric_df_ = pd.DataFrame(metric_df)\n",
    "display_overall(metric_df_)"
   ]
  },
  {
   "cell_type": "code",
   "execution_count": null,
   "metadata": {
    "execution": {
     "iopub.execute_input": "2024-12-10T07:01:19.336717Z",
     "iopub.status.busy": "2024-12-10T07:01:19.336365Z",
     "iopub.status.idle": "2024-12-10T07:01:19.65227Z",
     "shell.execute_reply": "2024-12-10T07:01:19.651589Z",
     "shell.execute_reply.started": "2024-12-10T07:01:19.336687Z"
    },
    "trusted": true
   },
   "outputs": [],
   "source": [
    "y_true = train[[\"ID\",\"efs\",\"efs_time\",\"race_group\"]].copy()\n",
    "y_pred = train[[\"ID\"]].copy()\n",
    "y_pred[\"prediction\"] = 0.5*oof_xgb['prediction'].rank(pct=True) + 0.5*oof_lgb['prediction'].rank(pct=True)\n",
    "\n",
    "m, _ = custom_score(y_true, y_pred, \"ID\", print_info=True)\n",
    "print(f\"Overall official SCORE: {m:.5f}\")"
   ]
  }
 ],
 "metadata": {
  "kaggle": {
   "accelerator": "nvidiaTeslaT4",
   "dataSources": [
    {
     "databundleVersionId": 10381525,
     "sourceId": 70942,
     "sourceType": "competition"
    },
    {
     "sourceId": 211253469,
     "sourceType": "kernelVersion"
    },
    {
     "sourceId": 211322530,
     "sourceType": "kernelVersion"
    },
    {
     "sourceId": 212249161,
     "sourceType": "kernelVersion"
    }
   ],
   "dockerImageVersionId": 30805,
   "isGpuEnabled": true,
   "isInternetEnabled": false,
   "language": "python",
   "sourceType": "notebook"
  },
  "kernelspec": {
   "display_name": "dpl",
   "language": "python",
   "name": "python3"
  },
  "language_info": {
   "codemirror_mode": {
    "name": "ipython",
    "version": 3
   },
   "file_extension": ".py",
   "mimetype": "text/x-python",
   "name": "python",
   "nbconvert_exporter": "python",
   "pygments_lexer": "ipython3",
   "version": "3.8.18"
  }
 },
 "nbformat": 4,
 "nbformat_minor": 4
}
