{
 "cells": [
  {
   "cell_type": "markdown",
   "metadata": {
    "execution": {
     "iopub.execute_input": "2024-12-10T06:44:59.875459Z",
     "iopub.status.busy": "2024-12-10T06:44:59.874634Z",
     "iopub.status.idle": "2024-12-10T06:45:28.125023Z",
     "shell.execute_reply": "2024-12-10T06:45:28.123748Z",
     "shell.execute_reply.started": "2024-12-10T06:44:59.875387Z"
    },
    "trusted": true
   },
   "source": [
    "# Original notebook:\n",
    "https://www.kaggle.com/code/takanashihumbert/cibmtr-using-official-metric-in-tree-based-models/notebook"
   ]
  },
  {
   "cell_type": "code",
   "execution_count": 1,
   "metadata": {
    "execution": {
     "iopub.execute_input": "2024-12-10T06:45:43.061047Z",
     "iopub.status.busy": "2024-12-10T06:45:43.060393Z",
     "iopub.status.idle": "2024-12-10T06:45:43.067555Z",
     "shell.execute_reply": "2024-12-10T06:45:43.066738Z",
     "shell.execute_reply.started": "2024-12-10T06:45:43.061012Z"
    },
    "trusted": true
   },
   "outputs": [
    {
     "name": "stdout",
     "output_type": "stream",
     "text": [
      "we are using xgboost == 2.1.3\n"
     ]
    }
   ],
   "source": [
    "import numpy as np, pandas as pd\n",
    "import matplotlib.pyplot as plt\n",
    "import seaborn as sns\n",
    "from colorama import Fore, Back, Style\n",
    "\n",
    "from sklearn.model_selection import StratifiedKFold, train_test_split\n",
    "from sklearn.preprocessing import StandardScaler, RobustScaler, MinMaxScaler, LabelEncoder\n",
    "import os, glob, math, gc, warnings, random, joblib\n",
    "from sklearn.metrics import roc_auc_score\n",
    "\n",
    "from catboost import CatBoostClassifier, Pool, CatBoostRegressor\n",
    "from xgboost import XGBRegressor, XGBClassifier\n",
    "import xgboost as xgb\n",
    "print(\"we are using xgboost ==\", xgb.__version__)\n",
    "from lightgbm import LGBMRegressor, callback\n",
    "\n",
    "from lifelines.utils import concordance_index\n",
    "from lifelines import KaplanMeierFitter\n",
    "\n",
    "warnings.filterwarnings(\"ignore\")\n",
    "pd.set_option('display.max_columns', 500)\n",
    "pd.set_option('display.max_rows', 500)"
   ]
  },
  {
   "cell_type": "code",
   "execution_count": 2,
   "metadata": {
    "execution": {
     "iopub.execute_input": "2024-12-10T06:45:48.24552Z",
     "iopub.status.busy": "2024-12-10T06:45:48.24517Z",
     "iopub.status.idle": "2024-12-10T06:45:48.25547Z",
     "shell.execute_reply": "2024-12-10T06:45:48.254582Z",
     "shell.execute_reply.started": "2024-12-10T06:45:48.245489Z"
    },
    "trusted": true
   },
   "outputs": [],
   "source": [
    "class ParticipantVisibleError(Exception):\n",
    "    pass\n",
    "\n",
    "\n",
    "def custom_score(solution, submission, row_id_column_name, prediction_label='prediction', print_info=True):\n",
    "    \n",
    "    del solution[row_id_column_name]\n",
    "    del submission[row_id_column_name]\n",
    "    \n",
    "    event_label = 'efs'\n",
    "    interval_label = 'efs_time'\n",
    "    \n",
    "    for col in submission.columns:\n",
    "        if not pd.api.types.is_numeric_dtype(submission[col]):\n",
    "            raise ParticipantVisibleError(f'Submission column {col} must be a number')\n",
    "    # Merging solution and submission dfs on ID\n",
    "    merged_df = pd.concat([solution, submission], axis=1)\n",
    "    merged_df.reset_index(inplace=True)\n",
    "    merged_df_race_dict = dict(merged_df.groupby(['race_group']).groups)\n",
    "    metric_dict = {}\n",
    "    for race in sorted(merged_df_race_dict.keys()):\n",
    "        # Retrieving values from y_test based on index\n",
    "        indices = sorted(merged_df_race_dict[race])\n",
    "        merged_df_race = merged_df.iloc[indices]\n",
    "        # Calculate the concordance index\n",
    "        c_index_race = concordance_index(\n",
    "                        merged_df_race[interval_label],\n",
    "                        -merged_df_race[prediction_label],\n",
    "                        merged_df_race[event_label])\n",
    "\n",
    "        metric_dict[race] = c_index_race\n",
    "\n",
    "    race_c_index = list(metric_dict.values())\n",
    "    c_score = float(np.mean(race_c_index) - np.std(race_c_index))\n",
    "    if print_info:\n",
    "        print(f\"{Fore.GREEN}{Style.BRIGHT}# c-index={c_score:.4f}, mean={np.mean(race_c_index):.4f} std={np.std(race_c_index):.4f}{Style.RESET_ALL}\")\n",
    "    \n",
    "    return c_score, metric_dict\n",
    "\n",
    "\n",
    "def display_overall(df):\n",
    "    \n",
    "    race_groups = [\n",
    "        'American Indian or Alaska Native', 'Asian',\n",
    "       'Black or African-American', 'More than one race',\n",
    "       'Native Hawaiian or other Pacific Islander', 'White'\n",
    "    ]\n",
    "    df['mean'] = df[race_groups].mean(axis=1)\n",
    "    df['std'] = np.std(df[race_groups], axis=1)\n",
    "    df['score'] = df['mean'] - df['std']\n",
    "    df = df.T\n",
    "    df['Overall'] = df.mean(axis=1)\n",
    "    temp = df.drop(index=['std']).values\n",
    "    display(df\n",
    "            .iloc[:len(race_groups)]\n",
    "            .style\n",
    "            .format(precision=4)\n",
    "            .background_gradient(axis=None, vmin=temp.min(), vmax=temp.max(), cmap=\"cool\")\n",
    "            .concat(df.iloc[len(race_groups):].style.format(precision=3))\n",
    "           )\n"
   ]
  },
  {
   "cell_type": "markdown",
   "metadata": {},
   "source": [
    "# Load Train and Test"
   ]
  },
  {
   "cell_type": "code",
   "execution_count": 3,
   "metadata": {
    "_cell_guid": "b1076dfc-b9ad-4769-8c92-a6c4dae69d19",
    "_uuid": "8f2839f25d086af736a60e9eeb907d3b93b6e0e5",
    "execution": {
     "iopub.execute_input": "2024-12-10T06:45:48.958627Z",
     "iopub.status.busy": "2024-12-10T06:45:48.957939Z",
     "iopub.status.idle": "2024-12-10T06:45:49.287763Z",
     "shell.execute_reply": "2024-12-10T06:45:49.28684Z",
     "shell.execute_reply.started": "2024-12-10T06:45:48.95859Z"
    },
    "trusted": true
   },
   "outputs": [
    {
     "name": "stdout",
     "output_type": "stream",
     "text": [
      "Test shape: (1057, 60)\n",
      "Balanced Test shape: (2880, 60)\n",
      "Train shape: (25920, 60)\n"
     ]
    }
   ],
   "source": [
    "test = pd.read_csv(\"../preprocessed_data/custom_test_0.1_imbalanced.csv\")\n",
    "print(\"Test shape:\", test.shape )\n",
    "\n",
    "test_balanced = pd.read_csv(\"../preprocessed_data/custom_test_0.1_balanced.csv\")\n",
    "print(\"Balanced Test shape:\", test_balanced.shape )\n",
    "\n",
    "train = pd.read_csv(\"../preprocessed_data/custom_train_0.9_balanced.csv\")\n",
    "print(\"Train shape:\",train.shape)"
   ]
  },
  {
   "cell_type": "code",
   "execution_count": 4,
   "metadata": {
    "execution": {
     "iopub.execute_input": "2024-12-10T06:45:49.936711Z",
     "iopub.status.busy": "2024-12-10T06:45:49.935964Z",
     "iopub.status.idle": "2024-12-10T06:45:49.941283Z",
     "shell.execute_reply": "2024-12-10T06:45:49.940427Z",
     "shell.execute_reply.started": "2024-12-10T06:45:49.936677Z"
    },
    "trusted": true
   },
   "outputs": [],
   "source": [
    "def transform_survival_probability(df, time_col='efs_time', event_col='efs'):\n",
    "    \"\"\"\n",
    "    Transform using survival probability estimates\n",
    "    \"\"\"\n",
    "    kmf = KaplanMeierFitter()\n",
    "    kmf.fit(df[time_col], df[event_col])\n",
    "    y = kmf.survival_function_at_times(df[time_col]).values\n",
    "    \n",
    "    return y"
   ]
  },
  {
   "cell_type": "markdown",
   "metadata": {},
   "source": [
    "# Let's substract 0.1 instead of 0.2 from the Kaplan Meier survival scores "
   ]
  },
  {
   "cell_type": "code",
   "execution_count": 5,
   "metadata": {
    "execution": {
     "iopub.execute_input": "2024-12-10T06:45:50.340453Z",
     "iopub.status.busy": "2024-12-10T06:45:50.340144Z",
     "iopub.status.idle": "2024-12-10T06:45:50.697919Z",
     "shell.execute_reply": "2024-12-10T06:45:50.69707Z",
     "shell.execute_reply.started": "2024-12-10T06:45:50.340393Z"
    },
    "trusted": true
   },
   "outputs": [
    {
     "name": "stderr",
     "output_type": "stream",
     "text": [
      "No artists with labels found to put in legend.  Note that artists whose label start with an underscore are ignored when legend() is called with no argument.\n"
     ]
    },
    {
     "data": {
      "image/png": "[encoded data removed]",
      "text/plain": [
       "<Figure size 640x480 with 1 Axes>"
      ]
     },
     "metadata": {},
     "output_type": "display_data"
    }
   ],
   "source": [
    "SUBTRACT_KP_SCORE = 0.15\n",
    "\n",
    "train[\"label\"] = transform_survival_probability(train, time_col='efs_time', event_col='efs')\n",
    "train.loc[train['efs']==0, 'label'] -= SUBTRACT_KP_SCORE # or -0.1 according to other notebook\n",
    "\n",
    "test['label'] = transform_survival_probability(test, time_col='efs_time', event_col='efs')\n",
    "test.loc[test['efs']==0, 'label'] -= SUBTRACT_KP_SCORE # or -0.1 according to other notebook\n",
    "test_balanced['label'] = transform_survival_probability(test_balanced, time_col='efs_time', event_col='efs')\n",
    "test_balanced.loc[test_balanced['efs']==0, 'label'] -= SUBTRACT_KP_SCORE # or -0.1 according to other notebook\n",
    "\n",
    "sns.histplot(data=train, x='label', hue='efs', element='step', common_norm=False)\n",
    "plt.legend(title='efs')\n",
    "plt.title('Distribution of Target by EFS')\n",
    "plt.xlabel('Target')\n",
    "plt.ylabel('Density')\n",
    "plt.show()"
   ]
  },
  {
   "cell_type": "markdown",
   "metadata": {},
   "source": [
    "# Let's convert year_hct to year_hct_from_baseline to avoid a big difference in scale"
   ]
  },
  {
   "cell_type": "code",
   "execution_count": 6,
   "metadata": {},
   "outputs": [],
   "source": [
    "MIN_YEAR = train['year_hct'].min() # 2008\n",
    "train['year_hct_relative'] = train['year_hct'] - MIN_YEAR\n",
    "train.drop(columns=['year_hct'], inplace=True)\n",
    "\n",
    "test['year_hct_relative'] = test['year_hct'] - MIN_YEAR\n",
    "test.drop(columns=['year_hct'], inplace=True)   \n",
    "\n",
    "test_balanced['year_hct_relative'] = test_balanced['year_hct'] - MIN_YEAR   \n",
    "test_balanced.drop(columns=['year_hct'], inplace=True)  \n"
   ]
  },
  {
   "cell_type": "code",
   "execution_count": 7,
   "metadata": {
    "execution": {
     "iopub.execute_input": "2024-12-10T06:45:52.769417Z",
     "iopub.status.busy": "2024-12-10T06:45:52.769048Z",
     "iopub.status.idle": "2024-12-10T06:45:52.774899Z",
     "shell.execute_reply": "2024-12-10T06:45:52.773877Z",
     "shell.execute_reply.started": "2024-12-10T06:45:52.769363Z"
    },
    "trusted": true
   },
   "outputs": [
    {
     "name": "stdout",
     "output_type": "stream",
     "text": [
      "There are 57 FEATURES: ['dri_score', 'psych_disturb', 'cyto_score', 'diabetes', 'hla_match_c_high', 'hla_high_res_8', 'tbi_status', 'arrhythmia', 'hla_low_res_6', 'graft_type', 'vent_hist', 'renal_issue', 'pulm_severe', 'prim_disease_hct', 'hla_high_res_6', 'cmv_status', 'hla_high_res_10', 'hla_match_dqb1_high', 'tce_imm_match', 'hla_nmdp_6', 'hla_match_c_low', 'rituximab', 'hla_match_drb1_low', 'hla_match_dqb1_low', 'prod_type', 'cyto_score_detail', 'conditioning_intensity', 'ethnicity', 'obesity', 'mrd_hct', 'in_vivo_tcd', 'tce_match', 'hla_match_a_high', 'hepatic_severe', 'donor_age', 'prior_tumor', 'hla_match_b_low', 'peptic_ulcer', 'age_at_hct', 'hla_match_a_low', 'gvhd_proph', 'rheum_issue', 'sex_match', 'hla_match_b_high', 'race_group', 'comorbidity_score', 'karnofsky_score', 'hepatic_mild', 'tce_div_match', 'donor_related', 'melphalan_dose', 'hla_low_res_8', 'cardiac', 'hla_match_drb1_high', 'pulm_moderate', 'hla_low_res_10', 'year_hct_relative']\n"
     ]
    }
   ],
   "source": [
    "RMV = [\"ID\",\"efs\",\"efs_time\",\"label\",'y','kfold']\n",
    "FEATURES = [c for c in train.columns if not c in RMV]\n",
    "print(f\"There are {len(FEATURES)} FEATURES: {FEATURES}\")"
   ]
  },
  {
   "cell_type": "code",
   "execution_count": 8,
   "metadata": {
    "execution": {
     "iopub.execute_input": "2024-12-10T06:45:53.095326Z",
     "iopub.status.busy": "2024-12-10T06:45:53.095056Z",
     "iopub.status.idle": "2024-12-10T06:45:53.863499Z",
     "shell.execute_reply": "2024-12-10T06:45:53.862823Z",
     "shell.execute_reply.started": "2024-12-10T06:45:53.095299Z"
    },
    "trusted": true
   },
   "outputs": [],
   "source": [
    "CAT_FEATURES = []\n",
    "for c in FEATURES:\n",
    "    if train[c].dtype==\"object\":\n",
    "        CAT_FEATURES.append(c)\n",
    "        train[c] = train[c].fillna(\"NAN\")\n",
    "        test[c] = test[c].fillna(\"NAN\")\n",
    "        test_balanced[c] = test_balanced[c].fillna(\"NAN\")"
   ]
  },
  {
   "cell_type": "code",
   "execution_count": 9,
   "metadata": {
    "execution": {
     "iopub.execute_input": "2024-12-10T06:45:53.864972Z",
     "iopub.status.busy": "2024-12-10T06:45:53.864713Z",
     "iopub.status.idle": "2024-12-10T06:45:53.955581Z",
     "shell.execute_reply": "2024-12-10T06:45:53.954793Z",
     "shell.execute_reply.started": "2024-12-10T06:45:53.864946Z"
    },
    "trusted": true
   },
   "outputs": [
    {
     "name": "stdout",
     "output_type": "stream",
     "text": [
      "The CATEGORICAL FEATURES: dri_score, psych_disturb, cyto_score, diabetes, tbi_status, arrhythmia, graft_type, vent_hist, renal_issue, pulm_severe, prim_disease_hct, cmv_status, tce_imm_match, rituximab, prod_type, cyto_score_detail, conditioning_intensity, ethnicity, obesity, mrd_hct, in_vivo_tcd, tce_match, hepatic_severe, prior_tumor, peptic_ulcer, gvhd_proph, rheum_issue, sex_match, race_group, hepatic_mild, tce_div_match, donor_related, melphalan_dose, cardiac, pulm_moderate, "
     ]
    }
   ],
   "source": [
    "combined = pd.concat([train, test, test_balanced], axis=0, ignore_index=True)\n",
    "\n",
    "print(\"The CATEGORICAL FEATURES: \", end=\"\")\n",
    "for c in FEATURES:\n",
    "    if c in CAT_FEATURES:\n",
    "        print(f\"{c}, \", end=\"\")\n",
    "        combined[c] = combined[c].astype(\"category\")\n",
    "    else:\n",
    "        if combined[c].dtype == \"float64\":\n",
    "            combined[c] = combined[c].astype(\"float32\")\n",
    "        if combined[c].dtype == \"int64\":\n",
    "            combined[c] = combined[c].astype(\"int32\")\n",
    "\n",
    "train = combined.iloc[:len(train)].copy()\n",
    "test = combined.iloc[len(train):len(train) + len(test)].reset_index(drop=True).copy()\n",
    "test_balanced = combined.iloc[len(train) + len(test):].reset_index(drop=True).copy()\n"
   ]
  },
  {
   "cell_type": "code",
   "execution_count": 10,
   "metadata": {
    "execution": {
     "iopub.execute_input": "2024-12-10T06:45:55.924938Z",
     "iopub.status.busy": "2024-12-10T06:45:55.924108Z",
     "iopub.status.idle": "2024-12-10T06:45:55.975816Z",
     "shell.execute_reply": "2024-12-10T06:45:55.975216Z",
     "shell.execute_reply.started": "2024-12-10T06:45:55.924902Z"
    },
    "trusted": true
   },
   "outputs": [],
   "source": [
    "folds = 5\n",
    "train['kfold'] = -1  \n",
    "\n",
    "skf = StratifiedKFold(n_splits=folds, shuffle=True, random_state=42)\n",
    "groups = train['efs'].astype(str)\n",
    "for fold, (train_idx, val_idx) in enumerate(skf.split(X=train, y=groups)):\n",
    "    train.loc[val_idx, 'kfold'] = fold"
   ]
  },
  {
   "cell_type": "markdown",
   "metadata": {},
   "source": [
    "# Custom Metrics"
   ]
  },
  {
   "cell_type": "code",
   "execution_count": 11,
   "metadata": {
    "execution": {
     "iopub.execute_input": "2024-12-10T06:45:57.061938Z",
     "iopub.status.busy": "2024-12-10T06:45:57.061563Z",
     "iopub.status.idle": "2024-12-10T06:45:57.067525Z",
     "shell.execute_reply": "2024-12-10T06:45:57.0666Z",
     "shell.execute_reply.started": "2024-12-10T06:45:57.061902Z"
    },
    "trusted": true
   },
   "outputs": [],
   "source": [
    "def CIndexMetric_XGB(y_true, y_pred):\n",
    "    ds_pred[\"prediction\"] = y_pred\n",
    "    cindex_score, _ = custom_score(ds_true.copy(), ds_pred.copy(), \"ID\", print_info=False)\n",
    "    return -cindex_score\n",
    "\n",
    "def CIndexMetric_LGB(y_true, y_pred):\n",
    "    ds_pred[\"prediction\"] = y_pred\n",
    "    cindex_score, _ = custom_score(ds_true.copy(), ds_pred.copy(), \"ID\", print_info=False)\n",
    "    return ('C-Index', cindex_score, True)"
   ]
  },
  {
   "cell_type": "markdown",
   "metadata": {},
   "source": [
    "# Importance weighting"
   ]
  },
  {
   "cell_type": "code",
   "execution_count": 36,
   "metadata": {},
   "outputs": [],
   "source": [
    "target_props = {\n",
    "    'White': 1,\n",
    "    'Black or African-American': 0.09,\n",
    "    'Asian': 0.04,\n",
    "    'Native Hawaiian or other Pacific Islander': 0.02,\n",
    "    'American Indian or Alaska Native': 0.03,\n",
    "    'More than one race': 0.02\n",
    "}\n",
    "\n",
    "train_props = train['race_group'].value_counts(normalize=True).to_dict()"
   ]
  },
  {
   "cell_type": "markdown",
   "metadata": {},
   "source": [
    "## ~~upweight majority~~ Doesn't help"
   ]
  },
  {
   "cell_type": "code",
   "execution_count": 19,
   "metadata": {},
   "outputs": [
    {
     "data": {
      "text/plain": [
       "0        0.180376\n",
       "1        0.238400\n",
       "2        0.122380\n",
       "3        0.180376\n",
       "4        0.122380\n",
       "           ...   \n",
       "25915    4.769089\n",
       "25916    0.118872\n",
       "25917    0.238400\n",
       "25918    0.118872\n",
       "25919    4.769089\n",
       "Name: race_group, Length: 25920, dtype: category\n",
       "Categories (6, float64): [0.180376, 0.238400, 0.540626, 0.118872, 0.122380, 4.769089]"
      ]
     },
     "execution_count": 19,
     "metadata": {},
     "output_type": "execute_result"
    }
   ],
   "source": [
    "train['race_group'].apply(\n",
    "    lambda race: target_props[race] / train_props[race]\n",
    ")"
   ]
  },
  {
   "cell_type": "markdown",
   "metadata": {},
   "source": [
    "## downweight majority, same as upweight minority"
   ]
  },
  {
   "cell_type": "code",
   "execution_count": 18,
   "metadata": {},
   "outputs": [
    {
     "data": {
      "text/plain": [
       "0        5.543981\n",
       "1        4.194637\n",
       "2        8.171296\n",
       "3        5.543981\n",
       "4        8.171296\n",
       "           ...   \n",
       "25915    0.209684\n",
       "25916    8.412423\n",
       "25917    4.194637\n",
       "25918    8.412423\n",
       "25919    0.209684\n",
       "Name: race_group, Length: 25920, dtype: category\n",
       "Categories (6, float64): [5.543981, 4.194637, 1.849709, 8.412423, 8.171296, 0.209684]"
      ]
     },
     "execution_count": 18,
     "metadata": {},
     "output_type": "execute_result"
    }
   ],
   "source": [
    "train['race_group'].apply(\n",
    "    lambda r: train_props[r] / target_props[r]\n",
    ")"
   ]
  },
  {
   "cell_type": "code",
   "execution_count": 17,
   "metadata": {},
   "outputs": [
    {
     "data": {
      "text/plain": [
       "0                 American Indian or Alaska Native\n",
       "1                                            Asian\n",
       "2        Native Hawaiian or other Pacific Islander\n",
       "3                 American Indian or Alaska Native\n",
       "4        Native Hawaiian or other Pacific Islander\n",
       "                           ...                    \n",
       "25915                                        White\n",
       "25916                           More than one race\n",
       "25917                                        Asian\n",
       "25918                           More than one race\n",
       "25919                                        White\n",
       "Name: race_group, Length: 25920, dtype: category\n",
       "Categories (6, object): ['American Indian or Alaska Native', 'Asian', 'Black or African-American', 'More than one race', 'Native Hawaiian or other Pacific Islander', 'White']"
      ]
     },
     "execution_count": 17,
     "metadata": {},
     "output_type": "execute_result"
    }
   ],
   "source": [
    "train['race_group']"
   ]
  },
  {
   "cell_type": "markdown",
   "metadata": {},
   "source": [
    "# XGBoost with custom weighting"
   ]
  },
  {
   "cell_type": "code",
   "execution_count": 37,
   "metadata": {},
   "outputs": [],
   "source": [
    "target_props = {\n",
    "    'White': 1, # ignore white\n",
    "    'Black or African-American': 0.09,\n",
    "    'Asian': 0.04,\n",
    "    'Native Hawaiian or other Pacific Islander': 0.02,\n",
    "    'American Indian or Alaska Native': 0.03,\n",
    "    'More than one race': 0.02\n",
    "}"
   ]
  },
  {
   "cell_type": "code",
   "execution_count": 38,
   "metadata": {
    "execution": {
     "iopub.execute_input": "2024-12-10T06:45:59.406701Z",
     "iopub.status.busy": "2024-12-10T06:45:59.406346Z",
     "iopub.status.idle": "2024-12-10T06:53:30.590393Z",
     "shell.execute_reply": "2024-12-10T06:53:30.589586Z",
     "shell.execute_reply.started": "2024-12-10T06:45:59.406671Z"
    },
    "trusted": true
   },
   "outputs": [
    {
     "name": "stdout",
     "output_type": "stream",
     "text": [
      "[0]\tvalidation_0-CIndexMetric_XGB:-0.59061\n",
      "[500]\tvalidation_0-CIndexMetric_XGB:-0.66402\n",
      "[1000]\tvalidation_0-CIndexMetric_XGB:-0.66770\n",
      "[1042]\tvalidation_0-CIndexMetric_XGB:-0.66761\n",
      "\u001b[32m\u001b[1m# c-index=0.6677, mean=0.6816 std=0.0139\u001b[0m\n",
      "[0]\tvalidation_0-CIndexMetric_XGB:-0.58971\n",
      "[500]\tvalidation_0-CIndexMetric_XGB:-0.66477\n",
      "[1000]\tvalidation_0-CIndexMetric_XGB:-0.66894\n",
      "[1232]\tvalidation_0-CIndexMetric_XGB:-0.66952\n",
      "\u001b[32m\u001b[1m# c-index=0.6696, mean=0.6869 std=0.0173\u001b[0m\n",
      "[0]\tvalidation_0-CIndexMetric_XGB:-0.60307\n",
      "[500]\tvalidation_0-CIndexMetric_XGB:-0.67241\n",
      "[1000]\tvalidation_0-CIndexMetric_XGB:-0.67561\n",
      "[1089]\tvalidation_0-CIndexMetric_XGB:-0.67507\n",
      "\u001b[32m\u001b[1m# c-index=0.6757, mean=0.6829 std=0.0072\u001b[0m\n",
      "[0]\tvalidation_0-CIndexMetric_XGB:-0.58950\n",
      "[500]\tvalidation_0-CIndexMetric_XGB:-0.66053\n",
      "[1000]\tvalidation_0-CIndexMetric_XGB:-0.66502\n",
      "[1356]\tvalidation_0-CIndexMetric_XGB:-0.66577\n",
      "\u001b[32m\u001b[1m# c-index=0.6661, mean=0.6792 std=0.0131\u001b[0m\n",
      "[0]\tvalidation_0-CIndexMetric_XGB:-0.59755\n",
      "[500]\tvalidation_0-CIndexMetric_XGB:-0.67039\n",
      "[1000]\tvalidation_0-CIndexMetric_XGB:-0.67438\n",
      "[1352]\tvalidation_0-CIndexMetric_XGB:-0.67499\n",
      "\u001b[32m\u001b[1m# c-index=0.6752, mean=0.6857 std=0.0105\u001b[0m\n"
     ]
    }
   ],
   "source": [
    "# Prepare out‑of‑fold DataFrame to hold predictions and metadata\n",
    "oof_xgb = train[['kfold', 'ID', 'efs', 'efs_time', 'label', 'race_group']].copy()\n",
    "oof_xgb['prediction'] = 0.0\n",
    "feature_importances_xgb = pd.DataFrame({'feature': FEATURES})\n",
    "metric_df = []\n",
    "\n",
    "for fold in range(skf.n_splits):\n",
    "\n",
    "    # Split the data into training and validation sets (keep full data for weighting)\n",
    "    x_train_full = train[train.kfold != fold].copy()\n",
    "    x_valid_full = train[train.kfold == fold].copy()\n",
    "    \n",
    "    y_train = x_train_full['label']\n",
    "    y_valid = x_valid_full['label']\n",
    "\n",
    "    # Compute the training set’s race distribution (should be balanced)\n",
    "    train_race_props = x_train_full['race_group'].value_counts(normalize=True).to_dict()\n",
    "\n",
    "    # Compute sample weights: if a group’s training proportion is lower than its target proportion,\n",
    "    # the weight will be > 1 (upweight minority), and if higher than target, the weight < 1 (downweight majority).\n",
    "    # Note: In a balanced training set, this ratio is roughly: weight = (approx. 0.167) / (target_prop)\n",
    "    x_train_full['sample_weight'] = x_train_full['race_group'].apply(\n",
    "        lambda r: train_race_props[r] / target_props[r]\n",
    "    )\n",
    "    \n",
    "    # Now, select features for modeling (dropping race_group so it’s not used as a predictor)\n",
    "    x_train = x_train_full[FEATURES]\n",
    "    x_valid = x_valid_full[FEATURES]\n",
    "\n",
    "    # Prepare auxiliary data for custom metric evaluation\n",
    "    ds_true = oof_xgb.loc[oof_xgb.kfold == fold, [\"ID\", \"efs\", \"efs_time\", \"race_group\"]].copy().reset_index(drop=True)\n",
    "    ds_pred = oof_xgb.loc[oof_xgb.kfold == fold, [\"ID\"]].copy().reset_index(drop=True)\n",
    "    \n",
    "    clf = XGBRegressor(\n",
    "        tree_method=\"hist\",\n",
    "        max_depth=3,\n",
    "        colsample_bytree=0.5,\n",
    "        subsample=0.8,\n",
    "        n_estimators=10000,\n",
    "        learning_rate=0.03,\n",
    "        early_stopping_rounds=100,\n",
    "        objective='reg:squarederror',\n",
    "        enable_categorical=True,\n",
    "        min_child_weight=5,\n",
    "        eval_metric=CIndexMetric_XGB,  # your custom metric\n",
    "        disable_default_eval_metric=True\n",
    "    )\n",
    "    \n",
    "    clf.fit(\n",
    "        x_train, y_train,\n",
    "        sample_weight=x_train_full['sample_weight'],  # apply the computed weights\n",
    "        eval_set=[(x_valid, y_valid)],\n",
    "        verbose=500,\n",
    "    )\n",
    "    \n",
    "    # Record feature importances\n",
    "    feature_importances_xgb[f'fold_{fold + 1}'] = feature_importances_xgb['feature'].map(clf.get_booster().get_score())\n",
    "    \n",
    "    preds_valid = clf.predict(x_valid)\n",
    "    oof_xgb.loc[oof_xgb.kfold == fold, 'prediction'] = preds_valid\n",
    "\n",
    "    # Save model to file (ensure you’re not using joblib or pickle if prohibited)\n",
    "    clf.save_model(f\"xgb/xgb_model_upweight_minority_ignore_white_{fold}.bin\")\n",
    "\n",
    "    # Evaluate using your custom metric\n",
    "    y_true = oof_xgb.loc[oof_xgb.kfold == fold, [\"ID\", \"efs\", \"efs_time\", \"race_group\"]].copy().reset_index(drop=True)\n",
    "    y_pred = oof_xgb.loc[oof_xgb.kfold == fold, [\"ID\", \"prediction\"]].copy().reset_index(drop=True)\n",
    "    m, metric_dict = custom_score(y_true, y_pred, \"ID\", print_info=True)\n",
    "    metric_df.append(metric_dict)"
   ]
  },
  {
   "cell_type": "code",
   "execution_count": 39,
   "metadata": {},
   "outputs": [],
   "source": [
    "\n",
    "def evaluate_test_set(test_set, model_prefix, skf, FEATURES, custom_score, dataset_name=\"test set\"):\n",
    "    \"\"\"\n",
    "    Evaluate the model on a given test set (imbalanced or balanced).\n",
    "    \n",
    "    Parameters:\n",
    "        test_set (pd.DataFrame): The test set to evaluate.\n",
    "        model_prefix (str): Prefix for the saved model filenames.\n",
    "        skf (StratifiedKFold): Cross-validation object to determine the number of folds.\n",
    "        FEATURES (list): List of feature columns.\n",
    "        custom_score (function): Function to compute custom evaluation metric.\n",
    "        dataset_name (str): Name of the dataset for logging purposes.\n",
    "    \n",
    "    Returns:\n",
    "        None (prints evaluation results)\n",
    "    \"\"\"\n",
    "    print(f\"Evaluating on {dataset_name}...\")\n",
    "\n",
    "    # Ensure the test set has the required feature columns\n",
    "    if not set(FEATURES).issubset(test_set.columns):\n",
    "        raise ValueError(f\"{dataset_name} does not have all required feature columns.\")\n",
    "\n",
    "    # Initialize an array to accumulate predictions from each fold\n",
    "    test_predictions = np.zeros(len(test_set))\n",
    "\n",
    "    # Initialize a dictionary to store the evaluation metric for each fold\n",
    "    metric_df = []\n",
    "\n",
    "    # Loop over folds, load each saved model, and predict on the test set\n",
    "    for fold in range(skf.n_splits):\n",
    "        model_filename = f\"xgb/{model_prefix}_{fold}.bin\"\n",
    "        clf = XGBRegressor()  # We only use this to load the saved booster\n",
    "        clf.load_model(model_filename)\n",
    "        fold_pred = clf.predict(test_set[FEATURES])\n",
    "        test_set[f'prediction_{fold}'] = fold_pred\n",
    "\n",
    "        # If labels exist, compute the custom metric for this fold\n",
    "        if \"label\" in test_set.columns:\n",
    "            y_true_test = test_set[[\"ID\", \"efs\", \"efs_time\", \"race_group\"]].copy().reset_index(drop=True)\n",
    "            y_pred_test = test_set[[\"ID\", f\"prediction_{fold}\"]].copy().reset_index(drop=True)\n",
    "            m, metric_dict = custom_score(y_true_test, y_pred_test, \"ID\", print_info=True, prediction_label=f\"prediction_{fold}\")\n",
    "            print(f\"{dataset_name} evaluation metric for fold {fold}:\", metric_dict)\n",
    "            metric_df.append(metric_dict)\n",
    "\n",
    "        test_predictions += fold_pred\n",
    "\n",
    "    # Average the predictions across folds\n",
    "    test_predictions /= skf.n_splits\n",
    "    test_set['ensemble_prediction'] = test_predictions\n",
    "\n",
    "    print('\\nENSEMBLE:')\n",
    "    # If labels exist, compute the custom metric for an ensemble\n",
    "    if \"label\" in test_set.columns:\n",
    "        y_true_test = test_set[[\"ID\", \"efs\", \"efs_time\", \"race_group\"]].copy().reset_index(drop=True)\n",
    "        y_pred_test = test_set[[\"ID\", \"ensemble_prediction\"]].copy().reset_index(drop=True)\n",
    "        m, ensemble_metric_dict = custom_score(y_true_test, y_pred_test, \"ID\", print_info=True, prediction_label=\"ensemble_prediction\")\n",
    "        print(f\"{dataset_name} evaluation metric:\", metric_dict)\n",
    "    else:\n",
    "        print(f\"{dataset_name} predictions computed. No labels available for evaluation.\")\n",
    "    return ensemble_metric_dict, metric_df\n"
   ]
  },
  {
   "cell_type": "markdown",
   "metadata": {},
   "source": [
    "# Evaluation on full test set"
   ]
  },
  {
   "cell_type": "markdown",
   "metadata": {},
   "source": [
    "## upweight minority and ignore white"
   ]
  },
  {
   "cell_type": "code",
   "execution_count": 40,
   "metadata": {},
   "outputs": [
    {
     "name": "stdout",
     "output_type": "stream",
     "text": [
      "Evaluating on balanced test set...\n",
      "\u001b[32m\u001b[1m# c-index=0.6546, mean=0.6657 std=0.0111\u001b[0m\n",
      "balanced test set evaluation metric for fold 0: {'American Indian or Alaska Native': 0.6852392464534963, 'Asian': 0.6699527924558063, 'Black or African-American': 0.6523944502461584, 'More than one race': 0.6659624603883968, 'Native Hawaiian or other Pacific Islander': 0.6529193004271585, 'White': 0.6679261620813162}\n",
      "\u001b[32m\u001b[1m# c-index=0.6534, mean=0.6671 std=0.0137\u001b[0m\n",
      "balanced test set evaluation metric for fold 1: {'American Indian or Alaska Native': 0.6915568124800437, 'Asian': 0.6676205820385998, 'Black or African-American': 0.6535666332772107, 'More than one race': 0.6682608039559368, 'Native Hawaiian or other Pacific Islander': 0.6493270238218599, 'White': 0.6720588814106349}\n",
      "\u001b[32m\u001b[1m# c-index=0.6583, mean=0.6680 std=0.0096\u001b[0m\n",
      "balanced test set evaluation metric for fold 2: {'American Indian or Alaska Native': 0.6834032750992108, 'Asian': 0.6704935948713904, 'Black or African-American': 0.657019245114128, 'More than one race': 0.6656606576977098, 'Native Hawaiian or other Pacific Islander': 0.6562352480628187, 'White': 0.6750206635966466}\n",
      "\u001b[32m\u001b[1m# c-index=0.6532, mean=0.6654 std=0.0122\u001b[0m\n",
      "balanced test set evaluation metric for fold 3: {'American Indian or Alaska Native': 0.6867787255393879, 'Asian': 0.6671023130569983, 'Black or African-American': 0.6477057181219497, 'More than one race': 0.663931096124157, 'Native Hawaiian or other Pacific Islander': 0.656246761769887, 'White': 0.6706025898374464}\n",
      "\u001b[32m\u001b[1m# c-index=0.6543, mean=0.6681 std=0.0138\u001b[0m\n",
      "balanced test set evaluation metric for fold 4: {'American Indian or Alaska Native': 0.694282260639511, 'Asian': 0.6691641222664128, 'Black or African-American': 0.6533641652991198, 'More than one race': 0.6691081730490197, 'Native Hawaiian or other Pacific Islander': 0.6527005399928615, 'White': 0.6700614004014641}\n",
      "\n",
      "ENSEMBLE:\n",
      "\u001b[32m\u001b[1m# c-index=0.6572, mean=0.6692 std=0.0121\u001b[0m\n",
      "balanced test set evaluation metric: {'American Indian or Alaska Native': 0.694282260639511, 'Asian': 0.6691641222664128, 'Black or African-American': 0.6533641652991198, 'More than one race': 0.6691081730490197, 'Native Hawaiian or other Pacific Islander': 0.6527005399928615, 'White': 0.6700614004014641}\n"
     ]
    }
   ],
   "source": [
    "ensemble_balanced_metric_dict, balanced_metric_dicts = evaluate_test_set(test_balanced, \n",
    "                                                                         \"xgb_model_upweight_minority_ignore_white\", skf, FEATURES, custom_score, dataset_name=\"balanced test set\")\n"
   ]
  },
  {
   "cell_type": "code",
   "execution_count": 41,
   "metadata": {},
   "outputs": [
    {
     "data": {
      "text/html": [
       "<style type=\"text/css\">\n",
       "#T_a9f90_row0_col0 {\n",
       "  background-color: #ce31ff;\n",
       "  color: #f1f1f1;\n",
       "}\n",
       "#T_a9f90_row0_col1 {\n",
       "  background-color: #f10eff;\n",
       "  color: #f1f1f1;\n",
       "}\n",
       "#T_a9f90_row0_col2 {\n",
       "  background-color: #c43bff;\n",
       "  color: #f1f1f1;\n",
       "}\n",
       "#T_a9f90_row0_col3 {\n",
       "  background-color: #d629ff;\n",
       "  color: #f1f1f1;\n",
       "}\n",
       "#T_a9f90_row0_col4 {\n",
       "  background-color: #ff00ff;\n",
       "  color: #f1f1f1;\n",
       "}\n",
       "#T_a9f90_row0_col5 {\n",
       "  background-color: #de21ff;\n",
       "  color: #f1f1f1;\n",
       "}\n",
       "#T_a9f90_row1_col0, #T_a9f90_row5_col4 {\n",
       "  background-color: #7a85ff;\n",
       "  color: #f1f1f1;\n",
       "}\n",
       "#T_a9f90_row1_col1 {\n",
       "  background-color: #6d92ff;\n",
       "  color: #f1f1f1;\n",
       "}\n",
       "#T_a9f90_row1_col2, #T_a9f90_row5_col3 {\n",
       "  background-color: #7d82ff;\n",
       "  color: #f1f1f1;\n",
       "}\n",
       "#T_a9f90_row1_col3 {\n",
       "  background-color: #6a95ff;\n",
       "  color: #f1f1f1;\n",
       "}\n",
       "#T_a9f90_row1_col4, #T_a9f90_row3_col4 {\n",
       "  background-color: #758aff;\n",
       "  color: #f1f1f1;\n",
       "}\n",
       "#T_a9f90_row1_col5 {\n",
       "  background-color: #748bff;\n",
       "  color: #f1f1f1;\n",
       "}\n",
       "#T_a9f90_row2_col0 {\n",
       "  background-color: #19e6ff;\n",
       "  color: #000000;\n",
       "}\n",
       "#T_a9f90_row2_col1 {\n",
       "  background-color: #20dfff;\n",
       "  color: #000000;\n",
       "}\n",
       "#T_a9f90_row2_col2 {\n",
       "  background-color: #33ccff;\n",
       "  color: #000000;\n",
       "}\n",
       "#T_a9f90_row2_col3 {\n",
       "  background-color: #00ffff;\n",
       "  color: #000000;\n",
       "}\n",
       "#T_a9f90_row2_col4, #T_a9f90_row4_col5 {\n",
       "  background-color: #1fe0ff;\n",
       "  color: #000000;\n",
       "}\n",
       "#T_a9f90_row2_col5, #T_a9f90_row4_col0 {\n",
       "  background-color: #1ce3ff;\n",
       "  color: #000000;\n",
       "}\n",
       "#T_a9f90_row3_col0 {\n",
       "  background-color: #649bff;\n",
       "  color: #f1f1f1;\n",
       "}\n",
       "#T_a9f90_row3_col1 {\n",
       "  background-color: #708fff;\n",
       "  color: #f1f1f1;\n",
       "}\n",
       "#T_a9f90_row3_col2 {\n",
       "  background-color: #629dff;\n",
       "  color: #f1f1f1;\n",
       "}\n",
       "#T_a9f90_row3_col3 {\n",
       "  background-color: #59a6ff;\n",
       "  color: #f1f1f1;\n",
       "}\n",
       "#T_a9f90_row3_col5 {\n",
       "  background-color: #6798ff;\n",
       "  color: #f1f1f1;\n",
       "}\n",
       "#T_a9f90_row4_col1 {\n",
       "  background-color: #08f7ff;\n",
       "  color: #000000;\n",
       "}\n",
       "#T_a9f90_row4_col2, #T_a9f90_row4_col3 {\n",
       "  background-color: #2ed1ff;\n",
       "  color: #000000;\n",
       "}\n",
       "#T_a9f90_row4_col4 {\n",
       "  background-color: #1be4ff;\n",
       "  color: #000000;\n",
       "}\n",
       "#T_a9f90_row5_col0 {\n",
       "  background-color: #6f90ff;\n",
       "  color: #f1f1f1;\n",
       "}\n",
       "#T_a9f90_row5_col1 {\n",
       "  background-color: #857aff;\n",
       "  color: #f1f1f1;\n",
       "}\n",
       "#T_a9f90_row5_col2 {\n",
       "  background-color: #9669ff;\n",
       "  color: #f1f1f1;\n",
       "}\n",
       "#T_a9f90_row5_col5 {\n",
       "  background-color: #807fff;\n",
       "  color: #f1f1f1;\n",
       "}\n",
       "</style>\n",
       "<table id=\"T_a9f90\">\n",
       "  <thead>\n",
       "    <tr>\n",
       "      <th class=\"blank level0\" >&nbsp;</th>\n",
       "      <th id=\"T_a9f90_level0_col0\" class=\"col_heading level0 col0\" >0</th>\n",
       "      <th id=\"T_a9f90_level0_col1\" class=\"col_heading level0 col1\" >1</th>\n",
       "      <th id=\"T_a9f90_level0_col2\" class=\"col_heading level0 col2\" >2</th>\n",
       "      <th id=\"T_a9f90_level0_col3\" class=\"col_heading level0 col3\" >3</th>\n",
       "      <th id=\"T_a9f90_level0_col4\" class=\"col_heading level0 col4\" >4</th>\n",
       "      <th id=\"T_a9f90_level0_col5\" class=\"col_heading level0 col5\" >Overall</th>\n",
       "    </tr>\n",
       "  </thead>\n",
       "  <tbody>\n",
       "    <tr>\n",
       "      <th id=\"T_a9f90_level0_row0\" class=\"row_heading level0 row0\" >American Indian or Alaska Native</th>\n",
       "      <td id=\"T_a9f90_row0_col0\" class=\"data row0 col0\" >0.6852</td>\n",
       "      <td id=\"T_a9f90_row0_col1\" class=\"data row0 col1\" >0.6916</td>\n",
       "      <td id=\"T_a9f90_row0_col2\" class=\"data row0 col2\" >0.6834</td>\n",
       "      <td id=\"T_a9f90_row0_col3\" class=\"data row0 col3\" >0.6868</td>\n",
       "      <td id=\"T_a9f90_row0_col4\" class=\"data row0 col4\" >0.6943</td>\n",
       "      <td id=\"T_a9f90_row0_col5\" class=\"data row0 col5\" >0.6883</td>\n",
       "    </tr>\n",
       "    <tr>\n",
       "      <th id=\"T_a9f90_level0_row1\" class=\"row_heading level0 row1\" >Asian</th>\n",
       "      <td id=\"T_a9f90_row1_col0\" class=\"data row1 col0\" >0.6700</td>\n",
       "      <td id=\"T_a9f90_row1_col1\" class=\"data row1 col1\" >0.6676</td>\n",
       "      <td id=\"T_a9f90_row1_col2\" class=\"data row1 col2\" >0.6705</td>\n",
       "      <td id=\"T_a9f90_row1_col3\" class=\"data row1 col3\" >0.6671</td>\n",
       "      <td id=\"T_a9f90_row1_col4\" class=\"data row1 col4\" >0.6692</td>\n",
       "      <td id=\"T_a9f90_row1_col5\" class=\"data row1 col5\" >0.6689</td>\n",
       "    </tr>\n",
       "    <tr>\n",
       "      <th id=\"T_a9f90_level0_row2\" class=\"row_heading level0 row2\" >Black or African-American</th>\n",
       "      <td id=\"T_a9f90_row2_col0\" class=\"data row2 col0\" >0.6524</td>\n",
       "      <td id=\"T_a9f90_row2_col1\" class=\"data row2 col1\" >0.6536</td>\n",
       "      <td id=\"T_a9f90_row2_col2\" class=\"data row2 col2\" >0.6570</td>\n",
       "      <td id=\"T_a9f90_row2_col3\" class=\"data row2 col3\" >0.6477</td>\n",
       "      <td id=\"T_a9f90_row2_col4\" class=\"data row2 col4\" >0.6534</td>\n",
       "      <td id=\"T_a9f90_row2_col5\" class=\"data row2 col5\" >0.6528</td>\n",
       "    </tr>\n",
       "    <tr>\n",
       "      <th id=\"T_a9f90_level0_row3\" class=\"row_heading level0 row3\" >More than one race</th>\n",
       "      <td id=\"T_a9f90_row3_col0\" class=\"data row3 col0\" >0.6660</td>\n",
       "      <td id=\"T_a9f90_row3_col1\" class=\"data row3 col1\" >0.6683</td>\n",
       "      <td id=\"T_a9f90_row3_col2\" class=\"data row3 col2\" >0.6657</td>\n",
       "      <td id=\"T_a9f90_row3_col3\" class=\"data row3 col3\" >0.6639</td>\n",
       "      <td id=\"T_a9f90_row3_col4\" class=\"data row3 col4\" >0.6691</td>\n",
       "      <td id=\"T_a9f90_row3_col5\" class=\"data row3 col5\" >0.6666</td>\n",
       "    </tr>\n",
       "    <tr>\n",
       "      <th id=\"T_a9f90_level0_row4\" class=\"row_heading level0 row4\" >Native Hawaiian or other Pacific Islander</th>\n",
       "      <td id=\"T_a9f90_row4_col0\" class=\"data row4 col0\" >0.6529</td>\n",
       "      <td id=\"T_a9f90_row4_col1\" class=\"data row4 col1\" >0.6493</td>\n",
       "      <td id=\"T_a9f90_row4_col2\" class=\"data row4 col2\" >0.6562</td>\n",
       "      <td id=\"T_a9f90_row4_col3\" class=\"data row4 col3\" >0.6562</td>\n",
       "      <td id=\"T_a9f90_row4_col4\" class=\"data row4 col4\" >0.6527</td>\n",
       "      <td id=\"T_a9f90_row4_col5\" class=\"data row4 col5\" >0.6535</td>\n",
       "    </tr>\n",
       "    <tr>\n",
       "      <th id=\"T_a9f90_level0_row5\" class=\"row_heading level0 row5\" >White</th>\n",
       "      <td id=\"T_a9f90_row5_col0\" class=\"data row5 col0\" >0.6679</td>\n",
       "      <td id=\"T_a9f90_row5_col1\" class=\"data row5 col1\" >0.6721</td>\n",
       "      <td id=\"T_a9f90_row5_col2\" class=\"data row5 col2\" >0.6750</td>\n",
       "      <td id=\"T_a9f90_row5_col3\" class=\"data row5 col3\" >0.6706</td>\n",
       "      <td id=\"T_a9f90_row5_col4\" class=\"data row5 col4\" >0.6701</td>\n",
       "      <td id=\"T_a9f90_row5_col5\" class=\"data row5 col5\" >0.6711</td>\n",
       "    </tr>\n",
       "    <tr>\n",
       "      <th id=\"T_a9f90_level0_foot0_row0\" class=\"foot0_row_heading level0 foot0_row0\" >mean</th>\n",
       "      <td id=\"T_a9f90_foot0_row0_col0\" class=\"foot0_data foot0_row0 col0\" >0.666</td>\n",
       "      <td id=\"T_a9f90_foot0_row0_col1\" class=\"foot0_data foot0_row0 col1\" >0.667</td>\n",
       "      <td id=\"T_a9f90_foot0_row0_col2\" class=\"foot0_data foot0_row0 col2\" >0.668</td>\n",
       "      <td id=\"T_a9f90_foot0_row0_col3\" class=\"foot0_data foot0_row0 col3\" >0.665</td>\n",
       "      <td id=\"T_a9f90_foot0_row0_col4\" class=\"foot0_data foot0_row0 col4\" >0.668</td>\n",
       "      <td id=\"T_a9f90_foot0_row0_col5\" class=\"foot0_data foot0_row0 col5\" >0.667</td>\n",
       "    </tr>\n",
       "    <tr>\n",
       "      <th id=\"T_a9f90_level0_foot0_row1\" class=\"foot0_row_heading level0 foot0_row1\" >std</th>\n",
       "      <td id=\"T_a9f90_foot0_row1_col0\" class=\"foot0_data foot0_row1 col0\" >0.011</td>\n",
       "      <td id=\"T_a9f90_foot0_row1_col1\" class=\"foot0_data foot0_row1 col1\" >0.014</td>\n",
       "      <td id=\"T_a9f90_foot0_row1_col2\" class=\"foot0_data foot0_row1 col2\" >0.010</td>\n",
       "      <td id=\"T_a9f90_foot0_row1_col3\" class=\"foot0_data foot0_row1 col3\" >0.012</td>\n",
       "      <td id=\"T_a9f90_foot0_row1_col4\" class=\"foot0_data foot0_row1 col4\" >0.014</td>\n",
       "      <td id=\"T_a9f90_foot0_row1_col5\" class=\"foot0_data foot0_row1 col5\" >0.012</td>\n",
       "    </tr>\n",
       "    <tr>\n",
       "      <th id=\"T_a9f90_level0_foot0_row2\" class=\"foot0_row_heading level0 foot0_row2\" >score</th>\n",
       "      <td id=\"T_a9f90_foot0_row2_col0\" class=\"foot0_data foot0_row2 col0\" >0.655</td>\n",
       "      <td id=\"T_a9f90_foot0_row2_col1\" class=\"foot0_data foot0_row2 col1\" >0.653</td>\n",
       "      <td id=\"T_a9f90_foot0_row2_col2\" class=\"foot0_data foot0_row2 col2\" >0.658</td>\n",
       "      <td id=\"T_a9f90_foot0_row2_col3\" class=\"foot0_data foot0_row2 col3\" >0.653</td>\n",
       "      <td id=\"T_a9f90_foot0_row2_col4\" class=\"foot0_data foot0_row2 col4\" >0.654</td>\n",
       "      <td id=\"T_a9f90_foot0_row2_col5\" class=\"foot0_data foot0_row2 col5\" >0.655</td>\n",
       "    </tr>\n",
       "  </tbody>\n",
       "</table>\n"
      ],
      "text/plain": [
       "<pandas.io.formats.style.Styler at 0x358b208b0>"
      ]
     },
     "metadata": {},
     "output_type": "display_data"
    }
   ],
   "source": [
    "display_overall(pd.DataFrame(balanced_metric_dicts))"
   ]
  },
  {
   "cell_type": "markdown",
   "metadata": {},
   "source": [
    "## upweight minority"
   ]
  },
  {
   "cell_type": "code",
   "execution_count": 43,
   "metadata": {},
   "outputs": [
    {
     "name": "stdout",
     "output_type": "stream",
     "text": [
      "Evaluating on balanced test set...\n",
      "\u001b[32m\u001b[1m# c-index=0.6552, mean=0.6668 std=0.0116\u001b[0m\n",
      "balanced test set evaluation metric for fold 0: {'American Indian or Alaska Native': 0.687531359759157, 'Asian': 0.6699753258897889, 'Black or African-American': 0.6549519404957269, 'More than one race': 0.6631998049890306, 'Native Hawaiian or other Pacific Islander': 0.6531726019826604, 'White': 0.6718719250600228}\n",
      "\u001b[32m\u001b[1m# c-index=0.6543, mean=0.6672 std=0.0129\u001b[0m\n",
      "balanced test set evaluation metric for fold 1: {'American Indian or Alaska Native': 0.6906787392236464, 'Asian': 0.667361447547799, 'Black or African-American': 0.6551970333113105, 'More than one race': 0.6680634714274106, 'Native Hawaiian or other Pacific Islander': 0.6504323397004134, 'White': 0.6716062502459952}\n",
      "\u001b[32m\u001b[1m# c-index=0.6554, mean=0.6666 std=0.0112\u001b[0m\n",
      "balanced test set evaluation metric for fold 2: {'American Indian or Alaska Native': 0.6830383615381107, 'Asian': 0.6690401883795081, 'Black or African-American': 0.6528633234585793, 'More than one race': 0.6660088915715795, 'Native Hawaiian or other Pacific Islander': 0.6525393480939058, 'White': 0.6759948045814146}\n",
      "\u001b[32m\u001b[1m# c-index=0.6518, mean=0.6647 std=0.0130\u001b[0m\n",
      "balanced test set evaluation metric for fold 3: {'American Indian or Alaska Native': 0.6860717055147562, 'Asian': 0.6697161913989883, 'Black or African-American': 0.6475405468766651, 'More than one race': 0.6631301582142567, 'Native Hawaiian or other Pacific Islander': 0.6509274291043488, 'White': 0.6708879442673279}\n",
      "\u001b[32m\u001b[1m# c-index=0.6545, mean=0.6679 std=0.0134\u001b[0m\n",
      "balanced test set evaluation metric for fold 4: {'American Indian or Alaska Native': 0.6927313780048351, 'Asian': 0.6696260576630576, 'Black or African-American': 0.6535240084397178, 'More than one race': 0.6684117053012804, 'Native Hawaiian or other Pacific Islander': 0.6524817795585645, 'White': 0.6705140315661038}\n",
      "\n",
      "ENSEMBLE:\n",
      "\u001b[32m\u001b[1m# c-index=0.6566, mean=0.6690 std=0.0124\u001b[0m\n",
      "balanced test set evaluation metric: {'American Indian or Alaska Native': 0.6927313780048351, 'Asian': 0.6696260576630576, 'Black or African-American': 0.6535240084397178, 'More than one race': 0.6684117053012804, 'Native Hawaiian or other Pacific Islander': 0.6524817795585645, 'White': 0.6705140315661038}\n"
     ]
    }
   ],
   "source": [
    "ensemble_balanced_metric_dict, balanced_metric_dicts = evaluate_test_set(test_balanced, \n",
    "                                                                         \"xgb_model_downweight_majority\", skf, FEATURES, custom_score, dataset_name=\"balanced test set\")\n"
   ]
  },
  {
   "cell_type": "markdown",
   "metadata": {},
   "source": [
    "# Evaluation on imbalanced test subset"
   ]
  },
  {
   "cell_type": "markdown",
   "metadata": {},
   "source": [
    "## upweight minority ignore white"
   ]
  },
  {
   "cell_type": "code",
   "execution_count": 44,
   "metadata": {},
   "outputs": [
    {
     "name": "stdout",
     "output_type": "stream",
     "text": [
      "Evaluating on imbalanced test set...\n",
      "\u001b[32m\u001b[1m# c-index=0.5780, mean=0.6338 std=0.0558\u001b[0m\n",
      "imbalanced test set evaluation metric for fold 0: {'American Indian or Alaska Native': 0.6842818428184282, 'Asian': 0.6410490307867731, 'Black or African-American': 0.6406561737973842, 'More than one race': 0.5137686860739575, 'Native Hawaiian or other Pacific Islander': 0.6549925484351714, 'White': 0.6679261620813162}\n",
      "\u001b[32m\u001b[1m# c-index=0.5895, mean=0.6402 std=0.0507\u001b[0m\n",
      "imbalanced test set evaluation metric for fold 1: {'American Indian or Alaska Native': 0.6907181571815718, 'Asian': 0.6474344355758267, 'Black or African-American': 0.6372940220202468, 'More than one race': 0.5334382376081825, 'Native Hawaiian or other Pacific Islander': 0.6602086438152012, 'White': 0.6720588814106349}\n",
      "\u001b[32m\u001b[1m# c-index=0.5820, mean=0.6373 std=0.0553\u001b[0m\n",
      "imbalanced test set evaluation metric for fold 2: {'American Indian or Alaska Native': 0.6747967479674797, 'Asian': 0.6419612314709237, 'Black or African-American': 0.6482302519766496, 'More than one race': 0.5169158143194336, 'Native Hawaiian or other Pacific Islander': 0.6669150521609538, 'White': 0.6750206635966466}\n",
      "\u001b[32m\u001b[1m# c-index=0.5814, mean=0.6385 std=0.0571\u001b[0m\n",
      "imbalanced test set evaluation metric for fold 3: {'American Indian or Alaska Native': 0.6869918699186992, 'Asian': 0.6481185860889396, 'Black or African-American': 0.6369615015148157, 'More than one race': 0.5161290322580645, 'Native Hawaiian or other Pacific Islander': 0.6721311475409836, 'White': 0.6706025898374464}\n",
      "\u001b[32m\u001b[1m# c-index=0.5857, mean=0.6367 std=0.0510\u001b[0m\n",
      "imbalanced test set evaluation metric for fold 4: {'American Indian or Alaska Native': 0.6788617886178862, 'Asian': 0.6474344355758267, 'Black or African-American': 0.6410995344712924, 'More than one race': 0.5263571990558615, 'Native Hawaiian or other Pacific Islander': 0.6564828614008942, 'White': 0.6700614004014641}\n",
      "\n",
      "ENSEMBLE:\n",
      "\u001b[32m\u001b[1m# c-index=0.5839, mean=0.6388 std=0.0549\u001b[0m\n",
      "imbalanced test set evaluation metric: {'American Indian or Alaska Native': 0.6788617886178862, 'Asian': 0.6474344355758267, 'Black or African-American': 0.6410995344712924, 'More than one race': 0.5263571990558615, 'Native Hawaiian or other Pacific Islander': 0.6564828614008942, 'White': 0.6700614004014641}\n"
     ]
    }
   ],
   "source": [
    "ensemble_imbalanced_metric_dict, imbalanced_metric_dicts = evaluate_test_set(test, \"xgb_model_upweight_minority_ignore_white\", skf, FEATURES, custom_score, dataset_name=\"imbalanced test set\")\n"
   ]
  },
  {
   "cell_type": "code",
   "execution_count": 45,
   "metadata": {},
   "outputs": [
    {
     "data": {
      "text/html": [
       "<style type=\"text/css\">\n",
       "#T_54101_row0_col0 {\n",
       "  background-color: #f609ff;\n",
       "  color: #f1f1f1;\n",
       "}\n",
       "#T_54101_row0_col1 {\n",
       "  background-color: #ff00ff;\n",
       "  color: #f1f1f1;\n",
       "}\n",
       "#T_54101_row0_col2 {\n",
       "  background-color: #e817ff;\n",
       "  color: #f1f1f1;\n",
       "}\n",
       "#T_54101_row0_col3 {\n",
       "  background-color: #fa05ff;\n",
       "  color: #f1f1f1;\n",
       "}\n",
       "#T_54101_row0_col4 {\n",
       "  background-color: #ee11ff;\n",
       "  color: #f1f1f1;\n",
       "}\n",
       "#T_54101_row0_col5 {\n",
       "  background-color: #f50aff;\n",
       "  color: #f1f1f1;\n",
       "}\n",
       "#T_54101_row1_col0, #T_54101_row2_col4 {\n",
       "  background-color: #b847ff;\n",
       "  color: #f1f1f1;\n",
       "}\n",
       "#T_54101_row1_col1, #T_54101_row1_col4 {\n",
       "  background-color: #c13eff;\n",
       "  color: #f1f1f1;\n",
       "}\n",
       "#T_54101_row1_col2 {\n",
       "  background-color: #b946ff;\n",
       "  color: #f1f1f1;\n",
       "}\n",
       "#T_54101_row1_col3, #T_54101_row2_col2 {\n",
       "  background-color: #c23dff;\n",
       "  color: #f1f1f1;\n",
       "}\n",
       "#T_54101_row1_col5 {\n",
       "  background-color: #be41ff;\n",
       "  color: #f1f1f1;\n",
       "}\n",
       "#T_54101_row2_col0, #T_54101_row2_col5 {\n",
       "  background-color: #b748ff;\n",
       "  color: #f1f1f1;\n",
       "}\n",
       "#T_54101_row2_col1, #T_54101_row2_col3 {\n",
       "  background-color: #b24dff;\n",
       "  color: #f1f1f1;\n",
       "}\n",
       "#T_54101_row3_col0 {\n",
       "  background-color: #00ffff;\n",
       "  color: #000000;\n",
       "}\n",
       "#T_54101_row3_col1 {\n",
       "  background-color: #1ce3ff;\n",
       "  color: #000000;\n",
       "}\n",
       "#T_54101_row3_col2 {\n",
       "  background-color: #04fbff;\n",
       "  color: #000000;\n",
       "}\n",
       "#T_54101_row3_col3 {\n",
       "  background-color: #03fcff;\n",
       "  color: #000000;\n",
       "}\n",
       "#T_54101_row3_col4 {\n",
       "  background-color: #12edff;\n",
       "  color: #000000;\n",
       "}\n",
       "#T_54101_row3_col5 {\n",
       "  background-color: #0af5ff;\n",
       "  color: #000000;\n",
       "}\n",
       "#T_54101_row4_col0 {\n",
       "  background-color: #cc33ff;\n",
       "  color: #f1f1f1;\n",
       "}\n",
       "#T_54101_row4_col1 {\n",
       "  background-color: #d32cff;\n",
       "  color: #f1f1f1;\n",
       "}\n",
       "#T_54101_row4_col2 {\n",
       "  background-color: #dd22ff;\n",
       "  color: #f1f1f1;\n",
       "}\n",
       "#T_54101_row4_col3, #T_54101_row5_col1 {\n",
       "  background-color: #e51aff;\n",
       "  color: #f1f1f1;\n",
       "}\n",
       "#T_54101_row4_col4 {\n",
       "  background-color: #ce31ff;\n",
       "  color: #f1f1f1;\n",
       "}\n",
       "#T_54101_row4_col5 {\n",
       "  background-color: #d629ff;\n",
       "  color: #f1f1f1;\n",
       "}\n",
       "#T_54101_row5_col0 {\n",
       "  background-color: #df20ff;\n",
       "  color: #f1f1f1;\n",
       "}\n",
       "#T_54101_row5_col2 {\n",
       "  background-color: #e916ff;\n",
       "  color: #f1f1f1;\n",
       "}\n",
       "#T_54101_row5_col3, #T_54101_row5_col4 {\n",
       "  background-color: #e21dff;\n",
       "  color: #f1f1f1;\n",
       "}\n",
       "#T_54101_row5_col5 {\n",
       "  background-color: #e31cff;\n",
       "  color: #f1f1f1;\n",
       "}\n",
       "</style>\n",
       "<table id=\"T_54101\">\n",
       "  <thead>\n",
       "    <tr>\n",
       "      <th class=\"blank level0\" >&nbsp;</th>\n",
       "      <th id=\"T_54101_level0_col0\" class=\"col_heading level0 col0\" >0</th>\n",
       "      <th id=\"T_54101_level0_col1\" class=\"col_heading level0 col1\" >1</th>\n",
       "      <th id=\"T_54101_level0_col2\" class=\"col_heading level0 col2\" >2</th>\n",
       "      <th id=\"T_54101_level0_col3\" class=\"col_heading level0 col3\" >3</th>\n",
       "      <th id=\"T_54101_level0_col4\" class=\"col_heading level0 col4\" >4</th>\n",
       "      <th id=\"T_54101_level0_col5\" class=\"col_heading level0 col5\" >Overall</th>\n",
       "    </tr>\n",
       "  </thead>\n",
       "  <tbody>\n",
       "    <tr>\n",
       "      <th id=\"T_54101_level0_row0\" class=\"row_heading level0 row0\" >American Indian or Alaska Native</th>\n",
       "      <td id=\"T_54101_row0_col0\" class=\"data row0 col0\" >0.6843</td>\n",
       "      <td id=\"T_54101_row0_col1\" class=\"data row0 col1\" >0.6907</td>\n",
       "      <td id=\"T_54101_row0_col2\" class=\"data row0 col2\" >0.6748</td>\n",
       "      <td id=\"T_54101_row0_col3\" class=\"data row0 col3\" >0.6870</td>\n",
       "      <td id=\"T_54101_row0_col4\" class=\"data row0 col4\" >0.6789</td>\n",
       "      <td id=\"T_54101_row0_col5\" class=\"data row0 col5\" >0.6831</td>\n",
       "    </tr>\n",
       "    <tr>\n",
       "      <th id=\"T_54101_level0_row1\" class=\"row_heading level0 row1\" >Asian</th>\n",
       "      <td id=\"T_54101_row1_col0\" class=\"data row1 col0\" >0.6410</td>\n",
       "      <td id=\"T_54101_row1_col1\" class=\"data row1 col1\" >0.6474</td>\n",
       "      <td id=\"T_54101_row1_col2\" class=\"data row1 col2\" >0.6420</td>\n",
       "      <td id=\"T_54101_row1_col3\" class=\"data row1 col3\" >0.6481</td>\n",
       "      <td id=\"T_54101_row1_col4\" class=\"data row1 col4\" >0.6474</td>\n",
       "      <td id=\"T_54101_row1_col5\" class=\"data row1 col5\" >0.6452</td>\n",
       "    </tr>\n",
       "    <tr>\n",
       "      <th id=\"T_54101_level0_row2\" class=\"row_heading level0 row2\" >Black or African-American</th>\n",
       "      <td id=\"T_54101_row2_col0\" class=\"data row2 col0\" >0.6407</td>\n",
       "      <td id=\"T_54101_row2_col1\" class=\"data row2 col1\" >0.6373</td>\n",
       "      <td id=\"T_54101_row2_col2\" class=\"data row2 col2\" >0.6482</td>\n",
       "      <td id=\"T_54101_row2_col3\" class=\"data row2 col3\" >0.6370</td>\n",
       "      <td id=\"T_54101_row2_col4\" class=\"data row2 col4\" >0.6411</td>\n",
       "      <td id=\"T_54101_row2_col5\" class=\"data row2 col5\" >0.6408</td>\n",
       "    </tr>\n",
       "    <tr>\n",
       "      <th id=\"T_54101_level0_row3\" class=\"row_heading level0 row3\" >More than one race</th>\n",
       "      <td id=\"T_54101_row3_col0\" class=\"data row3 col0\" >0.5138</td>\n",
       "      <td id=\"T_54101_row3_col1\" class=\"data row3 col1\" >0.5334</td>\n",
       "      <td id=\"T_54101_row3_col2\" class=\"data row3 col2\" >0.5169</td>\n",
       "      <td id=\"T_54101_row3_col3\" class=\"data row3 col3\" >0.5161</td>\n",
       "      <td id=\"T_54101_row3_col4\" class=\"data row3 col4\" >0.5264</td>\n",
       "      <td id=\"T_54101_row3_col5\" class=\"data row3 col5\" >0.5213</td>\n",
       "    </tr>\n",
       "    <tr>\n",
       "      <th id=\"T_54101_level0_row4\" class=\"row_heading level0 row4\" >Native Hawaiian or other Pacific Islander</th>\n",
       "      <td id=\"T_54101_row4_col0\" class=\"data row4 col0\" >0.6550</td>\n",
       "      <td id=\"T_54101_row4_col1\" class=\"data row4 col1\" >0.6602</td>\n",
       "      <td id=\"T_54101_row4_col2\" class=\"data row4 col2\" >0.6669</td>\n",
       "      <td id=\"T_54101_row4_col3\" class=\"data row4 col3\" >0.6721</td>\n",
       "      <td id=\"T_54101_row4_col4\" class=\"data row4 col4\" >0.6565</td>\n",
       "      <td id=\"T_54101_row4_col5\" class=\"data row4 col5\" >0.6621</td>\n",
       "    </tr>\n",
       "    <tr>\n",
       "      <th id=\"T_54101_level0_row5\" class=\"row_heading level0 row5\" >White</th>\n",
       "      <td id=\"T_54101_row5_col0\" class=\"data row5 col0\" >0.6679</td>\n",
       "      <td id=\"T_54101_row5_col1\" class=\"data row5 col1\" >0.6721</td>\n",
       "      <td id=\"T_54101_row5_col2\" class=\"data row5 col2\" >0.6750</td>\n",
       "      <td id=\"T_54101_row5_col3\" class=\"data row5 col3\" >0.6706</td>\n",
       "      <td id=\"T_54101_row5_col4\" class=\"data row5 col4\" >0.6701</td>\n",
       "      <td id=\"T_54101_row5_col5\" class=\"data row5 col5\" >0.6711</td>\n",
       "    </tr>\n",
       "    <tr>\n",
       "      <th id=\"T_54101_level0_foot0_row0\" class=\"foot0_row_heading level0 foot0_row0\" >mean</th>\n",
       "      <td id=\"T_54101_foot0_row0_col0\" class=\"foot0_data foot0_row0 col0\" >0.634</td>\n",
       "      <td id=\"T_54101_foot0_row0_col1\" class=\"foot0_data foot0_row0 col1\" >0.640</td>\n",
       "      <td id=\"T_54101_foot0_row0_col2\" class=\"foot0_data foot0_row0 col2\" >0.637</td>\n",
       "      <td id=\"T_54101_foot0_row0_col3\" class=\"foot0_data foot0_row0 col3\" >0.638</td>\n",
       "      <td id=\"T_54101_foot0_row0_col4\" class=\"foot0_data foot0_row0 col4\" >0.637</td>\n",
       "      <td id=\"T_54101_foot0_row0_col5\" class=\"foot0_data foot0_row0 col5\" >0.637</td>\n",
       "    </tr>\n",
       "    <tr>\n",
       "      <th id=\"T_54101_level0_foot0_row1\" class=\"foot0_row_heading level0 foot0_row1\" >std</th>\n",
       "      <td id=\"T_54101_foot0_row1_col0\" class=\"foot0_data foot0_row1 col0\" >0.056</td>\n",
       "      <td id=\"T_54101_foot0_row1_col1\" class=\"foot0_data foot0_row1 col1\" >0.051</td>\n",
       "      <td id=\"T_54101_foot0_row1_col2\" class=\"foot0_data foot0_row1 col2\" >0.055</td>\n",
       "      <td id=\"T_54101_foot0_row1_col3\" class=\"foot0_data foot0_row1 col3\" >0.057</td>\n",
       "      <td id=\"T_54101_foot0_row1_col4\" class=\"foot0_data foot0_row1 col4\" >0.051</td>\n",
       "      <td id=\"T_54101_foot0_row1_col5\" class=\"foot0_data foot0_row1 col5\" >0.054</td>\n",
       "    </tr>\n",
       "    <tr>\n",
       "      <th id=\"T_54101_level0_foot0_row2\" class=\"foot0_row_heading level0 foot0_row2\" >score</th>\n",
       "      <td id=\"T_54101_foot0_row2_col0\" class=\"foot0_data foot0_row2 col0\" >0.578</td>\n",
       "      <td id=\"T_54101_foot0_row2_col1\" class=\"foot0_data foot0_row2 col1\" >0.589</td>\n",
       "      <td id=\"T_54101_foot0_row2_col2\" class=\"foot0_data foot0_row2 col2\" >0.582</td>\n",
       "      <td id=\"T_54101_foot0_row2_col3\" class=\"foot0_data foot0_row2 col3\" >0.581</td>\n",
       "      <td id=\"T_54101_foot0_row2_col4\" class=\"foot0_data foot0_row2 col4\" >0.586</td>\n",
       "      <td id=\"T_54101_foot0_row2_col5\" class=\"foot0_data foot0_row2 col5\" >0.583</td>\n",
       "    </tr>\n",
       "  </tbody>\n",
       "</table>\n"
      ],
      "text/plain": [
       "<pandas.io.formats.style.Styler at 0x155b72a60>"
      ]
     },
     "metadata": {},
     "output_type": "display_data"
    }
   ],
   "source": [
    "display_overall(pd.DataFrame(imbalanced_metric_dicts))"
   ]
  },
  {
   "cell_type": "markdown",
   "metadata": {},
   "source": [
    "## upweight minority"
   ]
  },
  {
   "cell_type": "code",
   "execution_count": 46,
   "metadata": {},
   "outputs": [
    {
     "name": "stdout",
     "output_type": "stream",
     "text": [
      "Evaluating on imbalanced test set...\n",
      "\u001b[32m\u001b[1m# c-index=0.5733, mean=0.6343 std=0.0609\u001b[0m\n",
      "imbalanced test set evaluation metric for fold 0: {'American Indian or Alaska Native': 0.6832655826558266, 'Asian': 0.6483466362599772, 'Black or African-American': 0.6458656617158058, 'More than one race': 0.5011801730920535, 'Native Hawaiian or other Pacific Islander': 0.6549925484351714, 'White': 0.6718719250600228}\n",
      "\u001b[32m\u001b[1m# c-index=0.5935, mean=0.6410 std=0.0475\u001b[0m\n",
      "imbalanced test set evaluation metric for fold 1: {'American Indian or Alaska Native': 0.6876693766937669, 'Asian': 0.6501710376282782, 'Black or African-American': 0.6393999852213109, 'More than one race': 0.5405192761605035, 'Native Hawaiian or other Pacific Islander': 0.6564828614008942, 'White': 0.6716062502459952}\n",
      "\u001b[32m\u001b[1m# c-index=0.5793, mean=0.6357 std=0.0564\u001b[0m\n",
      "imbalanced test set evaluation metric for fold 2: {'American Indian or Alaska Native': 0.6744579945799458, 'Asian': 0.6433295324971494, 'Black or African-American': 0.6443877928027784, 'More than one race': 0.5129819040125885, 'Native Hawaiian or other Pacific Islander': 0.6631892697466468, 'White': 0.6759948045814146}\n",
      "\u001b[32m\u001b[1m# c-index=0.5788, mean=0.6354 std=0.0566\u001b[0m\n",
      "imbalanced test set evaluation metric for fold 3: {'American Indian or Alaska Native': 0.6941056910569106, 'Asian': 0.6481185860889396, 'Black or African-American': 0.6361486736126506, 'More than one race': 0.5161290322580645, 'Native Hawaiian or other Pacific Islander': 0.646795827123696, 'White': 0.6708879442673279}\n",
      "\u001b[32m\u001b[1m# c-index=0.5853, mean=0.6373 std=0.0520\u001b[0m\n",
      "imbalanced test set evaluation metric for fold 4: {'American Indian or Alaska Native': 0.6839430894308943, 'Asian': 0.6446978335233752, 'Black or African-American': 0.6424665632158427, 'More than one race': 0.5255704169944925, 'Native Hawaiian or other Pacific Islander': 0.6564828614008942, 'White': 0.6705140315661038}\n",
      "\n",
      "ENSEMBLE:\n",
      "\u001b[32m\u001b[1m# c-index=0.5826, mean=0.6374 std=0.0548\u001b[0m\n",
      "imbalanced test set evaluation metric: {'American Indian or Alaska Native': 0.6839430894308943, 'Asian': 0.6446978335233752, 'Black or African-American': 0.6424665632158427, 'More than one race': 0.5255704169944925, 'Native Hawaiian or other Pacific Islander': 0.6564828614008942, 'White': 0.6705140315661038}\n"
     ]
    }
   ],
   "source": [
    "ensemble_imbalanced_metric_dict, imbalanced_metric_dicts = evaluate_test_set(test, \n",
    "                                                                             \"xgb_model_downweight_majority\", skf, FEATURES, custom_score, dataset_name=\"imbalanced test set\")\n"
   ]
  },
  {
   "cell_type": "code",
   "execution_count": 47,
   "metadata": {},
   "outputs": [
    {
     "data": {
      "text/html": [
       "<style type=\"text/css\">\n",
       "#T_09fa9_row0_col0 {\n",
       "  background-color: #f10eff;\n",
       "  color: #f1f1f1;\n",
       "}\n",
       "#T_09fa9_row0_col1 {\n",
       "  background-color: #f708ff;\n",
       "  color: #f1f1f1;\n",
       "}\n",
       "#T_09fa9_row0_col2 {\n",
       "  background-color: #e51aff;\n",
       "  color: #f1f1f1;\n",
       "}\n",
       "#T_09fa9_row0_col3 {\n",
       "  background-color: #ff00ff;\n",
       "  color: #f1f1f1;\n",
       "}\n",
       "#T_09fa9_row0_col4 {\n",
       "  background-color: #f20dff;\n",
       "  color: #f1f1f1;\n",
       "}\n",
       "#T_09fa9_row0_col5 {\n",
       "  background-color: #f30cff;\n",
       "  color: #f1f1f1;\n",
       "}\n",
       "#T_09fa9_row1_col0 {\n",
       "  background-color: #c33cff;\n",
       "  color: #f1f1f1;\n",
       "}\n",
       "#T_09fa9_row1_col1 {\n",
       "  background-color: #c53aff;\n",
       "  color: #f1f1f1;\n",
       "}\n",
       "#T_09fa9_row1_col2 {\n",
       "  background-color: #bc43ff;\n",
       "  color: #f1f1f1;\n",
       "}\n",
       "#T_09fa9_row1_col3 {\n",
       "  background-color: #c23dff;\n",
       "  color: #f1f1f1;\n",
       "}\n",
       "#T_09fa9_row1_col4, #T_09fa9_row2_col2 {\n",
       "  background-color: #be41ff;\n",
       "  color: #f1f1f1;\n",
       "}\n",
       "#T_09fa9_row1_col5, #T_09fa9_row4_col3 {\n",
       "  background-color: #c13eff;\n",
       "  color: #f1f1f1;\n",
       "}\n",
       "#T_09fa9_row2_col0 {\n",
       "  background-color: #bf40ff;\n",
       "  color: #f1f1f1;\n",
       "}\n",
       "#T_09fa9_row2_col1 {\n",
       "  background-color: #b748ff;\n",
       "  color: #f1f1f1;\n",
       "}\n",
       "#T_09fa9_row2_col3 {\n",
       "  background-color: #b34cff;\n",
       "  color: #f1f1f1;\n",
       "}\n",
       "#T_09fa9_row2_col4 {\n",
       "  background-color: #bb44ff;\n",
       "  color: #f1f1f1;\n",
       "}\n",
       "#T_09fa9_row2_col5 {\n",
       "  background-color: #ba45ff;\n",
       "  color: #f1f1f1;\n",
       "}\n",
       "#T_09fa9_row3_col0 {\n",
       "  background-color: #00ffff;\n",
       "  color: #000000;\n",
       "}\n",
       "#T_09fa9_row3_col1 {\n",
       "  background-color: #34cbff;\n",
       "  color: #000000;\n",
       "}\n",
       "#T_09fa9_row3_col2 {\n",
       "  background-color: #0ff0ff;\n",
       "  color: #000000;\n",
       "}\n",
       "#T_09fa9_row3_col3 {\n",
       "  background-color: #13ecff;\n",
       "  color: #000000;\n",
       "}\n",
       "#T_09fa9_row3_col4 {\n",
       "  background-color: #20dfff;\n",
       "  color: #000000;\n",
       "}\n",
       "#T_09fa9_row3_col5 {\n",
       "  background-color: #18e7ff;\n",
       "  color: #000000;\n",
       "}\n",
       "#T_09fa9_row4_col0, #T_09fa9_row4_col5 {\n",
       "  background-color: #cc33ff;\n",
       "  color: #f1f1f1;\n",
       "}\n",
       "#T_09fa9_row4_col1, #T_09fa9_row4_col4 {\n",
       "  background-color: #ce31ff;\n",
       "  color: #f1f1f1;\n",
       "}\n",
       "#T_09fa9_row4_col2 {\n",
       "  background-color: #d629ff;\n",
       "  color: #f1f1f1;\n",
       "}\n",
       "#T_09fa9_row5_col0, #T_09fa9_row5_col1, #T_09fa9_row5_col5 {\n",
       "  background-color: #e21dff;\n",
       "  color: #f1f1f1;\n",
       "}\n",
       "#T_09fa9_row5_col2 {\n",
       "  background-color: #e718ff;\n",
       "  color: #f1f1f1;\n",
       "}\n",
       "#T_09fa9_row5_col3 {\n",
       "  background-color: #e11eff;\n",
       "  color: #f1f1f1;\n",
       "}\n",
       "#T_09fa9_row5_col4 {\n",
       "  background-color: #e01fff;\n",
       "  color: #f1f1f1;\n",
       "}\n",
       "</style>\n",
       "<table id=\"T_09fa9\">\n",
       "  <thead>\n",
       "    <tr>\n",
       "      <th class=\"blank level0\" >&nbsp;</th>\n",
       "      <th id=\"T_09fa9_level0_col0\" class=\"col_heading level0 col0\" >0</th>\n",
       "      <th id=\"T_09fa9_level0_col1\" class=\"col_heading level0 col1\" >1</th>\n",
       "      <th id=\"T_09fa9_level0_col2\" class=\"col_heading level0 col2\" >2</th>\n",
       "      <th id=\"T_09fa9_level0_col3\" class=\"col_heading level0 col3\" >3</th>\n",
       "      <th id=\"T_09fa9_level0_col4\" class=\"col_heading level0 col4\" >4</th>\n",
       "      <th id=\"T_09fa9_level0_col5\" class=\"col_heading level0 col5\" >Overall</th>\n",
       "    </tr>\n",
       "  </thead>\n",
       "  <tbody>\n",
       "    <tr>\n",
       "      <th id=\"T_09fa9_level0_row0\" class=\"row_heading level0 row0\" >American Indian or Alaska Native</th>\n",
       "      <td id=\"T_09fa9_row0_col0\" class=\"data row0 col0\" >0.6833</td>\n",
       "      <td id=\"T_09fa9_row0_col1\" class=\"data row0 col1\" >0.6877</td>\n",
       "      <td id=\"T_09fa9_row0_col2\" class=\"data row0 col2\" >0.6745</td>\n",
       "      <td id=\"T_09fa9_row0_col3\" class=\"data row0 col3\" >0.6941</td>\n",
       "      <td id=\"T_09fa9_row0_col4\" class=\"data row0 col4\" >0.6839</td>\n",
       "      <td id=\"T_09fa9_row0_col5\" class=\"data row0 col5\" >0.6847</td>\n",
       "    </tr>\n",
       "    <tr>\n",
       "      <th id=\"T_09fa9_level0_row1\" class=\"row_heading level0 row1\" >Asian</th>\n",
       "      <td id=\"T_09fa9_row1_col0\" class=\"data row1 col0\" >0.6483</td>\n",
       "      <td id=\"T_09fa9_row1_col1\" class=\"data row1 col1\" >0.6502</td>\n",
       "      <td id=\"T_09fa9_row1_col2\" class=\"data row1 col2\" >0.6433</td>\n",
       "      <td id=\"T_09fa9_row1_col3\" class=\"data row1 col3\" >0.6481</td>\n",
       "      <td id=\"T_09fa9_row1_col4\" class=\"data row1 col4\" >0.6447</td>\n",
       "      <td id=\"T_09fa9_row1_col5\" class=\"data row1 col5\" >0.6469</td>\n",
       "    </tr>\n",
       "    <tr>\n",
       "      <th id=\"T_09fa9_level0_row2\" class=\"row_heading level0 row2\" >Black or African-American</th>\n",
       "      <td id=\"T_09fa9_row2_col0\" class=\"data row2 col0\" >0.6459</td>\n",
       "      <td id=\"T_09fa9_row2_col1\" class=\"data row2 col1\" >0.6394</td>\n",
       "      <td id=\"T_09fa9_row2_col2\" class=\"data row2 col2\" >0.6444</td>\n",
       "      <td id=\"T_09fa9_row2_col3\" class=\"data row2 col3\" >0.6361</td>\n",
       "      <td id=\"T_09fa9_row2_col4\" class=\"data row2 col4\" >0.6425</td>\n",
       "      <td id=\"T_09fa9_row2_col5\" class=\"data row2 col5\" >0.6417</td>\n",
       "    </tr>\n",
       "    <tr>\n",
       "      <th id=\"T_09fa9_level0_row3\" class=\"row_heading level0 row3\" >More than one race</th>\n",
       "      <td id=\"T_09fa9_row3_col0\" class=\"data row3 col0\" >0.5012</td>\n",
       "      <td id=\"T_09fa9_row3_col1\" class=\"data row3 col1\" >0.5405</td>\n",
       "      <td id=\"T_09fa9_row3_col2\" class=\"data row3 col2\" >0.5130</td>\n",
       "      <td id=\"T_09fa9_row3_col3\" class=\"data row3 col3\" >0.5161</td>\n",
       "      <td id=\"T_09fa9_row3_col4\" class=\"data row3 col4\" >0.5256</td>\n",
       "      <td id=\"T_09fa9_row3_col5\" class=\"data row3 col5\" >0.5193</td>\n",
       "    </tr>\n",
       "    <tr>\n",
       "      <th id=\"T_09fa9_level0_row4\" class=\"row_heading level0 row4\" >Native Hawaiian or other Pacific Islander</th>\n",
       "      <td id=\"T_09fa9_row4_col0\" class=\"data row4 col0\" >0.6550</td>\n",
       "      <td id=\"T_09fa9_row4_col1\" class=\"data row4 col1\" >0.6565</td>\n",
       "      <td id=\"T_09fa9_row4_col2\" class=\"data row4 col2\" >0.6632</td>\n",
       "      <td id=\"T_09fa9_row4_col3\" class=\"data row4 col3\" >0.6468</td>\n",
       "      <td id=\"T_09fa9_row4_col4\" class=\"data row4 col4\" >0.6565</td>\n",
       "      <td id=\"T_09fa9_row4_col5\" class=\"data row4 col5\" >0.6556</td>\n",
       "    </tr>\n",
       "    <tr>\n",
       "      <th id=\"T_09fa9_level0_row5\" class=\"row_heading level0 row5\" >White</th>\n",
       "      <td id=\"T_09fa9_row5_col0\" class=\"data row5 col0\" >0.6719</td>\n",
       "      <td id=\"T_09fa9_row5_col1\" class=\"data row5 col1\" >0.6716</td>\n",
       "      <td id=\"T_09fa9_row5_col2\" class=\"data row5 col2\" >0.6760</td>\n",
       "      <td id=\"T_09fa9_row5_col3\" class=\"data row5 col3\" >0.6709</td>\n",
       "      <td id=\"T_09fa9_row5_col4\" class=\"data row5 col4\" >0.6705</td>\n",
       "      <td id=\"T_09fa9_row5_col5\" class=\"data row5 col5\" >0.6722</td>\n",
       "    </tr>\n",
       "    <tr>\n",
       "      <th id=\"T_09fa9_level0_foot0_row0\" class=\"foot0_row_heading level0 foot0_row0\" >mean</th>\n",
       "      <td id=\"T_09fa9_foot0_row0_col0\" class=\"foot0_data foot0_row0 col0\" >0.634</td>\n",
       "      <td id=\"T_09fa9_foot0_row0_col1\" class=\"foot0_data foot0_row0 col1\" >0.641</td>\n",
       "      <td id=\"T_09fa9_foot0_row0_col2\" class=\"foot0_data foot0_row0 col2\" >0.636</td>\n",
       "      <td id=\"T_09fa9_foot0_row0_col3\" class=\"foot0_data foot0_row0 col3\" >0.635</td>\n",
       "      <td id=\"T_09fa9_foot0_row0_col4\" class=\"foot0_data foot0_row0 col4\" >0.637</td>\n",
       "      <td id=\"T_09fa9_foot0_row0_col5\" class=\"foot0_data foot0_row0 col5\" >0.637</td>\n",
       "    </tr>\n",
       "    <tr>\n",
       "      <th id=\"T_09fa9_level0_foot0_row1\" class=\"foot0_row_heading level0 foot0_row1\" >std</th>\n",
       "      <td id=\"T_09fa9_foot0_row1_col0\" class=\"foot0_data foot0_row1 col0\" >0.061</td>\n",
       "      <td id=\"T_09fa9_foot0_row1_col1\" class=\"foot0_data foot0_row1 col1\" >0.048</td>\n",
       "      <td id=\"T_09fa9_foot0_row1_col2\" class=\"foot0_data foot0_row1 col2\" >0.056</td>\n",
       "      <td id=\"T_09fa9_foot0_row1_col3\" class=\"foot0_data foot0_row1 col3\" >0.057</td>\n",
       "      <td id=\"T_09fa9_foot0_row1_col4\" class=\"foot0_data foot0_row1 col4\" >0.052</td>\n",
       "      <td id=\"T_09fa9_foot0_row1_col5\" class=\"foot0_data foot0_row1 col5\" >0.055</td>\n",
       "    </tr>\n",
       "    <tr>\n",
       "      <th id=\"T_09fa9_level0_foot0_row2\" class=\"foot0_row_heading level0 foot0_row2\" >score</th>\n",
       "      <td id=\"T_09fa9_foot0_row2_col0\" class=\"foot0_data foot0_row2 col0\" >0.573</td>\n",
       "      <td id=\"T_09fa9_foot0_row2_col1\" class=\"foot0_data foot0_row2 col1\" >0.593</td>\n",
       "      <td id=\"T_09fa9_foot0_row2_col2\" class=\"foot0_data foot0_row2 col2\" >0.579</td>\n",
       "      <td id=\"T_09fa9_foot0_row2_col3\" class=\"foot0_data foot0_row2 col3\" >0.579</td>\n",
       "      <td id=\"T_09fa9_foot0_row2_col4\" class=\"foot0_data foot0_row2 col4\" >0.585</td>\n",
       "      <td id=\"T_09fa9_foot0_row2_col5\" class=\"foot0_data foot0_row2 col5\" >0.582</td>\n",
       "    </tr>\n",
       "  </tbody>\n",
       "</table>\n"
      ],
      "text/plain": [
       "<pandas.io.formats.style.Styler at 0x358692a30>"
      ]
     },
     "metadata": {},
     "output_type": "display_data"
    }
   ],
   "source": [
    "display_overall(pd.DataFrame(imbalanced_metric_dicts))"
   ]
  },
  {
   "cell_type": "code",
   "execution_count": 45,
   "metadata": {},
   "outputs": [
    {
     "data": {
      "text/plain": [
       "race_group\n",
       "White                                        0.456954\n",
       "Black or African-American                    0.245033\n",
       "Asian                                        0.108798\n",
       "American Indian or Alaska Native             0.081362\n",
       "More than one race                           0.053926\n",
       "Native Hawaiian or other Pacific Islander    0.053926\n",
       "Name: proportion, dtype: float64"
      ]
     },
     "execution_count": 45,
     "metadata": {},
     "output_type": "execute_result"
    }
   ],
   "source": [
    "test['race_group'].value_counts(normalize=True)"
   ]
  },
  {
   "cell_type": "code",
   "execution_count": null,
   "metadata": {
    "execution": {
     "iopub.execute_input": "2024-12-10T06:53:37.820277Z",
     "iopub.status.busy": "2024-12-10T06:53:37.819499Z",
     "iopub.status.idle": "2024-12-10T06:53:37.824829Z",
     "shell.execute_reply": "2024-12-10T06:53:37.823859Z",
     "shell.execute_reply.started": "2024-12-10T06:53:37.820232Z"
    },
    "trusted": true
   },
   "outputs": [],
   "source": [
    "# For inference:\n",
    "# model_path = f\"./xxx/xgb_model.bin\"\n",
    "# model = XGBRegressor()\n",
    "# model.load_model(model_path)\n",
    "# prediction = model.predict()"
   ]
  },
  {
   "cell_type": "markdown",
   "metadata": {},
   "source": [
    "# Lightgbm"
   ]
  },
  {
   "cell_type": "code",
   "execution_count": null,
   "metadata": {
    "execution": {
     "iopub.execute_input": "2024-12-10T06:55:23.498382Z",
     "iopub.status.busy": "2024-12-10T06:55:23.497743Z",
     "iopub.status.idle": "2024-12-10T07:01:01.257051Z",
     "shell.execute_reply": "2024-12-10T07:01:01.256322Z",
     "shell.execute_reply.started": "2024-12-10T06:55:23.49835Z"
    },
    "trusted": true
   },
   "outputs": [],
   "source": [
    "%%time\n",
    "    \n",
    "oof_lgb = train[['kfold','ID','efs','efs_time','label','race_group']].copy()\n",
    "oof_lgb['prediction'] = 0.0\n",
    "feature_importances_lgb = pd.DataFrame()\n",
    "feature_importances_lgb['feature'] = FEATURES\n",
    "metric_df = []\n",
    "\n",
    "for fold in range(skf.n_splits):\n",
    "    \n",
    "    x_train = train[train.kfold != fold].copy()\n",
    "    x_valid = train[train.kfold == fold].copy()\n",
    "\n",
    "    y_train = x_train['label']\n",
    "    y_valid = x_valid['label']\n",
    "    y_label = x_valid['efs']\n",
    "\n",
    "    x_train = x_train[FEATURES]\n",
    "    x_valid = x_valid[FEATURES]\n",
    "\n",
    "    ds_true = oof_lgb.loc[oof_lgb.kfold==fold, [\"ID\",\"efs\",\"efs_time\",\"race_group\"]].copy().reset_index(drop=True)\n",
    "    ds_pred = oof_lgb.loc[oof_lgb.kfold==fold, [\"ID\"]].copy().reset_index(drop=True)\n",
    "\n",
    "    lgb_params = {\n",
    "        'max_depth': 6,\n",
    "        'num_leaves': 40,\n",
    "        'learning_rate': 0.03,\n",
    "        'n_estimators': 10000,\n",
    "        'objective': 'l2',\n",
    "        'subsample': 0.8,\n",
    "        'colsample_bytree': 0.5,\n",
    "        'n_jobs': -1,\n",
    "        'verbose': -1,\n",
    "        'device': 'gpu',\n",
    "        'metric': 'None' # only show the custom metric\n",
    "    }\n",
    "    clf = LGBMRegressor(**lgb_params)\n",
    "    clf.fit(\n",
    "        x_train, y_train,\n",
    "        eval_set=[(x_valid, y_valid)],\n",
    "        categorical_feature=CAT_FEATURES,\n",
    "        eval_metric=CIndexMetric_LGB, # the custom metric\n",
    "        callbacks=[callback.log_evaluation(500), callback.early_stopping(100)]\n",
    "    )\n",
    "    feature_importances_lgb[f'fold_{fold + 1}'] = clf.feature_importances_\n",
    "\n",
    "    preds_valid = clf.predict(x_valid)\n",
    "    oof_lgb.loc[oof_lgb.kfold==fold, 'prediction'] = preds_valid\n",
    "\n",
    "    joblib.dump(clf, f\"lgb_model_{fold}.pkl\")\n",
    "\n",
    "    y_true = oof_lgb.loc[oof_lgb.kfold==fold, [\"ID\",\"efs\",\"efs_time\",\"race_group\"]].copy().reset_index(drop=True)\n",
    "    y_pred = oof_lgb.loc[oof_lgb.kfold==fold, [\"ID\",\"prediction\"]].copy().reset_index(drop=True)\n",
    "    m, metric_dict = custom_score(y_true, y_pred, \"ID\", print_info=True)\n",
    "    metric_df.append(metric_dict)"
   ]
  },
  {
   "cell_type": "code",
   "execution_count": null,
   "metadata": {
    "execution": {
     "iopub.execute_input": "2024-12-10T07:01:05.457732Z",
     "iopub.status.busy": "2024-12-10T07:01:05.457276Z",
     "iopub.status.idle": "2024-12-10T07:01:05.462006Z",
     "shell.execute_reply": "2024-12-10T07:01:05.461136Z",
     "shell.execute_reply.started": "2024-12-10T07:01:05.457681Z"
    },
    "trusted": true
   },
   "outputs": [],
   "source": [
    "# For inference:\n",
    "# model_path = f\"./xxx/lgb_model.pkl\"\n",
    "# model = joblib.load(model_path)\n",
    "# prediction = model.predict()"
   ]
  },
  {
   "cell_type": "code",
   "execution_count": null,
   "metadata": {
    "execution": {
     "iopub.execute_input": "2024-12-10T07:01:07.800526Z",
     "iopub.status.busy": "2024-12-10T07:01:07.799836Z",
     "iopub.status.idle": "2024-12-10T07:01:08.123931Z",
     "shell.execute_reply": "2024-12-10T07:01:08.123106Z",
     "shell.execute_reply.started": "2024-12-10T07:01:07.800488Z"
    },
    "trusted": true
   },
   "outputs": [],
   "source": [
    "y_true = oof_lgb[[\"ID\",\"efs\",\"efs_time\",\"race_group\"]].copy().reset_index(drop=True)\n",
    "y_pred = oof_lgb[[\"ID\",\"prediction\"]].copy().reset_index(drop=True)\n",
    "m, _ = custom_score(y_true, y_pred, \"ID\", print_info=True)\n",
    "print(f\"Overall official SCORE: {m:.5f}\")\n",
    "\n",
    "metric_df_ = pd.DataFrame(metric_df)\n",
    "display_overall(metric_df_)"
   ]
  },
  {
   "cell_type": "code",
   "execution_count": null,
   "metadata": {
    "execution": {
     "iopub.execute_input": "2024-12-10T07:01:19.336717Z",
     "iopub.status.busy": "2024-12-10T07:01:19.336365Z",
     "iopub.status.idle": "2024-12-10T07:01:19.65227Z",
     "shell.execute_reply": "2024-12-10T07:01:19.651589Z",
     "shell.execute_reply.started": "2024-12-10T07:01:19.336687Z"
    },
    "trusted": true
   },
   "outputs": [],
   "source": [
    "y_true = train[[\"ID\",\"efs\",\"efs_time\",\"race_group\"]].copy()\n",
    "y_pred = train[[\"ID\"]].copy()\n",
    "y_pred[\"prediction\"] = 0.5*oof_xgb['prediction'].rank(pct=True) + 0.5*oof_lgb['prediction'].rank(pct=True)\n",
    "\n",
    "m, _ = custom_score(y_true, y_pred, \"ID\", print_info=True)\n",
    "print(f\"Overall official SCORE: {m:.5f}\")"
   ]
  }
 ],
 "metadata": {
  "kaggle": {
   "accelerator": "nvidiaTeslaT4",
   "dataSources": [
    {
     "databundleVersionId": 10381525,
     "sourceId": 70942,
     "sourceType": "competition"
    },
    {
     "sourceId": 211253469,
     "sourceType": "kernelVersion"
    },
    {
     "sourceId": 211322530,
     "sourceType": "kernelVersion"
    },
    {
     "sourceId": 212249161,
     "sourceType": "kernelVersion"
    }
   ],
   "dockerImageVersionId": 30805,
   "isGpuEnabled": true,
   "isInternetEnabled": false,
   "language": "python",
   "sourceType": "notebook"
  },
  "kernelspec": {
   "display_name": "dpl",
   "language": "python",
   "name": "python3"
  },
  "language_info": {
   "codemirror_mode": {
    "name": "ipython",
    "version": 3
   },
   "file_extension": ".py",
   "mimetype": "text/x-python",
   "name": "python",
   "nbconvert_exporter": "python",
   "pygments_lexer": "ipython3",
   "version": "3.8.18"
  }
 },
 "nbformat": 4,
 "nbformat_minor": 4
}
