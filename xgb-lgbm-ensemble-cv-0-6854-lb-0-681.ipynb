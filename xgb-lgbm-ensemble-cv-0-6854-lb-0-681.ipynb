{
 "cells": [
  {
   "cell_type": "code",
   "execution_count": 18,
   "id": "85671a86",
   "metadata": {
    "_cell_guid": "b1076dfc-b9ad-4769-8c92-a6c4dae69d19",
    "_kg_hide-input": true,
    "_kg_hide-output": true,
    "_uuid": "8f2839f25d086af736a60e9eeb907d3b93b6e0e5",
    "collapsed": true,
    "execution": {
     "iopub.execute_input": "2025-01-12T12:05:04.411296Z",
     "iopub.status.busy": "2025-01-12T12:05:04.410938Z",
     "iopub.status.idle": "2025-01-12T12:05:04.804893Z",
     "shell.execute_reply": "2025-01-12T12:05:04.803662Z"
    },
    "jupyter": {
     "outputs_hidden": true
    },
    "papermill": {
     "duration": 0.401812,
     "end_time": "2025-01-12T12:05:04.806746",
     "exception": false,
     "start_time": "2025-01-12T12:05:04.404934",
     "status": "completed"
    },
    "tags": []
   },
   "outputs": [],
   "source": [
    "%load_ext autoreload\n",
    "%autoreload 2\n"
   ]
  },
  {
   "cell_type": "code",
   "execution_count": 2,
   "id": "4ddaa903",
   "metadata": {
    "_kg_hide-input": true,
    "_kg_hide-output": true,
    "collapsed": true,
    "execution": {
     "iopub.execute_input": "2025-01-12T12:05:04.816900Z",
     "iopub.status.busy": "2025-01-12T12:05:04.816364Z",
     "iopub.status.idle": "2025-01-12T12:05:29.546852Z",
     "shell.execute_reply": "2025-01-12T12:05:29.545376Z"
    },
    "jupyter": {
     "outputs_hidden": true
    },
    "papermill": {
     "duration": 24.738608,
     "end_time": "2025-01-12T12:05:29.549890",
     "exception": false,
     "start_time": "2025-01-12T12:05:04.811282",
     "status": "completed"
    },
    "tags": []
   },
   "outputs": [],
   "source": [
    "# !pip install /kaggle/input/pip-install-lifelines/autograd-1.7.0-py3-none-any.whl\n",
    "# !pip install /kaggle/input/pip-install-lifelines/autograd-gamma-0.5.0.tar.gz\n",
    "# !pip install /kaggle/input/pip-install-lifelines/interface_meta-1.3.0-py3-none-any.whl\n",
    "# !pip install /kaggle/input/pip-install-lifelines/formulaic-1.0.2-py3-none-any.whl\n",
    "# !pip install /kaggle/input/pip-install-lifelines/lifelines-0.30.0-py3-none-any.whl"
   ]
  },
  {
   "cell_type": "markdown",
   "id": "8a188830",
   "metadata": {
    "papermill": {
     "duration": 0.005155,
     "end_time": "2025-01-12T12:05:29.560592",
     "exception": false,
     "start_time": "2025-01-12T12:05:29.555437",
     "status": "completed"
    },
    "tags": []
   },
   "source": [
    "<h1 align='center'>Importing Libraries</h1>"
   ]
  },
  {
   "cell_type": "code",
   "execution_count": 1,
   "id": "ed6e3779",
   "metadata": {
    "execution": {
     "iopub.execute_input": "2025-01-12T12:05:29.572675Z",
     "iopub.status.busy": "2025-01-12T12:05:29.572219Z",
     "iopub.status.idle": "2025-01-12T12:05:33.674908Z",
     "shell.execute_reply": "2025-01-12T12:05:33.673413Z"
    },
    "papermill": {
     "duration": 4.111285,
     "end_time": "2025-01-12T12:05:33.677090",
     "exception": false,
     "start_time": "2025-01-12T12:05:29.565805",
     "status": "completed"
    },
    "tags": []
   },
   "outputs": [],
   "source": [
    "import pandas as pd\n",
    "import numpy as np\n",
    "import lifelines\n",
    "from lifelines import KaplanMeierFitter, NelsonAalenFitter\n",
    "import xgboost as xgb\n",
    "from sklearn.preprocessing import MinMaxScaler\n",
    "from sklearn.model_selection import KFold\n",
    "from lifelines.utils import concordance_index\n",
    "import lightgbm as lgb\n",
    "from termcolor import colored\n",
    "import warnings\n",
    "\n",
    "warnings.filterwarnings('ignore')"
   ]
  },
  {
   "cell_type": "code",
   "execution_count": 2,
   "id": "60bcffbd",
   "metadata": {},
   "outputs": [],
   "source": [
    "from stratified_cscore import stratified_cindex"
   ]
  },
  {
   "cell_type": "markdown",
   "id": "eca322be",
   "metadata": {
    "papermill": {
     "duration": 0.005121,
     "end_time": "2025-01-12T12:05:33.687949",
     "exception": false,
     "start_time": "2025-01-12T12:05:33.682828",
     "status": "completed"
    },
    "tags": []
   },
   "source": [
    "<h1 align='center'>Loading data</h1>"
   ]
  },
  {
   "cell_type": "code",
   "execution_count": 3,
   "id": "e451c999",
   "metadata": {
    "execution": {
     "iopub.execute_input": "2025-01-12T12:05:33.700527Z",
     "iopub.status.busy": "2025-01-12T12:05:33.699809Z",
     "iopub.status.idle": "2025-01-12T12:05:34.134907Z",
     "shell.execute_reply": "2025-01-12T12:05:34.133643Z"
    },
    "papermill": {
     "duration": 0.443765,
     "end_time": "2025-01-12T12:05:34.137097",
     "exception": false,
     "start_time": "2025-01-12T12:05:33.693332",
     "status": "completed"
    },
    "tags": []
   },
   "outputs": [],
   "source": [
    "train = pd.read_csv('data/train.csv', index_col='ID')\n",
    "test = pd.read_csv('data/test.csv', index_col='ID')\n",
    "sub = pd.read_csv('data/sample_submission.csv', index_col='ID')\n",
    "data_description = pd.read_csv('data/data_dictionary.csv')"
   ]
  },
  {
   "cell_type": "markdown",
   "id": "c9258cf2",
   "metadata": {
    "papermill": {
     "duration": 0.005323,
     "end_time": "2025-01-12T12:05:34.148108",
     "exception": false,
     "start_time": "2025-01-12T12:05:34.142785",
     "status": "completed"
    },
    "tags": []
   },
   "source": [
    "<h1 align='center'>Preprocessing & Target encoding</h1>"
   ]
  },
  {
   "cell_type": "code",
   "execution_count": 4,
   "id": "e46948b2",
   "metadata": {
    "execution": {
     "iopub.execute_input": "2025-01-12T12:05:34.160118Z",
     "iopub.status.busy": "2025-01-12T12:05:34.159667Z",
     "iopub.status.idle": "2025-01-12T12:05:34.168272Z",
     "shell.execute_reply": "2025-01-12T12:05:34.167089Z"
    },
    "papermill": {
     "duration": 0.016571,
     "end_time": "2025-01-12T12:05:34.170112",
     "exception": false,
     "start_time": "2025-01-12T12:05:34.153541",
     "status": "completed"
    },
    "tags": []
   },
   "outputs": [],
   "source": [
    "# Categorical & Numeric columns \n",
    "cat_cols = []\n",
    "num_cols = []\n",
    "for v, t in data_description[['variable', 'type']].values:\n",
    "    if t == 'Categorical' and v != 'efs':\n",
    "        cat_cols.append(v)\n",
    "    elif not v in ['efs_time', 'efs']:\n",
    "        num_cols.append(v)"
   ]
  },
  {
   "cell_type": "markdown",
   "id": "155207e2",
   "metadata": {
    "papermill": {
     "duration": 0.006029,
     "end_time": "2025-01-12T12:05:34.181600",
     "exception": false,
     "start_time": "2025-01-12T12:05:34.175571",
     "status": "completed"
    },
    "tags": []
   },
   "source": [
    "<span style='font-size:14pt' align='center'>I use KaplanMeierFitter and NelsonAalenFitter to properly combine efs and efs_time.</span><br>\n",
    "<span style='font-size:14pt' align='center'>Reducing labels by 0.1 in the absence of an event increases CV and LB scores!</span>"
   ]
  },
  {
   "cell_type": "code",
   "execution_count": 5,
   "id": "cca9093a",
   "metadata": {
    "execution": {
     "iopub.execute_input": "2025-01-12T12:05:34.194470Z",
     "iopub.status.busy": "2025-01-12T12:05:34.194092Z",
     "iopub.status.idle": "2025-01-12T12:05:34.302965Z",
     "shell.execute_reply": "2025-01-12T12:05:34.301928Z"
    },
    "papermill": {
     "duration": 0.117595,
     "end_time": "2025-01-12T12:05:34.305009",
     "exception": false,
     "start_time": "2025-01-12T12:05:34.187414",
     "status": "completed"
    },
    "tags": []
   },
   "outputs": [],
   "source": [
    "naf = NelsonAalenFitter()\n",
    "naf.fit(train['efs_time'], train['efs'])\n",
    "train['naf_label'] = -naf.cumulative_hazard_at_times(train['efs_time']).values\n",
    "train.loc[train['efs'] == 0, 'naf_label'] -= 0.1\n",
    "\n",
    "kmf = KaplanMeierFitter()\n",
    "kmf.fit(train['efs_time'], train['efs'])\n",
    "train['km_label'] = kmf.survival_function_at_times(train['efs_time']).values\n",
    "train.loc[train['efs'] == 0, 'km_label'] -= 0.1"
   ]
  },
  {
   "cell_type": "code",
   "execution_count": 6,
   "id": "8cc79943",
   "metadata": {},
   "outputs": [],
   "source": [
    "# train.columns\n"
   ]
  },
  {
   "cell_type": "code",
   "execution_count": 7,
   "id": "cf3d289d",
   "metadata": {},
   "outputs": [
    {
     "data": {
      "text/html": [
       "<div>\n",
       "<style scoped>\n",
       "    .dataframe tbody tr th:only-of-type {\n",
       "        vertical-align: middle;\n",
       "    }\n",
       "\n",
       "    .dataframe tbody tr th {\n",
       "        vertical-align: top;\n",
       "    }\n",
       "\n",
       "    .dataframe thead th {\n",
       "        text-align: right;\n",
       "    }\n",
       "</style>\n",
       "<table border=\"1\" class=\"dataframe\">\n",
       "  <thead>\n",
       "    <tr style=\"text-align: right;\">\n",
       "      <th></th>\n",
       "      <th>dri_score</th>\n",
       "      <th>psych_disturb</th>\n",
       "      <th>cyto_score</th>\n",
       "      <th>diabetes</th>\n",
       "      <th>hla_match_c_high</th>\n",
       "      <th>hla_high_res_8</th>\n",
       "      <th>tbi_status</th>\n",
       "      <th>arrhythmia</th>\n",
       "      <th>hla_low_res_6</th>\n",
       "      <th>graft_type</th>\n",
       "      <th>...</th>\n",
       "      <th>melphalan_dose</th>\n",
       "      <th>hla_low_res_8</th>\n",
       "      <th>cardiac</th>\n",
       "      <th>hla_match_drb1_high</th>\n",
       "      <th>pulm_moderate</th>\n",
       "      <th>hla_low_res_10</th>\n",
       "      <th>efs</th>\n",
       "      <th>efs_time</th>\n",
       "      <th>naf_label</th>\n",
       "      <th>km_label</th>\n",
       "    </tr>\n",
       "    <tr>\n",
       "      <th>ID</th>\n",
       "      <th></th>\n",
       "      <th></th>\n",
       "      <th></th>\n",
       "      <th></th>\n",
       "      <th></th>\n",
       "      <th></th>\n",
       "      <th></th>\n",
       "      <th></th>\n",
       "      <th></th>\n",
       "      <th></th>\n",
       "      <th></th>\n",
       "      <th></th>\n",
       "      <th></th>\n",
       "      <th></th>\n",
       "      <th></th>\n",
       "      <th></th>\n",
       "      <th></th>\n",
       "      <th></th>\n",
       "      <th></th>\n",
       "      <th></th>\n",
       "      <th></th>\n",
       "    </tr>\n",
       "  </thead>\n",
       "  <tbody>\n",
       "    <tr>\n",
       "      <th>0</th>\n",
       "      <td>N/A - non-malignant indication</td>\n",
       "      <td>No</td>\n",
       "      <td>NaN</td>\n",
       "      <td>No</td>\n",
       "      <td>NaN</td>\n",
       "      <td>NaN</td>\n",
       "      <td>No TBI</td>\n",
       "      <td>No</td>\n",
       "      <td>6.0</td>\n",
       "      <td>Bone marrow</td>\n",
       "      <td>...</td>\n",
       "      <td>N/A, Mel not given</td>\n",
       "      <td>8.0</td>\n",
       "      <td>No</td>\n",
       "      <td>2.0</td>\n",
       "      <td>No</td>\n",
       "      <td>10.0</td>\n",
       "      <td>0.0</td>\n",
       "      <td>42.356</td>\n",
       "      <td>-0.879367</td>\n",
       "      <td>0.358687</td>\n",
       "    </tr>\n",
       "    <tr>\n",
       "      <th>1</th>\n",
       "      <td>Intermediate</td>\n",
       "      <td>No</td>\n",
       "      <td>Intermediate</td>\n",
       "      <td>No</td>\n",
       "      <td>2.0</td>\n",
       "      <td>8.0</td>\n",
       "      <td>TBI +- Other, &gt;cGy</td>\n",
       "      <td>No</td>\n",
       "      <td>6.0</td>\n",
       "      <td>Peripheral blood</td>\n",
       "      <td>...</td>\n",
       "      <td>N/A, Mel not given</td>\n",
       "      <td>8.0</td>\n",
       "      <td>No</td>\n",
       "      <td>2.0</td>\n",
       "      <td>Yes</td>\n",
       "      <td>10.0</td>\n",
       "      <td>1.0</td>\n",
       "      <td>4.672</td>\n",
       "      <td>-0.165155</td>\n",
       "      <td>0.847759</td>\n",
       "    </tr>\n",
       "    <tr>\n",
       "      <th>2</th>\n",
       "      <td>N/A - non-malignant indication</td>\n",
       "      <td>No</td>\n",
       "      <td>NaN</td>\n",
       "      <td>No</td>\n",
       "      <td>2.0</td>\n",
       "      <td>8.0</td>\n",
       "      <td>No TBI</td>\n",
       "      <td>No</td>\n",
       "      <td>6.0</td>\n",
       "      <td>Bone marrow</td>\n",
       "      <td>...</td>\n",
       "      <td>N/A, Mel not given</td>\n",
       "      <td>8.0</td>\n",
       "      <td>No</td>\n",
       "      <td>2.0</td>\n",
       "      <td>No</td>\n",
       "      <td>10.0</td>\n",
       "      <td>0.0</td>\n",
       "      <td>19.793</td>\n",
       "      <td>-0.871252</td>\n",
       "      <td>0.362424</td>\n",
       "    </tr>\n",
       "    <tr>\n",
       "      <th>3</th>\n",
       "      <td>High</td>\n",
       "      <td>No</td>\n",
       "      <td>Intermediate</td>\n",
       "      <td>No</td>\n",
       "      <td>2.0</td>\n",
       "      <td>8.0</td>\n",
       "      <td>No TBI</td>\n",
       "      <td>No</td>\n",
       "      <td>6.0</td>\n",
       "      <td>Bone marrow</td>\n",
       "      <td>...</td>\n",
       "      <td>N/A, Mel not given</td>\n",
       "      <td>8.0</td>\n",
       "      <td>No</td>\n",
       "      <td>2.0</td>\n",
       "      <td>No</td>\n",
       "      <td>10.0</td>\n",
       "      <td>0.0</td>\n",
       "      <td>102.349</td>\n",
       "      <td>-0.883792</td>\n",
       "      <td>0.356661</td>\n",
       "    </tr>\n",
       "    <tr>\n",
       "      <th>4</th>\n",
       "      <td>High</td>\n",
       "      <td>No</td>\n",
       "      <td>NaN</td>\n",
       "      <td>No</td>\n",
       "      <td>2.0</td>\n",
       "      <td>8.0</td>\n",
       "      <td>No TBI</td>\n",
       "      <td>No</td>\n",
       "      <td>6.0</td>\n",
       "      <td>Peripheral blood</td>\n",
       "      <td>...</td>\n",
       "      <td>MEL</td>\n",
       "      <td>8.0</td>\n",
       "      <td>No</td>\n",
       "      <td>2.0</td>\n",
       "      <td>No</td>\n",
       "      <td>10.0</td>\n",
       "      <td>0.0</td>\n",
       "      <td>16.223</td>\n",
       "      <td>-0.866400</td>\n",
       "      <td>0.364674</td>\n",
       "    </tr>\n",
       "  </tbody>\n",
       "</table>\n",
       "<p>5 rows × 61 columns</p>\n",
       "</div>"
      ],
      "text/plain": [
       "                         dri_score psych_disturb    cyto_score diabetes  \\\n",
       "ID                                                                        \n",
       "0   N/A - non-malignant indication            No           NaN       No   \n",
       "1                     Intermediate            No  Intermediate       No   \n",
       "2   N/A - non-malignant indication            No           NaN       No   \n",
       "3                             High            No  Intermediate       No   \n",
       "4                             High            No           NaN       No   \n",
       "\n",
       "    hla_match_c_high  hla_high_res_8          tbi_status arrhythmia  \\\n",
       "ID                                                                    \n",
       "0                NaN             NaN              No TBI         No   \n",
       "1                2.0             8.0  TBI +- Other, >cGy         No   \n",
       "2                2.0             8.0              No TBI         No   \n",
       "3                2.0             8.0              No TBI         No   \n",
       "4                2.0             8.0              No TBI         No   \n",
       "\n",
       "    hla_low_res_6        graft_type  ...      melphalan_dose hla_low_res_8  \\\n",
       "ID                                   ...                                     \n",
       "0             6.0       Bone marrow  ...  N/A, Mel not given           8.0   \n",
       "1             6.0  Peripheral blood  ...  N/A, Mel not given           8.0   \n",
       "2             6.0       Bone marrow  ...  N/A, Mel not given           8.0   \n",
       "3             6.0       Bone marrow  ...  N/A, Mel not given           8.0   \n",
       "4             6.0  Peripheral blood  ...                 MEL           8.0   \n",
       "\n",
       "   cardiac hla_match_drb1_high  pulm_moderate hla_low_res_10  efs  efs_time  \\\n",
       "ID                                                                            \n",
       "0       No                 2.0             No           10.0  0.0    42.356   \n",
       "1       No                 2.0            Yes           10.0  1.0     4.672   \n",
       "2       No                 2.0             No           10.0  0.0    19.793   \n",
       "3       No                 2.0             No           10.0  0.0   102.349   \n",
       "4       No                 2.0             No           10.0  0.0    16.223   \n",
       "\n",
       "   naf_label  km_label  \n",
       "ID                      \n",
       "0  -0.879367  0.358687  \n",
       "1  -0.165155  0.847759  \n",
       "2  -0.871252  0.362424  \n",
       "3  -0.883792  0.356661  \n",
       "4  -0.866400  0.364674  \n",
       "\n",
       "[5 rows x 61 columns]"
      ]
     },
     "execution_count": 7,
     "metadata": {},
     "output_type": "execute_result"
    }
   ],
   "source": [
    "train.head()"
   ]
  },
  {
   "cell_type": "code",
   "execution_count": 8,
   "id": "dad240be",
   "metadata": {},
   "outputs": [],
   "source": [
    "# import matplotlib.pyplot as plt\n",
    "\n",
    "# # Iterate over each input feature\n",
    "# for feature in train.columns:\n",
    "#     # Exclude the target columns\n",
    "#     #if feature not in target_cols:\n",
    "#         # Create a histogram for the feature\n",
    "#         plt.hist(train[feature])\n",
    "#         plt.title(f\"{feature} Distribution\")\n",
    "#         plt.xlabel(feature)\n",
    "#         plt.ylabel(\"Count\")\n",
    "#         plt.show()\n"
   ]
  },
  {
   "cell_type": "markdown",
   "id": "3b6a82ca",
   "metadata": {
    "papermill": {
     "duration": 0.004971,
     "end_time": "2025-01-12T12:05:34.315502",
     "exception": false,
     "start_time": "2025-01-12T12:05:34.310531",
     "status": "completed"
    },
    "tags": []
   },
   "source": [
    "<span style='font-size:14pt' align='center'>Models' hyperparameters:</span>"
   ]
  },
  {
   "cell_type": "code",
   "execution_count": 9,
   "id": "1d743467",
   "metadata": {
    "execution": {
     "iopub.execute_input": "2025-01-12T12:05:34.327461Z",
     "iopub.status.busy": "2025-01-12T12:05:34.327027Z",
     "iopub.status.idle": "2025-01-12T12:05:34.332601Z",
     "shell.execute_reply": "2025-01-12T12:05:34.331492Z"
    },
    "papermill": {
     "duration": 0.01374,
     "end_time": "2025-01-12T12:05:34.334516",
     "exception": false,
     "start_time": "2025-01-12T12:05:34.320776",
     "status": "completed"
    },
    "tags": []
   },
   "outputs": [],
   "source": [
    "# XGBoost Parameters\n",
    "xgb_naf_params = {'max_depth': 2,\n",
    "            'learning_rate': 0.009806810287436414,\n",
    "            'n_estimators': 9110,\n",
    "            'reg_lambda': 0.16957442536602274,\n",
    "            'random_state': 12,\n",
    "           'objective': 'reg:squarederror',\n",
    "            'enable_categorical': True}\n",
    "xgb_km_params = {'max_depth': 2,\n",
    "          'learning_rate': 0.012887726635046637,\n",
    "          'n_estimators': 5759,\n",
    "          'reg_lambda': 0.014550241891247515,\n",
    "          'random_state': 25,\n",
    "          'objective': 'reg:squarederror',\n",
    "          'enable_categorical': True}"
   ]
  },
  {
   "cell_type": "code",
   "execution_count": 10,
   "id": "1ec9ab13",
   "metadata": {
    "execution": {
     "iopub.execute_input": "2025-01-12T12:05:34.346483Z",
     "iopub.status.busy": "2025-01-12T12:05:34.346075Z",
     "iopub.status.idle": "2025-01-12T12:05:34.351095Z",
     "shell.execute_reply": "2025-01-12T12:05:34.350040Z"
    },
    "papermill": {
     "duration": 0.012973,
     "end_time": "2025-01-12T12:05:34.352827",
     "exception": false,
     "start_time": "2025-01-12T12:05:34.339854",
     "status": "completed"
    },
    "tags": []
   },
   "outputs": [],
   "source": [
    "#LightGBM Parameters\n",
    "lgbm_naf_params = {'max_depth': 3,\n",
    "                    'learning_rate': 0.03251780857602963,\n",
    "                    'n_estimators': 1999,\n",
    "                    'reg_lambda': 0.01478462915287414,\n",
    "                    'random_state': 53,\n",
    "                    'verbose': -1}\n",
    "\n",
    "lgbm_km_params = {'max_depth': 2,\n",
    "                  'learning_rate': 0.020089200208762432,\n",
    "                  'n_estimators': 3757,\n",
    "                  'reg_lambda': 0.004744665699048939,\n",
    "                  'random_state': 0,\n",
    "                  'verbose': -1}"
   ]
  },
  {
   "cell_type": "markdown",
   "id": "4c7fd52a",
   "metadata": {
    "papermill": {
     "duration": 0.004888,
     "end_time": "2025-01-12T12:05:34.363284",
     "exception": false,
     "start_time": "2025-01-12T12:05:34.358396",
     "status": "completed"
    },
    "tags": []
   },
   "source": [
    "<h1 align='center'>Cross Validation</h1>"
   ]
  },
  {
   "cell_type": "code",
   "execution_count": 11,
   "id": "09d25d10",
   "metadata": {
    "execution": {
     "iopub.execute_input": "2025-01-12T12:05:34.375122Z",
     "iopub.status.busy": "2025-01-12T12:05:34.374632Z",
     "iopub.status.idle": "2025-01-12T12:09:15.875267Z",
     "shell.execute_reply": "2025-01-12T12:09:15.874046Z"
    },
    "papermill": {
     "duration": 221.508915,
     "end_time": "2025-01-12T12:09:15.877401",
     "exception": false,
     "start_time": "2025-01-12T12:05:34.368486",
     "status": "completed"
    },
    "tags": []
   },
   "outputs": [
    {
     "ename": "TypeError",
     "evalue": "cannot concatenate object of type '<class 'numpy.ndarray'>'; only Series and DataFrame objs are valid",
     "output_type": "error",
     "traceback": [
      "\u001b[0;31m---------------------------------------------------------------------------\u001b[0m",
      "\u001b[0;31mTypeError\u001b[0m                                 Traceback (most recent call last)",
      "Cell \u001b[0;32mIn[11], line 48\u001b[0m\n\u001b[1;32m     45\u001b[0m     score \u001b[38;5;241m=\u001b[39m concordance_index(val_data[\u001b[38;5;124m'\u001b[39m\u001b[38;5;124mefs_time\u001b[39m\u001b[38;5;124m'\u001b[39m], \u001b[38;5;241m-\u001b[39mpreds, val_data[\u001b[38;5;124m'\u001b[39m\u001b[38;5;124mefs\u001b[39m\u001b[38;5;124m'\u001b[39m])\n\u001b[1;32m     46\u001b[0m     scores\u001b[38;5;241m.\u001b[39mappend(score)\n\u001b[0;32m---> 48\u001b[0m     stratified_score \u001b[38;5;241m=\u001b[39m \u001b[43mstratified_cindex\u001b[49m\u001b[43m(\u001b[49m\u001b[43mpreds\u001b[49m\u001b[43m,\u001b[49m\u001b[43m \u001b[49m\u001b[43mval_data\u001b[49m\u001b[43m)\u001b[49m\n\u001b[1;32m     50\u001b[0m     \u001b[38;5;28mprint\u001b[39m(\u001b[38;5;124mf\u001b[39m\u001b[38;5;124m'\u001b[39m\u001b[38;5;124mFold #\u001b[39m\u001b[38;5;132;01m{\u001b[39;00mi\u001b[38;5;132;01m}\u001b[39;00m\u001b[38;5;124m C-index: \u001b[39m\u001b[38;5;132;01m{\u001b[39;00mscore\u001b[38;5;132;01m}\u001b[39;00m\u001b[38;5;124m'\u001b[39m)\n\u001b[1;32m     52\u001b[0m \u001b[38;5;28mprint\u001b[39m(\u001b[38;5;124mf\u001b[39m\u001b[38;5;124m'\u001b[39m\u001b[38;5;124mMean C-index: \u001b[39m\u001b[38;5;132;01m{\u001b[39;00m\u001b[38;5;28msum\u001b[39m(scores)\u001b[38;5;250m \u001b[39m\u001b[38;5;241m/\u001b[39m\u001b[38;5;250m \u001b[39mcv\u001b[38;5;241m.\u001b[39mn_splits\u001b[38;5;132;01m}\u001b[39;00m\u001b[38;5;130;01m\\t\u001b[39;00m\u001b[38;5;124mFull C-index: \u001b[39m\u001b[38;5;132;01m{\u001b[39;00mconcordance_index(np\u001b[38;5;241m.\u001b[39marray(all_efs_time),\u001b[38;5;250m \u001b[39m\u001b[38;5;241m-\u001b[39mnp\u001b[38;5;241m.\u001b[39marray(all_preds),\u001b[38;5;250m \u001b[39mnp\u001b[38;5;241m.\u001b[39marray(all_efs))\u001b[38;5;132;01m}\u001b[39;00m\u001b[38;5;124m'\u001b[39m)\n",
      "File \u001b[0;32m~/Desktop/my-studies/group-projects/cbmtr/stratified_cscore.py:24\u001b[0m, in \u001b[0;36mstratified_cindex\u001b[0;34m(solution, submission)\u001b[0m\n\u001b[1;32m     21\u001b[0m prediction_label \u001b[38;5;241m=\u001b[39m \u001b[38;5;124m'\u001b[39m\u001b[38;5;124mprediction\u001b[39m\u001b[38;5;124m'\u001b[39m\n\u001b[1;32m     23\u001b[0m \u001b[38;5;66;03m# Merging solution and submission dfs on ID\u001b[39;00m\n\u001b[0;32m---> 24\u001b[0m merged_df \u001b[38;5;241m=\u001b[39m \u001b[43mpd\u001b[49m\u001b[38;5;241;43m.\u001b[39;49m\u001b[43mconcat\u001b[49m\u001b[43m(\u001b[49m\u001b[43m[\u001b[49m\u001b[43msolution\u001b[49m\u001b[43m,\u001b[49m\u001b[43m \u001b[49m\u001b[43msubmission\u001b[49m\u001b[43m]\u001b[49m\u001b[43m,\u001b[49m\u001b[43m \u001b[49m\u001b[43maxis\u001b[49m\u001b[38;5;241;43m=\u001b[39;49m\u001b[38;5;241;43m1\u001b[39;49m\u001b[43m)\u001b[49m\n\u001b[1;32m     25\u001b[0m merged_df\u001b[38;5;241m.\u001b[39mreset_index(inplace\u001b[38;5;241m=\u001b[39m\u001b[38;5;28;01mTrue\u001b[39;00m)\n\u001b[1;32m     26\u001b[0m merged_df_race_dict \u001b[38;5;241m=\u001b[39m \u001b[38;5;28mdict\u001b[39m(merged_df\u001b[38;5;241m.\u001b[39mgroupby([\u001b[38;5;124m'\u001b[39m\u001b[38;5;124mrace_group\u001b[39m\u001b[38;5;124m'\u001b[39m])\u001b[38;5;241m.\u001b[39mgroups)\n",
      "File \u001b[0;32m~/anaconda3/envs/ai/lib/python3.8/site-packages/pandas/core/reshape/concat.py:372\u001b[0m, in \u001b[0;36mconcat\u001b[0;34m(objs, axis, join, ignore_index, keys, levels, names, verify_integrity, sort, copy)\u001b[0m\n\u001b[1;32m    369\u001b[0m \u001b[38;5;28;01melif\u001b[39;00m copy \u001b[38;5;129;01mand\u001b[39;00m using_copy_on_write():\n\u001b[1;32m    370\u001b[0m     copy \u001b[38;5;241m=\u001b[39m \u001b[38;5;28;01mFalse\u001b[39;00m\n\u001b[0;32m--> 372\u001b[0m op \u001b[38;5;241m=\u001b[39m \u001b[43m_Concatenator\u001b[49m\u001b[43m(\u001b[49m\n\u001b[1;32m    373\u001b[0m \u001b[43m    \u001b[49m\u001b[43mobjs\u001b[49m\u001b[43m,\u001b[49m\n\u001b[1;32m    374\u001b[0m \u001b[43m    \u001b[49m\u001b[43maxis\u001b[49m\u001b[38;5;241;43m=\u001b[39;49m\u001b[43maxis\u001b[49m\u001b[43m,\u001b[49m\n\u001b[1;32m    375\u001b[0m \u001b[43m    \u001b[49m\u001b[43mignore_index\u001b[49m\u001b[38;5;241;43m=\u001b[39;49m\u001b[43mignore_index\u001b[49m\u001b[43m,\u001b[49m\n\u001b[1;32m    376\u001b[0m \u001b[43m    \u001b[49m\u001b[43mjoin\u001b[49m\u001b[38;5;241;43m=\u001b[39;49m\u001b[43mjoin\u001b[49m\u001b[43m,\u001b[49m\n\u001b[1;32m    377\u001b[0m \u001b[43m    \u001b[49m\u001b[43mkeys\u001b[49m\u001b[38;5;241;43m=\u001b[39;49m\u001b[43mkeys\u001b[49m\u001b[43m,\u001b[49m\n\u001b[1;32m    378\u001b[0m \u001b[43m    \u001b[49m\u001b[43mlevels\u001b[49m\u001b[38;5;241;43m=\u001b[39;49m\u001b[43mlevels\u001b[49m\u001b[43m,\u001b[49m\n\u001b[1;32m    379\u001b[0m \u001b[43m    \u001b[49m\u001b[43mnames\u001b[49m\u001b[38;5;241;43m=\u001b[39;49m\u001b[43mnames\u001b[49m\u001b[43m,\u001b[49m\n\u001b[1;32m    380\u001b[0m \u001b[43m    \u001b[49m\u001b[43mverify_integrity\u001b[49m\u001b[38;5;241;43m=\u001b[39;49m\u001b[43mverify_integrity\u001b[49m\u001b[43m,\u001b[49m\n\u001b[1;32m    381\u001b[0m \u001b[43m    \u001b[49m\u001b[43mcopy\u001b[49m\u001b[38;5;241;43m=\u001b[39;49m\u001b[43mcopy\u001b[49m\u001b[43m,\u001b[49m\n\u001b[1;32m    382\u001b[0m \u001b[43m    \u001b[49m\u001b[43msort\u001b[49m\u001b[38;5;241;43m=\u001b[39;49m\u001b[43msort\u001b[49m\u001b[43m,\u001b[49m\n\u001b[1;32m    383\u001b[0m \u001b[43m\u001b[49m\u001b[43m)\u001b[49m\n\u001b[1;32m    385\u001b[0m \u001b[38;5;28;01mreturn\u001b[39;00m op\u001b[38;5;241m.\u001b[39mget_result()\n",
      "File \u001b[0;32m~/anaconda3/envs/ai/lib/python3.8/site-packages/pandas/core/reshape/concat.py:462\u001b[0m, in \u001b[0;36m_Concatenator.__init__\u001b[0;34m(self, objs, axis, join, keys, levels, names, ignore_index, verify_integrity, copy, sort)\u001b[0m\n\u001b[1;32m    457\u001b[0m     \u001b[38;5;28;01mif\u001b[39;00m \u001b[38;5;129;01mnot\u001b[39;00m \u001b[38;5;28misinstance\u001b[39m(obj, (ABCSeries, ABCDataFrame)):\n\u001b[1;32m    458\u001b[0m         msg \u001b[38;5;241m=\u001b[39m (\n\u001b[1;32m    459\u001b[0m             \u001b[38;5;124mf\u001b[39m\u001b[38;5;124m\"\u001b[39m\u001b[38;5;124mcannot concatenate object of type \u001b[39m\u001b[38;5;124m'\u001b[39m\u001b[38;5;132;01m{\u001b[39;00m\u001b[38;5;28mtype\u001b[39m(obj)\u001b[38;5;132;01m}\u001b[39;00m\u001b[38;5;124m'\u001b[39m\u001b[38;5;124m; \u001b[39m\u001b[38;5;124m\"\u001b[39m\n\u001b[1;32m    460\u001b[0m             \u001b[38;5;124m\"\u001b[39m\u001b[38;5;124monly Series and DataFrame objs are valid\u001b[39m\u001b[38;5;124m\"\u001b[39m\n\u001b[1;32m    461\u001b[0m         )\n\u001b[0;32m--> 462\u001b[0m         \u001b[38;5;28;01mraise\u001b[39;00m \u001b[38;5;167;01mTypeError\u001b[39;00m(msg)\n\u001b[1;32m    464\u001b[0m     ndims\u001b[38;5;241m.\u001b[39madd(obj\u001b[38;5;241m.\u001b[39mndim)\n\u001b[1;32m    466\u001b[0m \u001b[38;5;66;03m# get the sample\u001b[39;00m\n\u001b[1;32m    467\u001b[0m \u001b[38;5;66;03m# want the highest ndim that we have, and must be non-empty\u001b[39;00m\n\u001b[1;32m    468\u001b[0m \u001b[38;5;66;03m# unless all objs are empty\u001b[39;00m\n",
      "\u001b[0;31mTypeError\u001b[0m: cannot concatenate object of type '<class 'numpy.ndarray'>'; only Series and DataFrame objs are valid"
     ]
    }
   ],
   "source": [
    "target_cols = ['efs', 'efs_time', 'km_label', 'naf_label']\n",
    "all_preds = []\n",
    "all_efs = []\n",
    "all_efs_time = []\n",
    "scores = []\n",
    "stratified_scores = []\n",
    "cv = KFold(n_splits=5)\n",
    "\n",
    "for i, (train_indexes, val_indexes) in enumerate(cv.split(train)):\n",
    "    train_data = train.iloc[train_indexes]\n",
    "    val_data = train.iloc[val_indexes]\n",
    "    cat_cols = train_data.drop(columns=target_cols).select_dtypes(include=object).columns.values.tolist()\n",
    "    \n",
    "    \n",
    "    train_data[cat_cols] = train_data[cat_cols].astype('category')\n",
    "    val_data[cat_cols] = val_data[cat_cols].astype('category')\n",
    "    all_efs += list(val_data['efs'].values)\n",
    "    all_efs_time += list(val_data['efs_time'].values)\n",
    "    \n",
    "    train_lgb_naf = lgb.Dataset(train_data.drop(columns=target_cols), label=train_data['naf_label'], categorical_feature=cat_cols)\n",
    "    train_lgb_km = lgb.Dataset(train_data.drop(columns=target_cols), label=train_data['km_label'], categorical_feature=cat_cols)\n",
    "\n",
    "    best_naf = lgb.train(lgbm_naf_params, train_lgb_naf, 1000, valid_sets=[train_lgb_naf])\n",
    "    best_km = lgb.train(lgbm_km_params, train_lgb_km, 1000, valid_sets=[train_lgb_km])\n",
    "\n",
    "    \n",
    "    xgb_naf = xgb.XGBRegressor(**xgb_naf_params)\n",
    "    xgb_km = xgb.XGBRegressor(**xgb_km_params)\n",
    "\n",
    "    \n",
    "\n",
    "    xgb_naf.fit(train_data.drop(columns=target_cols), train_data['naf_label'])\n",
    "    xgb_km.fit(train_data.drop(columns=target_cols), train_data['km_label'])\n",
    "    \n",
    "    \n",
    "\n",
    "    \n",
    "    preds_lgb_naf = best_naf.predict(val_data.drop(columns=target_cols))\n",
    "    preds_lgb_km = best_km.predict(val_data.drop(columns=target_cols))\n",
    "    preds_xgb_naf = xgb_naf.predict(val_data.drop(columns=target_cols))\n",
    "    preds_xgb_km = xgb_km.predict(val_data.drop(columns=target_cols))\n",
    "\n",
    "    \n",
    "    preds = (preds_lgb_naf + preds_lgb_km + preds_xgb_naf + preds_xgb_km) / 4\n",
    "    all_preds += list(preds)\n",
    "    score = concordance_index(val_data['efs_time'], -preds, val_data['efs'])\n",
    "    scores.append(score)\n",
    "\n",
    "    stratified_score = stratified_cindex(preds, val_data)\n",
    "    stratified_scores.append(stratified_score)\n",
    "\n",
    "    print(f'Fold #{i} C-index: {score}')\n",
    "    print(f'Fold #{i} stratified C-index: {stratified_score}')\n",
    "\n",
    "print(f'Mean C-index: {sum(scores) / cv.n_splits}\\tFull C-index: {concordance_index(np.array(all_efs_time), -np.array(all_preds), np.array(all_efs))}')\n",
    "print(f'Mean stratified C-index: {sum(stratified_scores) / cv.n_splits}')"
   ]
  },
  {
   "cell_type": "code",
   "execution_count": 13,
   "id": "7bf73d1e",
   "metadata": {},
   "outputs": [
    {
     "data": {
      "text/plain": [
       "(5760,)"
      ]
     },
     "execution_count": 13,
     "metadata": {},
     "output_type": "execute_result"
    }
   ],
   "source": [
    "preds.shape"
   ]
  },
  {
   "cell_type": "markdown",
   "id": "12400b84",
   "metadata": {},
   "source": [
    "# should exceed 0.69"
   ]
  },
  {
   "cell_type": "markdown",
   "id": "751a5c0b",
   "metadata": {
    "papermill": {
     "duration": 0.006557,
     "end_time": "2025-01-12T12:09:15.890025",
     "exception": false,
     "start_time": "2025-01-12T12:09:15.883468",
     "status": "completed"
    },
    "tags": []
   },
   "source": [
    "<h1 align='center'>Training & Inference of final models</h1>"
   ]
  },
  {
   "cell_type": "code",
   "execution_count": 12,
   "id": "8d5e58e5",
   "metadata": {
    "execution": {
     "iopub.execute_input": "2025-01-12T12:09:15.903002Z",
     "iopub.status.busy": "2025-01-12T12:09:15.902640Z",
     "iopub.status.idle": "2025-01-12T12:10:06.930339Z",
     "shell.execute_reply": "2025-01-12T12:10:06.929249Z"
    },
    "papermill": {
     "duration": 51.036653,
     "end_time": "2025-01-12T12:10:06.932698",
     "exception": false,
     "start_time": "2025-01-12T12:09:15.896045",
     "status": "completed"
    },
    "tags": []
   },
   "outputs": [],
   "source": [
    "cat_cols = train.drop(columns=target_cols).select_dtypes(include=object).columns.values.tolist()\n",
    "    \n",
    "    \n",
    "train[cat_cols] = train[cat_cols].astype('category')\n",
    "test[cat_cols] = test[cat_cols].astype('category')\n",
    "train_lgb_naf = lgb.Dataset(train.drop(columns=target_cols), label=train['naf_label'], categorical_feature=cat_cols)\n",
    "train_lgb_km = lgb.Dataset(train.drop(columns=target_cols), label=train['km_label'], categorical_feature=cat_cols)\n",
    "\n",
    "best_naf = lgb.train(lgbm_naf_params, train_lgb_naf, 1000, valid_sets=[train_lgb_naf])\n",
    "best_km = lgb.train(lgbm_km_params, train_lgb_km, 1000, valid_sets=[train_lgb_km])\n",
    "\n",
    "\n",
    "xgb_naf = xgb.XGBRegressor(**xgb_naf_params)\n",
    "xgb_km = xgb.XGBRegressor(**xgb_km_params)\n",
    "\n",
    "\n",
    "\n",
    "xgb_naf.fit(train.drop(columns=target_cols), train['naf_label'])\n",
    "xgb_km.fit(train.drop(columns=target_cols), train['km_label'])\n",
    "\n",
    "\n",
    "\n",
    "\n",
    "preds_lgb_naf = best_naf.predict(test)\n",
    "preds_lgb_km = best_km.predict(test)\n",
    "preds_xgb_naf = xgb_naf.predict(test)\n",
    "preds_xgb_km = xgb_km.predict(test)\n",
    "\n",
    "\n",
    "preds = (preds_lgb_naf + preds_lgb_km + preds_xgb_naf + preds_xgb_km) / 4"
   ]
  },
  {
   "cell_type": "code",
   "execution_count": 11,
   "id": "7c1b22e2",
   "metadata": {
    "execution": {
     "iopub.execute_input": "2025-01-12T12:10:06.945702Z",
     "iopub.status.busy": "2025-01-12T12:10:06.945296Z",
     "iopub.status.idle": "2025-01-12T12:10:06.954669Z",
     "shell.execute_reply": "2025-01-12T12:10:06.953474Z"
    },
    "papermill": {
     "duration": 0.018233,
     "end_time": "2025-01-12T12:10:06.956902",
     "exception": false,
     "start_time": "2025-01-12T12:10:06.938669",
     "status": "completed"
    },
    "tags": []
   },
   "outputs": [],
   "source": [
    "sub['prediction'] = preds\n",
    "sub.to_csv('data/submission.csv')"
   ]
  }
 ],
 "metadata": {
  "kaggle": {
   "accelerator": "none",
   "dataSources": [
    {
     "databundleVersionId": 10381525,
     "sourceId": 70942,
     "sourceType": "competition"
    },
    {
     "sourceId": 211322530,
     "sourceType": "kernelVersion"
    }
   ],
   "dockerImageVersionId": 30822,
   "isGpuEnabled": false,
   "isInternetEnabled": false,
   "language": "python",
   "sourceType": "notebook"
  },
  "kernelspec": {
   "display_name": "Python 3",
   "language": "python",
   "name": "python3"
  },
  "language_info": {
   "codemirror_mode": {
    "name": "ipython",
    "version": 3
   },
   "file_extension": ".py",
   "mimetype": "text/x-python",
   "name": "python",
   "nbconvert_exporter": "python",
   "pygments_lexer": "ipython3",
   "version": "3.8.18"
  },
  "papermill": {
   "default_parameters": {},
   "duration": 305.709944,
   "end_time": "2025-01-12T12:10:07.886239",
   "environment_variables": {},
   "exception": null,
   "input_path": "__notebook__.ipynb",
   "output_path": "__notebook__.ipynb",
   "parameters": {},
   "start_time": "2025-01-12T12:05:02.176295",
   "version": "2.6.0"
  }
 },
 "nbformat": 4,
 "nbformat_minor": 5
}
