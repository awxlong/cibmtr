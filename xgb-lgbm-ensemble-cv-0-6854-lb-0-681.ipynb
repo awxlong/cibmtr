{
 "cells": [
  {
   "cell_type": "code",
   "execution_count": 1,
   "id": "85671a86",
   "metadata": {
    "_cell_guid": "b1076dfc-b9ad-4769-8c92-a6c4dae69d19",
    "_kg_hide-input": true,
    "_kg_hide-output": true,
    "_uuid": "8f2839f25d086af736a60e9eeb907d3b93b6e0e5",
    "collapsed": true,
    "execution": {
     "iopub.execute_input": "2025-01-12T12:05:04.411296Z",
     "iopub.status.busy": "2025-01-12T12:05:04.410938Z",
     "iopub.status.idle": "2025-01-12T12:05:04.804893Z",
     "shell.execute_reply": "2025-01-12T12:05:04.803662Z"
    },
    "jupyter": {
     "outputs_hidden": true
    },
    "papermill": {
     "duration": 0.401812,
     "end_time": "2025-01-12T12:05:04.806746",
     "exception": false,
     "start_time": "2025-01-12T12:05:04.404934",
     "status": "completed"
    },
    "tags": []
   },
   "outputs": [],
   "source": [
    "# # This Python 3 environment comes with many helpful analytics libraries installed\n",
    "# # It is defined by the kaggle/python Docker image: https://github.com/kaggle/docker-python\n",
    "# # For example, here's several helpful packages to load\n",
    "\n",
    "# import numpy as np # linear algebra\n",
    "# import pandas as pd # data processing, CSV file I/O (e.g. pd.read_csv)\n",
    "\n",
    "# # Input data files are available in the read-only \"../input/\" directory\n",
    "# # For example, running this (by clicking run or pressing Shift+Enter) will list all files under the input directory\n",
    "\n",
    "# import os\n",
    "# for dirname, _, filenames in os.walk('/kaggle/input'):\n",
    "#     for filename in filenames:\n",
    "#         print(os.path.join(dirname, filename))\n",
    "\n",
    "# # You can write up to 20GB to the current directory (/kaggle/working/) that gets preserved as output when you create a version using \"Save & Run All\" \n",
    "# # You can also write temporary files to /kaggle/temp/, but they won't be saved outside of the current session"
   ]
  },
  {
   "cell_type": "code",
   "execution_count": 2,
   "id": "4ddaa903",
   "metadata": {
    "_kg_hide-input": true,
    "_kg_hide-output": true,
    "collapsed": true,
    "execution": {
     "iopub.execute_input": "2025-01-12T12:05:04.816900Z",
     "iopub.status.busy": "2025-01-12T12:05:04.816364Z",
     "iopub.status.idle": "2025-01-12T12:05:29.546852Z",
     "shell.execute_reply": "2025-01-12T12:05:29.545376Z"
    },
    "jupyter": {
     "outputs_hidden": true
    },
    "papermill": {
     "duration": 24.738608,
     "end_time": "2025-01-12T12:05:29.549890",
     "exception": false,
     "start_time": "2025-01-12T12:05:04.811282",
     "status": "completed"
    },
    "tags": []
   },
   "outputs": [],
   "source": [
    "# !pip install /kaggle/input/pip-install-lifelines/autograd-1.7.0-py3-none-any.whl\n",
    "# !pip install /kaggle/input/pip-install-lifelines/autograd-gamma-0.5.0.tar.gz\n",
    "# !pip install /kaggle/input/pip-install-lifelines/interface_meta-1.3.0-py3-none-any.whl\n",
    "# !pip install /kaggle/input/pip-install-lifelines/formulaic-1.0.2-py3-none-any.whl\n",
    "# !pip install /kaggle/input/pip-install-lifelines/lifelines-0.30.0-py3-none-any.whl"
   ]
  },
  {
   "cell_type": "markdown",
   "id": "8a188830",
   "metadata": {
    "papermill": {
     "duration": 0.005155,
     "end_time": "2025-01-12T12:05:29.560592",
     "exception": false,
     "start_time": "2025-01-12T12:05:29.555437",
     "status": "completed"
    },
    "tags": []
   },
   "source": [
    "<h1 align='center'>Importing Libraries</h1>"
   ]
  },
  {
   "cell_type": "code",
   "execution_count": 1,
   "id": "ed6e3779",
   "metadata": {
    "execution": {
     "iopub.execute_input": "2025-01-12T12:05:29.572675Z",
     "iopub.status.busy": "2025-01-12T12:05:29.572219Z",
     "iopub.status.idle": "2025-01-12T12:05:33.674908Z",
     "shell.execute_reply": "2025-01-12T12:05:33.673413Z"
    },
    "papermill": {
     "duration": 4.111285,
     "end_time": "2025-01-12T12:05:33.677090",
     "exception": false,
     "start_time": "2025-01-12T12:05:29.565805",
     "status": "completed"
    },
    "tags": []
   },
   "outputs": [],
   "source": [
    "import pandas as pd\n",
    "import numpy as np\n",
    "import lifelines\n",
    "from lifelines import KaplanMeierFitter, NelsonAalenFitter\n",
    "import xgboost as xgb\n",
    "from sklearn.preprocessing import MinMaxScaler\n",
    "from sklearn.model_selection import KFold\n",
    "from lifelines.utils import concordance_index\n",
    "import lightgbm as lgb\n",
    "from termcolor import colored\n",
    "import warnings\n",
    "\n",
    "warnings.filterwarnings('ignore')"
   ]
  },
  {
   "cell_type": "markdown",
   "id": "eca322be",
   "metadata": {
    "papermill": {
     "duration": 0.005121,
     "end_time": "2025-01-12T12:05:33.687949",
     "exception": false,
     "start_time": "2025-01-12T12:05:33.682828",
     "status": "completed"
    },
    "tags": []
   },
   "source": [
    "<h1 align='center'>Loading data</h1>"
   ]
  },
  {
   "cell_type": "code",
   "execution_count": 3,
   "id": "e451c999",
   "metadata": {
    "execution": {
     "iopub.execute_input": "2025-01-12T12:05:33.700527Z",
     "iopub.status.busy": "2025-01-12T12:05:33.699809Z",
     "iopub.status.idle": "2025-01-12T12:05:34.134907Z",
     "shell.execute_reply": "2025-01-12T12:05:34.133643Z"
    },
    "papermill": {
     "duration": 0.443765,
     "end_time": "2025-01-12T12:05:34.137097",
     "exception": false,
     "start_time": "2025-01-12T12:05:33.693332",
     "status": "completed"
    },
    "tags": []
   },
   "outputs": [],
   "source": [
    "train = pd.read_csv('data/train.csv', index_col='ID')\n",
    "test = pd.read_csv('data/test.csv', index_col='ID')\n",
    "sub = pd.read_csv('data/sample_submission.csv', index_col='ID')\n",
    "data_description = pd.read_csv('data/data_dictionary.csv')"
   ]
  },
  {
   "cell_type": "markdown",
   "id": "c9258cf2",
   "metadata": {
    "papermill": {
     "duration": 0.005323,
     "end_time": "2025-01-12T12:05:34.148108",
     "exception": false,
     "start_time": "2025-01-12T12:05:34.142785",
     "status": "completed"
    },
    "tags": []
   },
   "source": [
    "<h1 align='center'>Preprocessing & Target encoding</h1>"
   ]
  },
  {
   "cell_type": "code",
   "execution_count": 4,
   "id": "e46948b2",
   "metadata": {
    "execution": {
     "iopub.execute_input": "2025-01-12T12:05:34.160118Z",
     "iopub.status.busy": "2025-01-12T12:05:34.159667Z",
     "iopub.status.idle": "2025-01-12T12:05:34.168272Z",
     "shell.execute_reply": "2025-01-12T12:05:34.167089Z"
    },
    "papermill": {
     "duration": 0.016571,
     "end_time": "2025-01-12T12:05:34.170112",
     "exception": false,
     "start_time": "2025-01-12T12:05:34.153541",
     "status": "completed"
    },
    "tags": []
   },
   "outputs": [],
   "source": [
    "# Categorical & Numeric columns \n",
    "cat_cols = []\n",
    "num_cols = []\n",
    "for v, t in data_description[['variable', 'type']].values:\n",
    "    if t == 'Categorical' and v != 'efs':\n",
    "        cat_cols.append(v)\n",
    "    elif not v in ['efs_time', 'efs']:\n",
    "        num_cols.append(v)"
   ]
  },
  {
   "cell_type": "markdown",
   "id": "155207e2",
   "metadata": {
    "papermill": {
     "duration": 0.006029,
     "end_time": "2025-01-12T12:05:34.181600",
     "exception": false,
     "start_time": "2025-01-12T12:05:34.175571",
     "status": "completed"
    },
    "tags": []
   },
   "source": [
    "<span style='font-size:14pt' align='center'>I use KaplanMeierFitter and NelsonAalenFitter to properly combine efs and efs_time.</span><br>\n",
    "<span style='font-size:14pt' align='center'>Reducing labels by 0.1 in the absence of an event increases CV and LB scores!</span>"
   ]
  },
  {
   "cell_type": "code",
   "execution_count": 5,
   "id": "cca9093a",
   "metadata": {
    "execution": {
     "iopub.execute_input": "2025-01-12T12:05:34.194470Z",
     "iopub.status.busy": "2025-01-12T12:05:34.194092Z",
     "iopub.status.idle": "2025-01-12T12:05:34.302965Z",
     "shell.execute_reply": "2025-01-12T12:05:34.301928Z"
    },
    "papermill": {
     "duration": 0.117595,
     "end_time": "2025-01-12T12:05:34.305009",
     "exception": false,
     "start_time": "2025-01-12T12:05:34.187414",
     "status": "completed"
    },
    "tags": []
   },
   "outputs": [],
   "source": [
    "naf = NelsonAalenFitter()\n",
    "naf.fit(train['efs_time'], train['efs'])\n",
    "train['naf_label'] = -naf.cumulative_hazard_at_times(train['efs_time']).values\n",
    "train.loc[train['efs'] == 0, 'naf_label'] -= 0.1\n",
    "\n",
    "kmf = KaplanMeierFitter()\n",
    "kmf.fit(train['efs_time'], train['efs'])\n",
    "train['km_label'] = kmf.survival_function_at_times(train['efs_time']).values\n",
    "train.loc[train['efs'] == 0, 'km_label'] -= 0.1"
   ]
  },
  {
   "cell_type": "code",
   "execution_count": 19,
   "id": "8cc79943",
   "metadata": {},
   "outputs": [],
   "source": [
    "# train.columns\n"
   ]
  },
  {
   "cell_type": "code",
   "execution_count": 6,
   "id": "cf3d289d",
   "metadata": {},
   "outputs": [
    {
     "data": {
      "text/html": [
       "<div>\n",
       "<style scoped>\n",
       "    .dataframe tbody tr th:only-of-type {\n",
       "        vertical-align: middle;\n",
       "    }\n",
       "\n",
       "    .dataframe tbody tr th {\n",
       "        vertical-align: top;\n",
       "    }\n",
       "\n",
       "    .dataframe thead th {\n",
       "        text-align: right;\n",
       "    }\n",
       "</style>\n",
       "<table border=\"1\" class=\"dataframe\">\n",
       "  <thead>\n",
       "    <tr style=\"text-align: right;\">\n",
       "      <th></th>\n",
       "      <th>dri_score</th>\n",
       "      <th>psych_disturb</th>\n",
       "      <th>cyto_score</th>\n",
       "      <th>diabetes</th>\n",
       "      <th>hla_match_c_high</th>\n",
       "      <th>hla_high_res_8</th>\n",
       "      <th>tbi_status</th>\n",
       "      <th>arrhythmia</th>\n",
       "      <th>hla_low_res_6</th>\n",
       "      <th>graft_type</th>\n",
       "      <th>...</th>\n",
       "      <th>melphalan_dose</th>\n",
       "      <th>hla_low_res_8</th>\n",
       "      <th>cardiac</th>\n",
       "      <th>hla_match_drb1_high</th>\n",
       "      <th>pulm_moderate</th>\n",
       "      <th>hla_low_res_10</th>\n",
       "      <th>efs</th>\n",
       "      <th>efs_time</th>\n",
       "      <th>naf_label</th>\n",
       "      <th>km_label</th>\n",
       "    </tr>\n",
       "    <tr>\n",
       "      <th>ID</th>\n",
       "      <th></th>\n",
       "      <th></th>\n",
       "      <th></th>\n",
       "      <th></th>\n",
       "      <th></th>\n",
       "      <th></th>\n",
       "      <th></th>\n",
       "      <th></th>\n",
       "      <th></th>\n",
       "      <th></th>\n",
       "      <th></th>\n",
       "      <th></th>\n",
       "      <th></th>\n",
       "      <th></th>\n",
       "      <th></th>\n",
       "      <th></th>\n",
       "      <th></th>\n",
       "      <th></th>\n",
       "      <th></th>\n",
       "      <th></th>\n",
       "      <th></th>\n",
       "    </tr>\n",
       "  </thead>\n",
       "  <tbody>\n",
       "    <tr>\n",
       "      <th>0</th>\n",
       "      <td>N/A - non-malignant indication</td>\n",
       "      <td>No</td>\n",
       "      <td>NaN</td>\n",
       "      <td>No</td>\n",
       "      <td>NaN</td>\n",
       "      <td>NaN</td>\n",
       "      <td>No TBI</td>\n",
       "      <td>No</td>\n",
       "      <td>6.0</td>\n",
       "      <td>Bone marrow</td>\n",
       "      <td>...</td>\n",
       "      <td>N/A, Mel not given</td>\n",
       "      <td>8.0</td>\n",
       "      <td>No</td>\n",
       "      <td>2.0</td>\n",
       "      <td>No</td>\n",
       "      <td>10.0</td>\n",
       "      <td>0.0</td>\n",
       "      <td>42.356</td>\n",
       "      <td>-0.879367</td>\n",
       "      <td>0.358687</td>\n",
       "    </tr>\n",
       "    <tr>\n",
       "      <th>1</th>\n",
       "      <td>Intermediate</td>\n",
       "      <td>No</td>\n",
       "      <td>Intermediate</td>\n",
       "      <td>No</td>\n",
       "      <td>2.0</td>\n",
       "      <td>8.0</td>\n",
       "      <td>TBI +- Other, &gt;cGy</td>\n",
       "      <td>No</td>\n",
       "      <td>6.0</td>\n",
       "      <td>Peripheral blood</td>\n",
       "      <td>...</td>\n",
       "      <td>N/A, Mel not given</td>\n",
       "      <td>8.0</td>\n",
       "      <td>No</td>\n",
       "      <td>2.0</td>\n",
       "      <td>Yes</td>\n",
       "      <td>10.0</td>\n",
       "      <td>1.0</td>\n",
       "      <td>4.672</td>\n",
       "      <td>-0.165155</td>\n",
       "      <td>0.847759</td>\n",
       "    </tr>\n",
       "    <tr>\n",
       "      <th>2</th>\n",
       "      <td>N/A - non-malignant indication</td>\n",
       "      <td>No</td>\n",
       "      <td>NaN</td>\n",
       "      <td>No</td>\n",
       "      <td>2.0</td>\n",
       "      <td>8.0</td>\n",
       "      <td>No TBI</td>\n",
       "      <td>No</td>\n",
       "      <td>6.0</td>\n",
       "      <td>Bone marrow</td>\n",
       "      <td>...</td>\n",
       "      <td>N/A, Mel not given</td>\n",
       "      <td>8.0</td>\n",
       "      <td>No</td>\n",
       "      <td>2.0</td>\n",
       "      <td>No</td>\n",
       "      <td>10.0</td>\n",
       "      <td>0.0</td>\n",
       "      <td>19.793</td>\n",
       "      <td>-0.871252</td>\n",
       "      <td>0.362424</td>\n",
       "    </tr>\n",
       "    <tr>\n",
       "      <th>3</th>\n",
       "      <td>High</td>\n",
       "      <td>No</td>\n",
       "      <td>Intermediate</td>\n",
       "      <td>No</td>\n",
       "      <td>2.0</td>\n",
       "      <td>8.0</td>\n",
       "      <td>No TBI</td>\n",
       "      <td>No</td>\n",
       "      <td>6.0</td>\n",
       "      <td>Bone marrow</td>\n",
       "      <td>...</td>\n",
       "      <td>N/A, Mel not given</td>\n",
       "      <td>8.0</td>\n",
       "      <td>No</td>\n",
       "      <td>2.0</td>\n",
       "      <td>No</td>\n",
       "      <td>10.0</td>\n",
       "      <td>0.0</td>\n",
       "      <td>102.349</td>\n",
       "      <td>-0.883792</td>\n",
       "      <td>0.356661</td>\n",
       "    </tr>\n",
       "    <tr>\n",
       "      <th>4</th>\n",
       "      <td>High</td>\n",
       "      <td>No</td>\n",
       "      <td>NaN</td>\n",
       "      <td>No</td>\n",
       "      <td>2.0</td>\n",
       "      <td>8.0</td>\n",
       "      <td>No TBI</td>\n",
       "      <td>No</td>\n",
       "      <td>6.0</td>\n",
       "      <td>Peripheral blood</td>\n",
       "      <td>...</td>\n",
       "      <td>MEL</td>\n",
       "      <td>8.0</td>\n",
       "      <td>No</td>\n",
       "      <td>2.0</td>\n",
       "      <td>No</td>\n",
       "      <td>10.0</td>\n",
       "      <td>0.0</td>\n",
       "      <td>16.223</td>\n",
       "      <td>-0.866400</td>\n",
       "      <td>0.364674</td>\n",
       "    </tr>\n",
       "  </tbody>\n",
       "</table>\n",
       "<p>5 rows × 61 columns</p>\n",
       "</div>"
      ],
      "text/plain": [
       "                         dri_score psych_disturb    cyto_score diabetes  \\\n",
       "ID                                                                        \n",
       "0   N/A - non-malignant indication            No           NaN       No   \n",
       "1                     Intermediate            No  Intermediate       No   \n",
       "2   N/A - non-malignant indication            No           NaN       No   \n",
       "3                             High            No  Intermediate       No   \n",
       "4                             High            No           NaN       No   \n",
       "\n",
       "    hla_match_c_high  hla_high_res_8          tbi_status arrhythmia  \\\n",
       "ID                                                                    \n",
       "0                NaN             NaN              No TBI         No   \n",
       "1                2.0             8.0  TBI +- Other, >cGy         No   \n",
       "2                2.0             8.0              No TBI         No   \n",
       "3                2.0             8.0              No TBI         No   \n",
       "4                2.0             8.0              No TBI         No   \n",
       "\n",
       "    hla_low_res_6        graft_type  ...      melphalan_dose hla_low_res_8  \\\n",
       "ID                                   ...                                     \n",
       "0             6.0       Bone marrow  ...  N/A, Mel not given           8.0   \n",
       "1             6.0  Peripheral blood  ...  N/A, Mel not given           8.0   \n",
       "2             6.0       Bone marrow  ...  N/A, Mel not given           8.0   \n",
       "3             6.0       Bone marrow  ...  N/A, Mel not given           8.0   \n",
       "4             6.0  Peripheral blood  ...                 MEL           8.0   \n",
       "\n",
       "   cardiac hla_match_drb1_high  pulm_moderate hla_low_res_10  efs  efs_time  \\\n",
       "ID                                                                            \n",
       "0       No                 2.0             No           10.0  0.0    42.356   \n",
       "1       No                 2.0            Yes           10.0  1.0     4.672   \n",
       "2       No                 2.0             No           10.0  0.0    19.793   \n",
       "3       No                 2.0             No           10.0  0.0   102.349   \n",
       "4       No                 2.0             No           10.0  0.0    16.223   \n",
       "\n",
       "   naf_label  km_label  \n",
       "ID                      \n",
       "0  -0.879367  0.358687  \n",
       "1  -0.165155  0.847759  \n",
       "2  -0.871252  0.362424  \n",
       "3  -0.883792  0.356661  \n",
       "4  -0.866400  0.364674  \n",
       "\n",
       "[5 rows x 61 columns]"
      ]
     },
     "execution_count": 6,
     "metadata": {},
     "output_type": "execute_result"
    }
   ],
   "source": [
    "train.head()"
   ]
  },
  {
   "cell_type": "code",
   "execution_count": 8,
   "id": "dad240be",
   "metadata": {},
   "outputs": [],
   "source": [
    "# import matplotlib.pyplot as plt\n",
    "\n",
    "# # Iterate over each input feature\n",
    "# for feature in train.columns:\n",
    "#     # Exclude the target columns\n",
    "#     #if feature not in target_cols:\n",
    "#         # Create a histogram for the feature\n",
    "#         plt.hist(train[feature])\n",
    "#         plt.title(f\"{feature} Distribution\")\n",
    "#         plt.xlabel(feature)\n",
    "#         plt.ylabel(\"Count\")\n",
    "#         plt.show()\n"
   ]
  },
  {
   "cell_type": "markdown",
   "id": "3b6a82ca",
   "metadata": {
    "papermill": {
     "duration": 0.004971,
     "end_time": "2025-01-12T12:05:34.315502",
     "exception": false,
     "start_time": "2025-01-12T12:05:34.310531",
     "status": "completed"
    },
    "tags": []
   },
   "source": [
    "<span style='font-size:14pt' align='center'>Models' hyperparameters:</span>"
   ]
  },
  {
   "cell_type": "code",
   "execution_count": 9,
   "id": "1d743467",
   "metadata": {
    "execution": {
     "iopub.execute_input": "2025-01-12T12:05:34.327461Z",
     "iopub.status.busy": "2025-01-12T12:05:34.327027Z",
     "iopub.status.idle": "2025-01-12T12:05:34.332601Z",
     "shell.execute_reply": "2025-01-12T12:05:34.331492Z"
    },
    "papermill": {
     "duration": 0.01374,
     "end_time": "2025-01-12T12:05:34.334516",
     "exception": false,
     "start_time": "2025-01-12T12:05:34.320776",
     "status": "completed"
    },
    "tags": []
   },
   "outputs": [],
   "source": [
    "# XGBoost Parameters\n",
    "xgb_naf_params = {'max_depth': 2,\n",
    "            'learning_rate': 0.009806810287436414,\n",
    "            'n_estimators': 9110,\n",
    "            'reg_lambda': 0.16957442536602274,\n",
    "            'random_state': 12,\n",
    "           'objective': 'reg:squarederror',\n",
    "            'enable_categorical': True}\n",
    "xgb_km_params = {'max_depth': 2,\n",
    "          'learning_rate': 0.012887726635046637,\n",
    "          'n_estimators': 5759,\n",
    "          'reg_lambda': 0.014550241891247515,\n",
    "          'random_state': 25,\n",
    "          'objective': 'reg:squarederror',\n",
    "          'enable_categorical': True}"
   ]
  },
  {
   "cell_type": "code",
   "execution_count": 10,
   "id": "1ec9ab13",
   "metadata": {
    "execution": {
     "iopub.execute_input": "2025-01-12T12:05:34.346483Z",
     "iopub.status.busy": "2025-01-12T12:05:34.346075Z",
     "iopub.status.idle": "2025-01-12T12:05:34.351095Z",
     "shell.execute_reply": "2025-01-12T12:05:34.350040Z"
    },
    "papermill": {
     "duration": 0.012973,
     "end_time": "2025-01-12T12:05:34.352827",
     "exception": false,
     "start_time": "2025-01-12T12:05:34.339854",
     "status": "completed"
    },
    "tags": []
   },
   "outputs": [],
   "source": [
    "#LightGBM Parameters\n",
    "lgbm_naf_params = {'max_depth': 3,\n",
    "                    'learning_rate': 0.03251780857602963,\n",
    "                    'n_estimators': 1999,\n",
    "                    'reg_lambda': 0.01478462915287414,\n",
    "                    'random_state': 53,\n",
    "                    'verbose': -1}\n",
    "\n",
    "lgbm_km_params = {'max_depth': 2,\n",
    "                  'learning_rate': 0.020089200208762432,\n",
    "                  'n_estimators': 3757,\n",
    "                  'reg_lambda': 0.004744665699048939,\n",
    "                  'random_state': 0,\n",
    "                  'verbose': -1}"
   ]
  },
  {
   "cell_type": "markdown",
   "id": "4c7fd52a",
   "metadata": {
    "papermill": {
     "duration": 0.004888,
     "end_time": "2025-01-12T12:05:34.363284",
     "exception": false,
     "start_time": "2025-01-12T12:05:34.358396",
     "status": "completed"
    },
    "tags": []
   },
   "source": [
    "<h1 align='center'>Cross Validation</h1>"
   ]
  },
  {
   "cell_type": "code",
   "execution_count": 11,
   "id": "09d25d10",
   "metadata": {
    "execution": {
     "iopub.execute_input": "2025-01-12T12:05:34.375122Z",
     "iopub.status.busy": "2025-01-12T12:05:34.374632Z",
     "iopub.status.idle": "2025-01-12T12:09:15.875267Z",
     "shell.execute_reply": "2025-01-12T12:09:15.874046Z"
    },
    "papermill": {
     "duration": 221.508915,
     "end_time": "2025-01-12T12:09:15.877401",
     "exception": false,
     "start_time": "2025-01-12T12:05:34.368486",
     "status": "completed"
    },
    "tags": []
   },
   "outputs": [
    {
     "name": "stdout",
     "output_type": "stream",
     "text": [
      "Fold #0 C-index: 0.6861509042238558\n",
      "Fold #1 C-index: 0.6822928821138596\n",
      "Fold #2 C-index: 0.6905857995259603\n",
      "Fold #3 C-index: 0.684725147062508\n",
      "Fold #4 C-index: 0.6833354348961904\n",
      "Mean C-index: 0.6854180335644748\tFull C-index: 0.6853448691496665\n"
     ]
    }
   ],
   "source": [
    "target_cols = ['efs', 'efs_time', 'km_label', 'naf_label']\n",
    "all_preds = []\n",
    "all_efs = []\n",
    "all_efs_time = []\n",
    "scores = []\n",
    "cv = KFold(n_splits=5)\n",
    "\n",
    "for i, (train_indexes, val_indexes) in enumerate(cv.split(train)):\n",
    "    train_data = train.iloc[train_indexes]\n",
    "    val_data = train.iloc[val_indexes]\n",
    "    cat_cols = train_data.drop(columns=target_cols).select_dtypes(include=object).columns.values.tolist()\n",
    "    \n",
    "    \n",
    "    train_data[cat_cols] = train_data[cat_cols].astype('category')\n",
    "    val_data[cat_cols] = val_data[cat_cols].astype('category')\n",
    "    all_efs += list(val_data['efs'].values)\n",
    "    all_efs_time += list(val_data['efs_time'].values)\n",
    "    \n",
    "    train_lgb_naf = lgb.Dataset(train_data.drop(columns=target_cols), label=train_data['naf_label'], categorical_feature=cat_cols)\n",
    "    train_lgb_km = lgb.Dataset(train_data.drop(columns=target_cols), label=train_data['km_label'], categorical_feature=cat_cols)\n",
    "\n",
    "    best_naf = lgb.train(lgbm_naf_params, train_lgb_naf, 1000, valid_sets=[train_lgb_naf])\n",
    "    best_km = lgb.train(lgbm_km_params, train_lgb_km, 1000, valid_sets=[train_lgb_km])\n",
    "\n",
    "    \n",
    "    xgb_naf = xgb.XGBRegressor(**xgb_naf_params)\n",
    "    xgb_km = xgb.XGBRegressor(**xgb_km_params)\n",
    "\n",
    "    \n",
    "\n",
    "    xgb_naf.fit(train_data.drop(columns=target_cols), train_data['naf_label'])\n",
    "    xgb_km.fit(train_data.drop(columns=target_cols), train_data['km_label'])\n",
    "    \n",
    "    \n",
    "\n",
    "    \n",
    "    preds_lgb_naf = best_naf.predict(val_data.drop(columns=target_cols))\n",
    "    preds_lgb_km = best_km.predict(val_data.drop(columns=target_cols))\n",
    "    preds_xgb_naf = xgb_naf.predict(val_data.drop(columns=target_cols))\n",
    "    preds_xgb_km = xgb_km.predict(val_data.drop(columns=target_cols))\n",
    "\n",
    "    \n",
    "    preds = (preds_lgb_naf + preds_lgb_km + preds_xgb_naf + preds_xgb_km) / 4\n",
    "    all_preds += list(preds)\n",
    "    score = concordance_index(val_data['efs_time'], -preds, val_data['efs'])\n",
    "    scores.append(score)\n",
    "\n",
    "    print(f'Fold #{i} C-index: {score}')\n",
    "\n",
    "print(f'Mean C-index: {sum(scores) / cv.n_splits}\\tFull C-index: {concordance_index(np.array(all_efs_time), -np.array(all_preds), np.array(all_efs))}')"
   ]
  },
  {
   "cell_type": "markdown",
   "id": "12400b84",
   "metadata": {},
   "source": [
    "# should exceed 0.69"
   ]
  },
  {
   "cell_type": "markdown",
   "id": "751a5c0b",
   "metadata": {
    "papermill": {
     "duration": 0.006557,
     "end_time": "2025-01-12T12:09:15.890025",
     "exception": false,
     "start_time": "2025-01-12T12:09:15.883468",
     "status": "completed"
    },
    "tags": []
   },
   "source": [
    "<h1 align='center'>Training & Inference of final models</h1>"
   ]
  },
  {
   "cell_type": "code",
   "execution_count": 12,
   "id": "8d5e58e5",
   "metadata": {
    "execution": {
     "iopub.execute_input": "2025-01-12T12:09:15.903002Z",
     "iopub.status.busy": "2025-01-12T12:09:15.902640Z",
     "iopub.status.idle": "2025-01-12T12:10:06.930339Z",
     "shell.execute_reply": "2025-01-12T12:10:06.929249Z"
    },
    "papermill": {
     "duration": 51.036653,
     "end_time": "2025-01-12T12:10:06.932698",
     "exception": false,
     "start_time": "2025-01-12T12:09:15.896045",
     "status": "completed"
    },
    "tags": []
   },
   "outputs": [],
   "source": [
    "cat_cols = train.drop(columns=target_cols).select_dtypes(include=object).columns.values.tolist()\n",
    "    \n",
    "    \n",
    "train[cat_cols] = train[cat_cols].astype('category')\n",
    "test[cat_cols] = test[cat_cols].astype('category')\n",
    "train_lgb_naf = lgb.Dataset(train.drop(columns=target_cols), label=train['naf_label'], categorical_feature=cat_cols)\n",
    "train_lgb_km = lgb.Dataset(train.drop(columns=target_cols), label=train['km_label'], categorical_feature=cat_cols)\n",
    "\n",
    "best_naf = lgb.train(lgbm_naf_params, train_lgb_naf, 1000, valid_sets=[train_lgb_naf])\n",
    "best_km = lgb.train(lgbm_km_params, train_lgb_km, 1000, valid_sets=[train_lgb_km])\n",
    "\n",
    "\n",
    "xgb_naf = xgb.XGBRegressor(**xgb_naf_params)\n",
    "xgb_km = xgb.XGBRegressor(**xgb_km_params)\n",
    "\n",
    "\n",
    "\n",
    "xgb_naf.fit(train.drop(columns=target_cols), train['naf_label'])\n",
    "xgb_km.fit(train.drop(columns=target_cols), train['km_label'])\n",
    "\n",
    "\n",
    "\n",
    "\n",
    "preds_lgb_naf = best_naf.predict(test)\n",
    "preds_lgb_km = best_km.predict(test)\n",
    "preds_xgb_naf = xgb_naf.predict(test)\n",
    "preds_xgb_km = xgb_km.predict(test)\n",
    "\n",
    "\n",
    "preds = (preds_lgb_naf + preds_lgb_km + preds_xgb_naf + preds_xgb_km) / 4"
   ]
  },
  {
   "cell_type": "code",
   "execution_count": 11,
   "id": "7c1b22e2",
   "metadata": {
    "execution": {
     "iopub.execute_input": "2025-01-12T12:10:06.945702Z",
     "iopub.status.busy": "2025-01-12T12:10:06.945296Z",
     "iopub.status.idle": "2025-01-12T12:10:06.954669Z",
     "shell.execute_reply": "2025-01-12T12:10:06.953474Z"
    },
    "papermill": {
     "duration": 0.018233,
     "end_time": "2025-01-12T12:10:06.956902",
     "exception": false,
     "start_time": "2025-01-12T12:10:06.938669",
     "status": "completed"
    },
    "tags": []
   },
   "outputs": [],
   "source": [
    "sub['prediction'] = preds\n",
    "sub.to_csv('data/submission.csv')"
   ]
  }
 ],
 "metadata": {
  "kaggle": {
   "accelerator": "none",
   "dataSources": [
    {
     "databundleVersionId": 10381525,
     "sourceId": 70942,
     "sourceType": "competition"
    },
    {
     "sourceId": 211322530,
     "sourceType": "kernelVersion"
    }
   ],
   "dockerImageVersionId": 30822,
   "isGpuEnabled": false,
   "isInternetEnabled": false,
   "language": "python",
   "sourceType": "notebook"
  },
  "kernelspec": {
   "display_name": "Python 3",
   "language": "python",
   "name": "python3"
  },
  "language_info": {
   "codemirror_mode": {
    "name": "ipython",
    "version": 3
   },
   "file_extension": ".py",
   "mimetype": "text/x-python",
   "name": "python",
   "nbconvert_exporter": "python",
   "pygments_lexer": "ipython3",
   "version": "3.8.18"
  },
  "papermill": {
   "default_parameters": {},
   "duration": 305.709944,
   "end_time": "2025-01-12T12:10:07.886239",
   "environment_variables": {},
   "exception": null,
   "input_path": "__notebook__.ipynb",
   "output_path": "__notebook__.ipynb",
   "parameters": {},
   "start_time": "2025-01-12T12:05:02.176295",
   "version": "2.6.0"
  }
 },
 "nbformat": 4,
 "nbformat_minor": 5
}
